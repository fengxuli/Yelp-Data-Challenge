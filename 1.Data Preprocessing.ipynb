{
 "cells": [
  {
   "cell_type": "markdown",
   "metadata": {},
   "source": [
    "## Yelp Project Part I: Data Preprocessing"
   ]
  },
  {
   "cell_type": "markdown",
   "metadata": {},
   "source": [
    "### 1. Transform original Business Json data sets to csv"
   ]
  },
  {
   "cell_type": "code",
   "execution_count": 1,
   "metadata": {},
   "outputs": [],
   "source": [
    "import pandas as pd  \n",
    "import numpy as np\n",
    "import json  \n",
    "import ast\n",
    "from pandas.io.json import json_normalize\n",
    "import warnings\n",
    "warnings.filterwarnings(\"ignore\")"
   ]
  },
  {
   "cell_type": "code",
   "execution_count": 2,
   "metadata": {},
   "outputs": [],
   "source": [
    "yelp_business = []\n",
    "for line in open('business.json', encoding=\"utf8\"):\n",
    "    yelp_business.append(json.loads(line))"
   ]
  },
  {
   "cell_type": "code",
   "execution_count": 3,
   "metadata": {},
   "outputs": [],
   "source": [
    "# Deal witht the embedded Json structure\n",
    "data = dict()\n",
    "json_file = []\n",
    "def format_dict(var, str_key):\n",
    "    global data\n",
    "    try: \n",
    "        var = ast.literal_eval(var)\n",
    "    except: pass\n",
    "    \n",
    "    if type(var) == type({}):\n",
    "        for key in var:\n",
    "            tmp_key = str_key + \"_\" + key\n",
    "            format_dict(var[key], tmp_key)    \n",
    "    else:\n",
    "        #print({str_key[2:] : var})\n",
    "        data = {**data, **{str_key[2:] : var}}\n",
    "        return 0\n"
   ]
  },
  {
   "cell_type": "code",
   "execution_count": 4,
   "metadata": {},
   "outputs": [],
   "source": [
    "for i in yelp_business:\n",
    "    format_dict(i, \" \")\n",
    "    json_file.append(data)"
   ]
  },
  {
   "cell_type": "code",
   "execution_count": 5,
   "metadata": {},
   "outputs": [],
   "source": [
    "df = json_normalize(json_file)"
   ]
  },
  {
   "cell_type": "code",
   "execution_count": 8,
   "metadata": {},
   "outputs": [
    {
     "data": {
      "text/plain": [
       "(192609, 109)"
      ]
     },
     "execution_count": 8,
     "metadata": {},
     "output_type": "execute_result"
    }
   ],
   "source": [
    "df.shape"
   ]
  },
  {
   "cell_type": "code",
   "execution_count": 9,
   "metadata": {},
   "outputs": [],
   "source": [
    "IsNa = df.isnull().sum()\n",
    "agg_category = list(IsNa[IsNa == len(df)].index)"
   ]
  },
  {
   "cell_type": "code",
   "execution_count": 10,
   "metadata": {},
   "outputs": [
    {
     "data": {
      "text/plain": [
       "['attributes',\n",
       " 'attributes_Ambience',\n",
       " 'attributes_BestNights',\n",
       " 'attributes_BusinessParking',\n",
       " 'attributes_DietaryRestrictions',\n",
       " 'attributes_GoodForMeal',\n",
       " 'attributes_HairSpecializesIn',\n",
       " 'attributes_Music',\n",
       " 'hours']"
      ]
     },
     "execution_count": 10,
     "metadata": {},
     "output_type": "execute_result"
    }
   ],
   "source": [
    "agg_category"
   ]
  },
  {
   "cell_type": "code",
   "execution_count": 11,
   "metadata": {},
   "outputs": [],
   "source": [
    "df.drop(agg_category,axis=1,inplace=True)"
   ]
  },
  {
   "cell_type": "code",
   "execution_count": 12,
   "metadata": {},
   "outputs": [
    {
     "data": {
      "text/plain": [
       "Index(['address', 'attributes_AcceptsInsurance', 'attributes_AgesAllowed',\n",
       "       'attributes_Alcohol', 'attributes_Ambience_casual',\n",
       "       'attributes_Ambience_classy', 'attributes_Ambience_divey',\n",
       "       'attributes_Ambience_hipster', 'attributes_Ambience_intimate',\n",
       "       'attributes_Ambience_romantic', 'attributes_Ambience_touristy',\n",
       "       'attributes_Ambience_trendy', 'attributes_Ambience_upscale',\n",
       "       'attributes_BYOB', 'attributes_BYOBCorkage',\n",
       "       'attributes_BestNights_friday', 'attributes_BestNights_monday',\n",
       "       'attributes_BestNights_saturday', 'attributes_BestNights_sunday',\n",
       "       'attributes_BestNights_thursday', 'attributes_BestNights_tuesday',\n",
       "       'attributes_BestNights_wednesday', 'attributes_BikeParking',\n",
       "       'attributes_BusinessAcceptsBitcoin',\n",
       "       'attributes_BusinessAcceptsCreditCards',\n",
       "       'attributes_BusinessParking_garage', 'attributes_BusinessParking_lot',\n",
       "       'attributes_BusinessParking_street', 'attributes_BusinessParking_valet',\n",
       "       'attributes_BusinessParking_validated', 'attributes_ByAppointmentOnly',\n",
       "       'attributes_Caters', 'attributes_CoatCheck', 'attributes_Corkage',\n",
       "       'attributes_DietaryRestrictions_dairy-free',\n",
       "       'attributes_DietaryRestrictions_gluten-free',\n",
       "       'attributes_DietaryRestrictions_halal',\n",
       "       'attributes_DietaryRestrictions_kosher',\n",
       "       'attributes_DietaryRestrictions_soy-free',\n",
       "       'attributes_DietaryRestrictions_vegan',\n",
       "       'attributes_DietaryRestrictions_vegetarian', 'attributes_DogsAllowed',\n",
       "       'attributes_DriveThru', 'attributes_GoodForDancing',\n",
       "       'attributes_GoodForKids', 'attributes_GoodForMeal_breakfast',\n",
       "       'attributes_GoodForMeal_brunch', 'attributes_GoodForMeal_dessert',\n",
       "       'attributes_GoodForMeal_dinner', 'attributes_GoodForMeal_latenight',\n",
       "       'attributes_GoodForMeal_lunch',\n",
       "       'attributes_HairSpecializesIn_africanamerican',\n",
       "       'attributes_HairSpecializesIn_asian',\n",
       "       'attributes_HairSpecializesIn_coloring',\n",
       "       'attributes_HairSpecializesIn_curly',\n",
       "       'attributes_HairSpecializesIn_extensions',\n",
       "       'attributes_HairSpecializesIn_kids',\n",
       "       'attributes_HairSpecializesIn_perms',\n",
       "       'attributes_HairSpecializesIn_straightperms', 'attributes_HappyHour',\n",
       "       'attributes_HasTV', 'attributes_Music_background_music',\n",
       "       'attributes_Music_dj', 'attributes_Music_jukebox',\n",
       "       'attributes_Music_karaoke', 'attributes_Music_live',\n",
       "       'attributes_Music_no_music', 'attributes_Music_video',\n",
       "       'attributes_NoiseLevel', 'attributes_Open24Hours',\n",
       "       'attributes_OutdoorSeating', 'attributes_RestaurantsAttire',\n",
       "       'attributes_RestaurantsCounterService',\n",
       "       'attributes_RestaurantsDelivery', 'attributes_RestaurantsGoodForGroups',\n",
       "       'attributes_RestaurantsPriceRange2',\n",
       "       'attributes_RestaurantsReservations',\n",
       "       'attributes_RestaurantsTableService', 'attributes_RestaurantsTakeOut',\n",
       "       'attributes_Smoking', 'attributes_WheelchairAccessible',\n",
       "       'attributes_WiFi', 'business_id', 'categories', 'city', 'hours_Friday',\n",
       "       'hours_Monday', 'hours_Saturday', 'hours_Sunday', 'hours_Thursday',\n",
       "       'hours_Tuesday', 'hours_Wednesday', 'is_open', 'latitude', 'longitude',\n",
       "       'name', 'postal_code', 'review_count', 'stars', 'state'],\n",
       "      dtype='object')"
      ]
     },
     "execution_count": 12,
     "metadata": {},
     "output_type": "execute_result"
    }
   ],
   "source": [
    "df.columns"
   ]
  },
  {
   "cell_type": "code",
   "execution_count": 13,
   "metadata": {},
   "outputs": [],
   "source": [
    "# select all the restaurant subsets from the origin big file\n",
    "restaurant_index = ['Restaurants' in i for i in df['categories'].astype(str)]"
   ]
  },
  {
   "cell_type": "code",
   "execution_count": 14,
   "metadata": {},
   "outputs": [],
   "source": [
    "df = df.iloc[restaurant_index, :]"
   ]
  },
  {
   "cell_type": "code",
   "execution_count": 15,
   "metadata": {},
   "outputs": [
    {
     "data": {
      "text/plain": [
       "(59371, 100)"
      ]
     },
     "execution_count": 15,
     "metadata": {},
     "output_type": "execute_result"
    }
   ],
   "source": [
    "df.shape"
   ]
  },
  {
   "cell_type": "code",
   "execution_count": 18,
   "metadata": {},
   "outputs": [
    {
     "data": {
      "text/html": [
       "<div>\n",
       "<style scoped>\n",
       "    .dataframe tbody tr th:only-of-type {\n",
       "        vertical-align: middle;\n",
       "    }\n",
       "\n",
       "    .dataframe tbody tr th {\n",
       "        vertical-align: top;\n",
       "    }\n",
       "\n",
       "    .dataframe thead th {\n",
       "        text-align: right;\n",
       "    }\n",
       "</style>\n",
       "<table border=\"1\" class=\"dataframe\">\n",
       "  <thead>\n",
       "    <tr style=\"text-align: right;\">\n",
       "      <th></th>\n",
       "      <th>address</th>\n",
       "      <th>attributes_AcceptsInsurance</th>\n",
       "      <th>attributes_AgesAllowed</th>\n",
       "      <th>attributes_Alcohol</th>\n",
       "      <th>attributes_Ambience_casual</th>\n",
       "      <th>attributes_Ambience_classy</th>\n",
       "      <th>attributes_Ambience_divey</th>\n",
       "      <th>attributes_Ambience_hipster</th>\n",
       "      <th>attributes_Ambience_intimate</th>\n",
       "      <th>attributes_Ambience_romantic</th>\n",
       "      <th>...</th>\n",
       "      <th>hours_Tuesday</th>\n",
       "      <th>hours_Wednesday</th>\n",
       "      <th>is_open</th>\n",
       "      <th>latitude</th>\n",
       "      <th>longitude</th>\n",
       "      <th>name</th>\n",
       "      <th>postal_code</th>\n",
       "      <th>review_count</th>\n",
       "      <th>stars</th>\n",
       "      <th>state</th>\n",
       "    </tr>\n",
       "  </thead>\n",
       "  <tbody>\n",
       "    <tr>\n",
       "      <th>1</th>\n",
       "      <td>30 Eglinton Avenue W</td>\n",
       "      <td>NaN</td>\n",
       "      <td>NaN</td>\n",
       "      <td>full_bar</td>\n",
       "      <td>True</td>\n",
       "      <td>False</td>\n",
       "      <td>False</td>\n",
       "      <td>False</td>\n",
       "      <td>False</td>\n",
       "      <td>False</td>\n",
       "      <td>...</td>\n",
       "      <td>9:0-0:0</td>\n",
       "      <td>9:0-0:0</td>\n",
       "      <td>1</td>\n",
       "      <td>43.605499</td>\n",
       "      <td>-79.652289</td>\n",
       "      <td>Emerald Chinese Restaurant</td>\n",
       "      <td>L5R 3E7</td>\n",
       "      <td>128</td>\n",
       "      <td>2.5</td>\n",
       "      <td>ON</td>\n",
       "    </tr>\n",
       "    <tr>\n",
       "      <th>2</th>\n",
       "      <td>10110 Johnston Rd, Ste 15</td>\n",
       "      <td>NaN</td>\n",
       "      <td>NaN</td>\n",
       "      <td>beer_and_wine</td>\n",
       "      <td>True</td>\n",
       "      <td>False</td>\n",
       "      <td>False</td>\n",
       "      <td>False</td>\n",
       "      <td>False</td>\n",
       "      <td>False</td>\n",
       "      <td>...</td>\n",
       "      <td>9:0-0:0</td>\n",
       "      <td>17:30-21:30</td>\n",
       "      <td>1</td>\n",
       "      <td>35.092564</td>\n",
       "      <td>-80.859132</td>\n",
       "      <td>Musashi Japanese Restaurant</td>\n",
       "      <td>28210</td>\n",
       "      <td>170</td>\n",
       "      <td>4.0</td>\n",
       "      <td>NC</td>\n",
       "    </tr>\n",
       "    <tr>\n",
       "      <th>11</th>\n",
       "      <td>2450 E Indian School Rd</td>\n",
       "      <td>False</td>\n",
       "      <td>NaN</td>\n",
       "      <td>none</td>\n",
       "      <td>False</td>\n",
       "      <td>False</td>\n",
       "      <td>False</td>\n",
       "      <td>False</td>\n",
       "      <td>False</td>\n",
       "      <td>False</td>\n",
       "      <td>...</td>\n",
       "      <td>7:0-0:0</td>\n",
       "      <td>7:0-0:0</td>\n",
       "      <td>1</td>\n",
       "      <td>33.495194</td>\n",
       "      <td>-112.028588</td>\n",
       "      <td>Taco Bell</td>\n",
       "      <td>85016</td>\n",
       "      <td>18</td>\n",
       "      <td>3.0</td>\n",
       "      <td>AZ</td>\n",
       "    </tr>\n",
       "    <tr>\n",
       "      <th>13</th>\n",
       "      <td>5981 Andrews Rd</td>\n",
       "      <td>False</td>\n",
       "      <td>NaN</td>\n",
       "      <td>none</td>\n",
       "      <td>False</td>\n",
       "      <td>False</td>\n",
       "      <td>False</td>\n",
       "      <td>False</td>\n",
       "      <td>False</td>\n",
       "      <td>False</td>\n",
       "      <td>...</td>\n",
       "      <td>10:0-0:0</td>\n",
       "      <td>10:0-0:0</td>\n",
       "      <td>1</td>\n",
       "      <td>41.708520</td>\n",
       "      <td>-81.359556</td>\n",
       "      <td>Marco's Pizza</td>\n",
       "      <td>44060</td>\n",
       "      <td>16</td>\n",
       "      <td>4.0</td>\n",
       "      <td>OH</td>\n",
       "    </tr>\n",
       "    <tr>\n",
       "      <th>17</th>\n",
       "      <td>1775 E Tropicana Ave, Ste 29</td>\n",
       "      <td>False</td>\n",
       "      <td>NaN</td>\n",
       "      <td>full_bar</td>\n",
       "      <td>False</td>\n",
       "      <td>True</td>\n",
       "      <td>False</td>\n",
       "      <td>False</td>\n",
       "      <td>False</td>\n",
       "      <td>True</td>\n",
       "      <td>...</td>\n",
       "      <td>9:0-19:0</td>\n",
       "      <td>9:0-17:0</td>\n",
       "      <td>0</td>\n",
       "      <td>36.100016</td>\n",
       "      <td>-115.128529</td>\n",
       "      <td>Carluccio's Tivoli Gardens</td>\n",
       "      <td>89119</td>\n",
       "      <td>40</td>\n",
       "      <td>4.0</td>\n",
       "      <td>NV</td>\n",
       "    </tr>\n",
       "  </tbody>\n",
       "</table>\n",
       "<p>5 rows × 100 columns</p>\n",
       "</div>"
      ],
      "text/plain": [
       "                         address attributes_AcceptsInsurance  \\\n",
       "1           30 Eglinton Avenue W                         NaN   \n",
       "2      10110 Johnston Rd, Ste 15                         NaN   \n",
       "11       2450 E Indian School Rd                       False   \n",
       "13               5981 Andrews Rd                       False   \n",
       "17  1775 E Tropicana Ave, Ste 29                       False   \n",
       "\n",
       "   attributes_AgesAllowed attributes_Alcohol attributes_Ambience_casual  \\\n",
       "1                     NaN           full_bar                       True   \n",
       "2                     NaN      beer_and_wine                       True   \n",
       "11                    NaN               none                      False   \n",
       "13                    NaN               none                      False   \n",
       "17                    NaN           full_bar                      False   \n",
       "\n",
       "   attributes_Ambience_classy attributes_Ambience_divey  \\\n",
       "1                       False                     False   \n",
       "2                       False                     False   \n",
       "11                      False                     False   \n",
       "13                      False                     False   \n",
       "17                       True                     False   \n",
       "\n",
       "   attributes_Ambience_hipster attributes_Ambience_intimate  \\\n",
       "1                        False                        False   \n",
       "2                        False                        False   \n",
       "11                       False                        False   \n",
       "13                       False                        False   \n",
       "17                       False                        False   \n",
       "\n",
       "   attributes_Ambience_romantic  ... hours_Tuesday hours_Wednesday is_open  \\\n",
       "1                         False  ...       9:0-0:0         9:0-0:0       1   \n",
       "2                         False  ...       9:0-0:0     17:30-21:30       1   \n",
       "11                        False  ...       7:0-0:0         7:0-0:0       1   \n",
       "13                        False  ...      10:0-0:0        10:0-0:0       1   \n",
       "17                         True  ...      9:0-19:0        9:0-17:0       0   \n",
       "\n",
       "     latitude   longitude                         name postal_code  \\\n",
       "1   43.605499  -79.652289   Emerald Chinese Restaurant     L5R 3E7   \n",
       "2   35.092564  -80.859132  Musashi Japanese Restaurant       28210   \n",
       "11  33.495194 -112.028588                    Taco Bell       85016   \n",
       "13  41.708520  -81.359556                Marco's Pizza       44060   \n",
       "17  36.100016 -115.128529   Carluccio's Tivoli Gardens       89119   \n",
       "\n",
       "   review_count stars state  \n",
       "1           128   2.5    ON  \n",
       "2           170   4.0    NC  \n",
       "11           18   3.0    AZ  \n",
       "13           16   4.0    OH  \n",
       "17           40   4.0    NV  \n",
       "\n",
       "[5 rows x 100 columns]"
      ]
     },
     "execution_count": 18,
     "metadata": {},
     "output_type": "execute_result"
    }
   ],
   "source": [
    "df.head()"
   ]
  },
  {
   "cell_type": "code",
   "execution_count": 20,
   "metadata": {},
   "outputs": [],
   "source": [
    "df.to_csv('Business_restaurant_orgin.csv', index = False)"
   ]
  },
  {
   "cell_type": "code",
   "execution_count": null,
   "metadata": {},
   "outputs": [],
   "source": []
  },
  {
   "cell_type": "markdown",
   "metadata": {},
   "source": [
    "### 2. Process Restaurant subsets"
   ]
  },
  {
   "cell_type": "code",
   "execution_count": 102,
   "metadata": {},
   "outputs": [],
   "source": [
    "df = pd.read_csv('Business_restaurant_orgin.csv')"
   ]
  },
  {
   "cell_type": "markdown",
   "metadata": {},
   "source": [
    "#### Process operating hours"
   ]
  },
  {
   "cell_type": "code",
   "execution_count": 103,
   "metadata": {},
   "outputs": [
    {
     "data": {
      "text/html": [
       "<div>\n",
       "<style scoped>\n",
       "    .dataframe tbody tr th:only-of-type {\n",
       "        vertical-align: middle;\n",
       "    }\n",
       "\n",
       "    .dataframe tbody tr th {\n",
       "        vertical-align: top;\n",
       "    }\n",
       "\n",
       "    .dataframe thead th {\n",
       "        text-align: right;\n",
       "    }\n",
       "</style>\n",
       "<table border=\"1\" class=\"dataframe\">\n",
       "  <thead>\n",
       "    <tr style=\"text-align: right;\">\n",
       "      <th></th>\n",
       "      <th>hours_Friday</th>\n",
       "      <th>hours_Monday</th>\n",
       "      <th>hours_Saturday</th>\n",
       "      <th>hours_Sunday</th>\n",
       "      <th>hours_Thursday</th>\n",
       "      <th>hours_Tuesday</th>\n",
       "      <th>hours_Wednesday</th>\n",
       "    </tr>\n",
       "  </thead>\n",
       "  <tbody>\n",
       "    <tr>\n",
       "      <th>0</th>\n",
       "      <td>9:0-1:0</td>\n",
       "      <td>9:0-0:0</td>\n",
       "      <td>9:0-1:0</td>\n",
       "      <td>9:0-0:0</td>\n",
       "      <td>9:0-0:0</td>\n",
       "      <td>9:0-0:0</td>\n",
       "      <td>9:0-0:0</td>\n",
       "    </tr>\n",
       "    <tr>\n",
       "      <th>1</th>\n",
       "      <td>17:30-22:0</td>\n",
       "      <td>17:30-21:30</td>\n",
       "      <td>17:30-22:0</td>\n",
       "      <td>17:30-21:0</td>\n",
       "      <td>17:30-21:30</td>\n",
       "      <td>9:0-0:0</td>\n",
       "      <td>17:30-21:30</td>\n",
       "    </tr>\n",
       "  </tbody>\n",
       "</table>\n",
       "</div>"
      ],
      "text/plain": [
       "  hours_Friday hours_Monday hours_Saturday hours_Sunday hours_Thursday  \\\n",
       "0      9:0-1:0      9:0-0:0        9:0-1:0      9:0-0:0        9:0-0:0   \n",
       "1   17:30-22:0  17:30-21:30     17:30-22:0   17:30-21:0    17:30-21:30   \n",
       "\n",
       "  hours_Tuesday hours_Wednesday  \n",
       "0       9:0-0:0         9:0-0:0  \n",
       "1       9:0-0:0     17:30-21:30  "
      ]
     },
     "execution_count": 103,
     "metadata": {},
     "output_type": "execute_result"
    }
   ],
   "source": [
    "df.iloc[:,85:92].head(2) # operating hours columns"
   ]
  },
  {
   "cell_type": "code",
   "execution_count": 104,
   "metadata": {},
   "outputs": [],
   "source": [
    "# since operating hours columns are time string, we processed the operating hours columns to \n",
    "# length of each operating days and whether they include the breakfast, brunch, lunch, dinner\n",
    "# and night meals. "
   ]
  },
  {
   "cell_type": "code",
   "execution_count": 105,
   "metadata": {},
   "outputs": [],
   "source": [
    "df=df.iloc[:,85:92]\n",
    "df['hours_Friday'][1].split(\"-\")\n",
    "def timesplit(data,col):\n",
    "    a=[]\n",
    "    for i in range(data.shape[0]):\n",
    "       a+=data[col][i].split('-')\n",
    "    b=[]\n",
    "    for ii in range(len(a)):\n",
    "        b+=a[ii].split(':')\n",
    "    return b\n",
    "\n",
    "fri=timesplit(df,'hours_Friday')\n",
    "mon=timesplit(df,'hours_Monday')\n",
    "tue=timesplit(df,'hours_Tuesday')\n",
    "wed=timesplit(df,'hours_Wednesday')\n",
    "thu=timesplit(df,'hours_Thursday')\n",
    "sat=timesplit(df,'hours_Saturday')\n",
    "sun=timesplit(df,'hours_Sunday')\n",
    "\n",
    "#identify meals served\n",
    "#breakfast\n",
    "def serve(day):\n",
    "    open=[]\n",
    "    close=[]\n",
    "    serve=[]\n",
    "    for i in range(len(day)):\n",
    "        if i%4 == 0:\n",
    "            open+=[int(day[i])]\n",
    "        elif i%2 == 0:\n",
    "            close+=[int(day[i])]\n",
    "    for i in range(len(open)):\n",
    "        if close[i]<open[i]:\n",
    "            close[i]+=24\n",
    "    for i in range(len(open)):\n",
    "        if open[i] <= 8 <= close[i]:\n",
    "            serve+=[1]\n",
    "        else:\n",
    "            serve+=[0]\n",
    "    return serve\n",
    "\n",
    "fri1=serve(fri)\n",
    "mon1=serve(mon)\n",
    "tue1=serve(tue)\n",
    "wed1=serve(wed)\n",
    "thu1=serve(thu)\n",
    "sat1=serve(sat)\n",
    "sun1=serve(sun)\n",
    "\n",
    "breakfast=[]\n",
    "for i in range(len(fri1)):\n",
    "    breakfast+=[fri1[i]+mon1[i]+tue1[i]+wed1[i]+thu1[i]+sat1[i]+sun1[i]]\n",
    "    if breakfast[i]>=4:\n",
    "        breakfast[i]=1\n",
    "    else:\n",
    "        breakfast[i]=0\n",
    "\n",
    "df['Breakfast']=breakfast\n",
    "\n",
    "#brunch\n",
    "def serve(day):\n",
    "    open=[]\n",
    "    close=[]\n",
    "    serve=[]\n",
    "    for i in range(len(day)):\n",
    "        if i%4 == 0:\n",
    "            open+=[int(day[i])]\n",
    "        elif i%2 == 0:\n",
    "            close+=[int(day[i])]\n",
    "    for i in range(len(open)):\n",
    "        if close[i]<open[i]:\n",
    "            close[i]+=24\n",
    "    for i in range(len(open)):\n",
    "        if open[i] <= 10 <= close[i]:\n",
    "            serve+=[1]\n",
    "        else:\n",
    "            serve+=[0]\n",
    "    return serve\n",
    "\n",
    "fri1=serve(fri)\n",
    "mon1=serve(mon)\n",
    "tue1=serve(tue)\n",
    "wed1=serve(wed)\n",
    "thu1=serve(thu)\n",
    "sat1=serve(sat)\n",
    "sun1=serve(sun)\n",
    "\n",
    "breakfast=[]\n",
    "for i in range(len(fri1)):\n",
    "    breakfast+=[fri1[i]+mon1[i]+tue1[i]+wed1[i]+thu1[i]+sat1[i]+sun1[i]]\n",
    "    if breakfast[i]>=4:\n",
    "        breakfast[i]=1\n",
    "    else:\n",
    "        breakfast[i]=0\n",
    "\n",
    "df['Brunch']=breakfast\n",
    "\n",
    "#lunch\n",
    "def serve(day):\n",
    "    open=[]\n",
    "    close=[]\n",
    "    serve=[]\n",
    "    for i in range(len(day)):\n",
    "        if i%4 == 0:\n",
    "            open+=[int(day[i])]\n",
    "        elif i%2 == 0:\n",
    "            close+=[int(day[i])]\n",
    "    for i in range(len(open)):\n",
    "        if close[i]<open[i]:\n",
    "            close[i]+=24\n",
    "    for i in range(len(open)):\n",
    "        if open[i] <= 12 <= close[i]:\n",
    "            serve+=[1]\n",
    "        else:\n",
    "            serve+=[0]\n",
    "    return serve\n",
    "\n",
    "fri1=serve(fri)\n",
    "mon1=serve(mon)\n",
    "tue1=serve(tue)\n",
    "wed1=serve(wed)\n",
    "thu1=serve(thu)\n",
    "sat1=serve(sat)\n",
    "sun1=serve(sun)\n",
    "\n",
    "breakfast=[]\n",
    "for i in range(len(fri1)):\n",
    "    breakfast+=[fri1[i]+mon1[i]+tue1[i]+wed1[i]+thu1[i]+sat1[i]+sun1[i]]\n",
    "    if breakfast[i]>=4:\n",
    "        breakfast[i]=1\n",
    "    else:\n",
    "        breakfast[i]=0\n",
    "\n",
    "df['Lunch']=breakfast\n",
    "\n",
    "#dinner\n",
    "def serve(day):\n",
    "    open=[]\n",
    "    close=[]\n",
    "    serve=[]\n",
    "    for i in range(len(day)):\n",
    "        if i%4 == 0:\n",
    "            open+=[int(day[i])]\n",
    "        elif i%2 == 0:\n",
    "            close+=[int(day[i])]\n",
    "    for i in range(len(open)):\n",
    "        if close[i]<open[i]:\n",
    "            close[i]+=24\n",
    "    for i in range(len(open)):\n",
    "        if open[i] <= 17 <= close[i]:\n",
    "            serve+=[1]\n",
    "        else:\n",
    "            serve+=[0]\n",
    "    return serve\n",
    "\n",
    "fri1=serve(fri)\n",
    "mon1=serve(mon)\n",
    "tue1=serve(tue)\n",
    "wed1=serve(wed)\n",
    "thu1=serve(thu)\n",
    "sat1=serve(sat)\n",
    "sun1=serve(sun)\n",
    "\n",
    "breakfast=[]\n",
    "for i in range(len(fri1)):\n",
    "    breakfast+=[fri1[i]+mon1[i]+tue1[i]+wed1[i]+thu1[i]+sat1[i]+sun1[i]]\n",
    "    if breakfast[i]>=4:\n",
    "        breakfast[i]=1\n",
    "    else:\n",
    "        breakfast[i]=0\n",
    "\n",
    "df['Dinner']=breakfast\n",
    "\n",
    "#earlynight\n",
    "def serve(day):\n",
    "    open=[]\n",
    "    close=[]\n",
    "    serve=[]\n",
    "    for i in range(len(day)):\n",
    "        if i%4 == 0:\n",
    "            open+=[int(day[i])]\n",
    "        elif i%2 == 0:\n",
    "            close+=[int(day[i])]\n",
    "    for i in range(len(open)):\n",
    "        if close[i]<open[i]:\n",
    "            close[i]+=24\n",
    "    for i in range(len(open)):\n",
    "        if open[i] <= 21 <= close[i]:\n",
    "            serve+=[1]\n",
    "        else:\n",
    "            serve+=[0]\n",
    "    return serve\n",
    "\n",
    "fri1=serve(fri)\n",
    "mon1=serve(mon)\n",
    "tue1=serve(tue)\n",
    "wed1=serve(wed)\n",
    "thu1=serve(thu)\n",
    "sat1=serve(sat)\n",
    "sun1=serve(sun)\n",
    "\n",
    "breakfast=[]\n",
    "for i in range(len(fri1)):\n",
    "    breakfast+=[fri1[i]+mon1[i]+tue1[i]+wed1[i]+thu1[i]+sat1[i]+sun1[i]]\n",
    "    if breakfast[i]>=4:\n",
    "        breakfast[i]=1\n",
    "    else:\n",
    "        breakfast[i]=0\n",
    "\n",
    "df['Earlynight']=breakfast\n",
    "\n",
    "#latenight\n",
    "def serve(day):\n",
    "    open=[]\n",
    "    close=[]\n",
    "    serve=[]\n",
    "    for i in range(len(day)):\n",
    "        if i%4 == 0:\n",
    "            open+=[int(day[i])]\n",
    "        elif i%2 == 0:\n",
    "            close+=[int(day[i])]\n",
    "    for i in range(len(open)):\n",
    "        if close[i]<open[i]:\n",
    "            close[i]+=24\n",
    "    for i in range(len(open)):\n",
    "        if open[i]<= 25 <= close[i]:\n",
    "            serve+=[1]\n",
    "        else:\n",
    "            serve+=[0]\n",
    "    return serve\n",
    "\n",
    "fri1=serve(fri)\n",
    "mon1=serve(mon)\n",
    "tue1=serve(tue)\n",
    "wed1=serve(wed)\n",
    "thu1=serve(thu)\n",
    "sat1=serve(sat)\n",
    "sun1=serve(sun)\n",
    "\n",
    "breakfast=[]\n",
    "for i in range(len(fri1)):\n",
    "    breakfast+=[fri1[i]+mon1[i]+tue1[i]+wed1[i]+thu1[i]+sat1[i]+sun1[i]]\n",
    "    if breakfast[i]>=4:\n",
    "        breakfast[i]=1\n",
    "    else:\n",
    "        breakfast[i]=0\n",
    "\n",
    "df['Latenight']=breakfast"
   ]
  },
  {
   "cell_type": "code",
   "execution_count": 106,
   "metadata": {},
   "outputs": [],
   "source": [
    "# calculate opening hours\n",
    "def timesplit(data,col):\n",
    "    a=[]\n",
    "    for i in range(data.shape[0]):\n",
    "       a+=data[col][i].split('-')\n",
    "    b=[]\n",
    "    for ii in range(len(a)):\n",
    "        b+=a[ii].split(':')\n",
    "    return b\n",
    "\n",
    "fri=timesplit(df,'hours_Friday')\n",
    "mon=timesplit(df,'hours_Monday')\n",
    "tue=timesplit(df,'hours_Tuesday')\n",
    "wed=timesplit(df,'hours_Wednesday')\n",
    "thu=timesplit(df,'hours_Thursday')\n",
    "sat=timesplit(df,'hours_Saturday')\n",
    "sun=timesplit(df,'hours_Sunday')\n",
    "\n",
    "def serve(day):\n",
    "    open=[]\n",
    "    close=[]\n",
    "    serve=[]\n",
    "    for i in range(len(day)):\n",
    "        if i%4 == 0:\n",
    "            open+=[int(day[i])]\n",
    "        elif i%2 == 0:\n",
    "            close+=[int(day[i])]\n",
    "    for i in range(len(open)):\n",
    "        if close[i]<open[i]:\n",
    "            close[i]+=24\n",
    "    for i in range(len(open)):\n",
    "        serve+=[close[i]-open[i]]\n",
    "    return serve\n",
    "\n",
    "fri1=serve(fri)\n",
    "mon1=serve(mon)\n",
    "tue1=serve(tue)\n",
    "wed1=serve(wed)\n",
    "thu1=serve(thu)\n",
    "sat1=serve(sat)\n",
    "sun1=serve(sun)\n",
    "\n",
    "df['Fridayophour']=fri1\n",
    "df['Mondayophour']=mon1\n",
    "df['Tuesdayophour']=tue1\n",
    "df['Wednesdayophour']=wed1\n",
    "df['Thursdayophour']=thu1\n",
    "df['Saturdayophour']=sat1\n",
    "df['Sundayophour']=sun1\n",
    "df = df.iloc[:, 7:]\n",
    "\n",
    "df.to_csv('Business_ophour.csv', index = False)"
   ]
  },
  {
   "cell_type": "code",
   "execution_count": 107,
   "metadata": {},
   "outputs": [],
   "source": [
    "df = pd.read_csv('business_restaurant_orgin.csv')"
   ]
  },
  {
   "cell_type": "code",
   "execution_count": 108,
   "metadata": {},
   "outputs": [],
   "source": [
    "df2 = pd.read_csv('Business_ophour.csv')"
   ]
  },
  {
   "cell_type": "code",
   "execution_count": 109,
   "metadata": {},
   "outputs": [],
   "source": [
    "df = pd.merge(df, df2, left_index=True, right_index=True, how='left')"
   ]
  },
  {
   "cell_type": "code",
   "execution_count": 110,
   "metadata": {},
   "outputs": [],
   "source": [
    "# drop columns with more than 1000 na"
   ]
  },
  {
   "cell_type": "code",
   "execution_count": 111,
   "metadata": {},
   "outputs": [
    {
     "data": {
      "text/plain": [
       "(59371, 111)"
      ]
     },
     "execution_count": 111,
     "metadata": {},
     "output_type": "execute_result"
    }
   ],
   "source": [
    "column0 = df.columns\n",
    "df.isnull().sum()[df.isnull().sum()>1000]\n",
    "column1 = df.isnull().sum()[df.isnull().sum()>1000].index\n",
    "column = [val for val in column0 if val not in column1]\n",
    "df = df[column]\n",
    "df.shape"
   ]
  },
  {
   "cell_type": "code",
   "execution_count": 112,
   "metadata": {},
   "outputs": [],
   "source": [
    "# drop working hours"
   ]
  },
  {
   "cell_type": "code",
   "execution_count": 113,
   "metadata": {},
   "outputs": [
    {
     "data": {
      "text/plain": [
       "(59371, 104)"
      ]
     },
     "execution_count": 113,
     "metadata": {},
     "output_type": "execute_result"
    }
   ],
   "source": [
    "df.drop(['hours_Friday', 'hours_Monday', 'hours_Saturday',\n",
    "        'hours_Sunday', 'hours_Thursday', 'hours_Tuesday', \n",
    "        'hours_Wednesday'], axis = 1, inplace = True)\n",
    "df.shape"
   ]
  },
  {
   "cell_type": "code",
   "execution_count": 115,
   "metadata": {},
   "outputs": [],
   "source": [
    "# We first delete rows with more than 10 missing values, and fill the nan with the mode. \n",
    "# However, we found that way will bring noise to the datasets, and finally we delete rows \n",
    "# with all missing values"
   ]
  },
  {
   "cell_type": "code",
   "execution_count": 116,
   "metadata": {},
   "outputs": [
    {
     "data": {
      "text/plain": [
       "(55457, 104)"
      ]
     },
     "execution_count": 116,
     "metadata": {},
     "output_type": "execute_result"
    }
   ],
   "source": [
    "missing_index = list(df.isnull().sum(axis = 1)[df.isnull().sum(axis = 1)>0].index)\n",
    "df = df.drop(index = missing_index)\n",
    "df.shape"
   ]
  },
  {
   "cell_type": "code",
   "execution_count": 117,
   "metadata": {},
   "outputs": [],
   "source": [
    "# summarize output categories"
   ]
  },
  {
   "cell_type": "code",
   "execution_count": 118,
   "metadata": {},
   "outputs": [
    {
     "name": "stdout",
     "output_type": "stream",
     "text": [
      "High quality count: 21452\n",
      "Low quality count: 34005\n",
      "High quality proportion: 0.38682222\n"
     ]
    }
   ],
   "source": [
    "print('High quality count: %s'% len(df[df['stars']>=4]))\n",
    "print('Low quality count: %s'% len(df[df['stars']<4]))\n",
    "print('High quality proportion: %.8f' % float(len(df[df['stars']>=4])/(len(df[df['stars']<4])+len(df[df['stars']>=4]))))"
   ]
  },
  {
   "cell_type": "code",
   "execution_count": 119,
   "metadata": {},
   "outputs": [],
   "source": [
    "# convert stars format in dataset: 0 for low quality; 1 for high"
   ]
  },
  {
   "cell_type": "code",
   "execution_count": 120,
   "metadata": {},
   "outputs": [
    {
     "data": {
      "text/plain": [
       "0    34005\n",
       "1    21452\n",
       "Name: stars, dtype: int64"
      ]
     },
     "execution_count": 120,
     "metadata": {},
     "output_type": "execute_result"
    }
   ],
   "source": [
    "df.loc[:, 'stars'] = (df['stars']>=4)*1\n",
    "df['stars'].value_counts()"
   ]
  },
  {
   "cell_type": "code",
   "execution_count": 121,
   "metadata": {},
   "outputs": [],
   "source": [
    "# convert true/false to 1/0"
   ]
  },
  {
   "cell_type": "code",
   "execution_count": 122,
   "metadata": {},
   "outputs": [],
   "source": [
    "df = 1*df"
   ]
  },
  {
   "cell_type": "code",
   "execution_count": 123,
   "metadata": {},
   "outputs": [
    {
     "data": {
      "text/plain": [
       "(55457, 104)"
      ]
     },
     "execution_count": 123,
     "metadata": {},
     "output_type": "execute_result"
    }
   ],
   "source": [
    "df.shape"
   ]
  },
  {
   "cell_type": "code",
   "execution_count": 125,
   "metadata": {},
   "outputs": [],
   "source": [
    "df.to_csv('Business_restaurant_complete.csv', index = False)"
   ]
  },
  {
   "cell_type": "markdown",
   "metadata": {},
   "source": [
    "### Now reduce some obviously irrelevent columns"
   ]
  },
  {
   "cell_type": "code",
   "execution_count": 16,
   "metadata": {},
   "outputs": [],
   "source": [
    "df = pd.read_csv('Business_restaurant_complete.csv')"
   ]
  },
  {
   "cell_type": "code",
   "execution_count": 17,
   "metadata": {},
   "outputs": [],
   "source": [
    "# reduce some obviously irrelevent or not-suitable for model-training columns based on research\n",
    "# online\n",
    "drop_columns = ['address',\n",
    "                'attributes_AcceptsInsurance',\n",
    "                'attributes_ByAppointmentOnly',\n",
    "                'attributes_HairSpecializesIn_africanamerican',\n",
    "                'attributes_HairSpecializesIn_asian',\n",
    "                'attributes_HairSpecializesIn_coloring',\n",
    "                'attributes_HairSpecializesIn_curly',\n",
    "                'attributes_HairSpecializesIn_extensions',\n",
    "                'attributes_HairSpecializesIn_kids',\n",
    "                'attributes_HairSpecializesIn_perms',\n",
    "                'attributes_HairSpecializesIn_straightperms',\n",
    "                'is_open',\n",
    "                'name',\n",
    "                'postal_code',\n",
    "                'state',\n",
    "                'categories',\n",
    "                'city']"
   ]
  },
  {
   "cell_type": "code",
   "execution_count": 18,
   "metadata": {},
   "outputs": [
    {
     "data": {
      "text/plain": [
       "(55457, 87)"
      ]
     },
     "execution_count": 18,
     "metadata": {},
     "output_type": "execute_result"
    }
   ],
   "source": [
    "df.drop(drop_columns, axis = 1, inplace = True)\n",
    "df.shape"
   ]
  },
  {
   "cell_type": "code",
   "execution_count": 19,
   "metadata": {},
   "outputs": [],
   "source": [
    "# rename column names\n",
    "features = ['AgesAllowed',\n",
    "            'Alcohol',\n",
    "            'Ambience_casual',\n",
    "            'Ambience_classy',\n",
    "            'Ambience_divey',\n",
    "            'Ambience_hipster',\n",
    "            'Ambience_intimate',\n",
    "            'Ambience_romantic',\n",
    "            'Ambience_touristy',\n",
    "            'Ambience_trendy',\n",
    "            'Ambience_upscale',\n",
    "            'BYOB',\n",
    "            'BYOBCorkage',\n",
    "            'BestNights_friday',\n",
    "            'BestNights_monday',\n",
    "            'BestNights_saturday',\n",
    "            'BestNights_sunday',\n",
    "            'BestNights_thursday',\n",
    "            'BestNights_tuesday',\n",
    "            'BestNights_wednesday',\n",
    "            'BikeParking',\n",
    "            'AcceptsBitcoin',\n",
    "            'AcceptsCreditCards',\n",
    "            'Parking_garage',\n",
    "            'Parking_lot',\n",
    "            'Parking_street',\n",
    "            'Parking_valet',\n",
    "            'Parking_validated',\n",
    "            'Caters',\n",
    "            'CoatCheck',\n",
    "            'Corkage',\n",
    "            'DietaryRestrictions_dairy-free',\n",
    "            'DietaryRestrictions_gluten-free',\n",
    "            'DietaryRestrictions_halal',\n",
    "            'DietaryRestrictions_kosher',\n",
    "            'DietaryRestrictions_soy-free',\n",
    "            'DietaryRestrictions_vegan',\n",
    "            'DietaryRestrictions_vegetarian',\n",
    "            'DogsAllowed',\n",
    "            'DriveThru',\n",
    "            'GoodForDancing',\n",
    "            'GoodForKids',\n",
    "            'GoodForBreakfast',\n",
    "            'GoodForBrunch',\n",
    "            'GoodForDessert',\n",
    "            'GoodForDinner',\n",
    "            'GoodForLatenight',\n",
    "            'GoodForLunch',\n",
    "            'HappyHour',\n",
    "            'HasTV',\n",
    "            'BGM',\n",
    "            'DJ',\n",
    "            'Jukebox',\n",
    "            'Karaoke',\n",
    "            'Live',\n",
    "            'NoMusic',\n",
    "            'Video',\n",
    "            'Noisy',\n",
    "            'Outdoor',\n",
    "            'Attire',\n",
    "            'Delivery',\n",
    "            'Group',\n",
    "            'Price',\n",
    "            'Reservation',\n",
    "            'TableService',\n",
    "            'TakeOut',\n",
    "            'Smoking',\n",
    "            'Wheelchair',\n",
    "            'Wifi',\n",
    "            'business_id', \n",
    "            'latitude', \n",
    "            'longitude',\n",
    "            'review_count',\n",
    "            'stars',\n",
    "            'Breakfast',\n",
    "            'Brunch',\n",
    "            'Lunch',\n",
    "            'Dinner',\n",
    "            'Earlynight',\n",
    "            'Latenight',\n",
    "            'Fridayophour',\n",
    "            'Mondayophour',\n",
    "            'Tuesdayophour',\n",
    "            'Wednesdayophour',\n",
    "            'Thursdayophour',\n",
    "            'Saturdayophour',\n",
    "            'Sundayophour']"
   ]
  },
  {
   "cell_type": "code",
   "execution_count": 20,
   "metadata": {},
   "outputs": [],
   "source": [
    "df.columns = features"
   ]
  },
  {
   "cell_type": "code",
   "execution_count": 21,
   "metadata": {},
   "outputs": [],
   "source": [
    "df.reset_index(inplace = True)\n",
    "df.drop(['index'], axis = 1, inplace = True)"
   ]
  },
  {
   "cell_type": "code",
   "execution_count": 22,
   "metadata": {},
   "outputs": [],
   "source": [
    "class_mapping = {'quiet':0, 'average':1, 'loud': 2, 'very_loud': 3}\n",
    "df['Noisy'] = df['Noisy'].map(class_mapping)"
   ]
  },
  {
   "cell_type": "code",
   "execution_count": 23,
   "metadata": {},
   "outputs": [
    {
     "data": {
      "text/plain": [
       "1    36276\n",
       "0    12582\n",
       "2     4776\n",
       "3     1823\n",
       "Name: Noisy, dtype: int64"
      ]
     },
     "execution_count": 23,
     "metadata": {},
     "output_type": "execute_result"
    }
   ],
   "source": [
    "df['Noisy'].value_counts()"
   ]
  },
  {
   "cell_type": "code",
   "execution_count": 24,
   "metadata": {},
   "outputs": [],
   "source": [
    "business_id = df['business_id']"
   ]
  },
  {
   "cell_type": "code",
   "execution_count": 25,
   "metadata": {},
   "outputs": [],
   "source": [
    "df = pd.get_dummies(df.drop('business_id', axis = 1))"
   ]
  },
  {
   "cell_type": "code",
   "execution_count": 26,
   "metadata": {},
   "outputs": [],
   "source": [
    "df['business_id'] = business_id"
   ]
  },
  {
   "cell_type": "code",
   "execution_count": 27,
   "metadata": {},
   "outputs": [
    {
     "data": {
      "text/plain": [
       "(55457, 100)"
      ]
     },
     "execution_count": 27,
     "metadata": {},
     "output_type": "execute_result"
    }
   ],
   "source": [
    "df.shape"
   ]
  },
  {
   "cell_type": "code",
   "execution_count": 84,
   "metadata": {},
   "outputs": [],
   "source": [
    "df.to_csv('Business_final.csv', index = False)"
   ]
  },
  {
   "cell_type": "code",
   "execution_count": null,
   "metadata": {},
   "outputs": [],
   "source": []
  },
  {
   "cell_type": "markdown",
   "metadata": {},
   "source": [
    "### 3. Processing Reviews"
   ]
  },
  {
   "cell_type": "code",
   "execution_count": 1,
   "metadata": {},
   "outputs": [],
   "source": [
    "from pandas.io.json import json_normalize  \n",
    "import pandas as pd  \n",
    "import json  "
   ]
  },
  {
   "cell_type": "code",
   "execution_count": 6,
   "metadata": {},
   "outputs": [
    {
     "data": {
      "text/plain": [
       "(55457, 100)"
      ]
     },
     "execution_count": 6,
     "metadata": {},
     "output_type": "execute_result"
    }
   ],
   "source": [
    "df = pd.read_csv('Business_final.csv')\n",
    "df.shape"
   ]
  },
  {
   "cell_type": "code",
   "execution_count": 7,
   "metadata": {},
   "outputs": [],
   "source": [
    "business_id = df['business_id'].to_frame()"
   ]
  },
  {
   "cell_type": "code",
   "execution_count": 3,
   "metadata": {},
   "outputs": [],
   "source": [
    "yelp_reader = pd.read_json('review.json', lines=True, chunksize=100000)"
   ]
  },
  {
   "cell_type": "code",
   "execution_count": 4,
   "metadata": {},
   "outputs": [],
   "source": [
    "# select all the reviews matched with our business data and the 'useful' column \n",
    "# should be more than 2 which indicates the reviews are \n",
    "# reliable (our assumption)"
   ]
  },
  {
   "cell_type": "code",
   "execution_count": 5,
   "metadata": {},
   "outputs": [],
   "source": [
    "chunks = list()\n",
    "i = 0\n",
    "for chunk in yelp_reader:\n",
    "    chunks.append(chunk)"
   ]
  },
  {
   "cell_type": "code",
   "execution_count": 8,
   "metadata": {},
   "outputs": [],
   "source": [
    "yelp_reviews = pd.concat(chunks)"
   ]
  },
  {
   "cell_type": "code",
   "execution_count": 281,
   "metadata": {},
   "outputs": [],
   "source": [
    "yelp_reviews = yelp_reviews[['business_id', 'text', 'useful', 'stars']]"
   ]
  },
  {
   "cell_type": "code",
   "execution_count": 282,
   "metadata": {},
   "outputs": [],
   "source": [
    "# select comments with usefulness larger than 2, which indicates a relatively fair evaluation of a restaurant\n",
    "yelp_reviews = yelp_reviews[yelp_reviews['useful'] >2 ]"
   ]
  },
  {
   "cell_type": "code",
   "execution_count": 283,
   "metadata": {},
   "outputs": [
    {
     "data": {
      "text/plain": [
       "(1015774, 4)"
      ]
     },
     "execution_count": 283,
     "metadata": {},
     "output_type": "execute_result"
    }
   ],
   "source": [
    "yelp_reviews.shape"
   ]
  },
  {
   "cell_type": "code",
   "execution_count": 284,
   "metadata": {},
   "outputs": [],
   "source": [
    "restaurant_reviews = business_id.merge(yelp_reviews, how='left', left_on='business_id', right_on='business_id')"
   ]
  },
  {
   "cell_type": "code",
   "execution_count": 285,
   "metadata": {},
   "outputs": [],
   "source": [
    "restaurant_reviews.dropna(axis=0, how='any', inplace=True)"
   ]
  },
  {
   "cell_type": "code",
   "execution_count": 286,
   "metadata": {},
   "outputs": [
    {
     "data": {
      "text/plain": [
       "(480562, 4)"
      ]
     },
     "execution_count": 286,
     "metadata": {},
     "output_type": "execute_result"
    }
   ],
   "source": [
    "restaurant_reviews.shape"
   ]
  },
  {
   "cell_type": "code",
   "execution_count": 287,
   "metadata": {},
   "outputs": [
    {
     "data": {
      "text/plain": [
       "42270"
      ]
     },
     "execution_count": 287,
     "metadata": {},
     "output_type": "execute_result"
    }
   ],
   "source": [
    "len(restaurant_reviews['business_id'].unique())"
   ]
  },
  {
   "cell_type": "code",
   "execution_count": 288,
   "metadata": {},
   "outputs": [
    {
     "data": {
      "text/plain": [
       "55457"
      ]
     },
     "execution_count": 288,
     "metadata": {},
     "output_type": "execute_result"
    }
   ],
   "source": [
    "len(business_id)"
   ]
  },
  {
   "cell_type": "code",
   "execution_count": 289,
   "metadata": {},
   "outputs": [],
   "source": [
    "restaurant_reviews.to_csv('restaurant_reviews.csv', index = False)"
   ]
  },
  {
   "cell_type": "code",
   "execution_count": null,
   "metadata": {},
   "outputs": [],
   "source": []
  }
 ],
 "metadata": {
  "kernelspec": {
   "display_name": "Python 3",
   "language": "python",
   "name": "python3"
  },
  "language_info": {
   "codemirror_mode": {
    "name": "ipython",
    "version": 3
   },
   "file_extension": ".py",
   "mimetype": "text/x-python",
   "name": "python",
   "nbconvert_exporter": "python",
   "pygments_lexer": "ipython3",
   "version": "3.6.8"
  },
  "toc": {
   "base_numbering": 1,
   "nav_menu": {},
   "number_sections": false,
   "sideBar": true,
   "skip_h1_title": false,
   "title_cell": "Table of Contents",
   "title_sidebar": "Contents",
   "toc_cell": false,
   "toc_position": {},
   "toc_section_display": true,
   "toc_window_display": false
  }
 },
 "nbformat": 4,
 "nbformat_minor": 2
}
