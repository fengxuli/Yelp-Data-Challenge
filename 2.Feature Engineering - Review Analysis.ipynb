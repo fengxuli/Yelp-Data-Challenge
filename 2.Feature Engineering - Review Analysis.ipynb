{
 "cells": [
  {
   "cell_type": "markdown",
   "metadata": {},
   "source": [
    "### Yelp Project Part II: Feature Engineering - Review Analysis - LDA"
   ]
  },
  {
   "cell_type": "code",
   "execution_count": 3,
   "metadata": {},
   "outputs": [],
   "source": [
    "import pandas as pd\n",
    "df = pd.read_csv('restaurant_reviews.csv', encoding ='utf-8')"
   ]
  },
  {
   "cell_type": "code",
   "execution_count": 2,
   "metadata": {},
   "outputs": [
    {
     "data": {
      "text/html": [
       "<div>\n",
       "<style scoped>\n",
       "    .dataframe tbody tr th:only-of-type {\n",
       "        vertical-align: middle;\n",
       "    }\n",
       "\n",
       "    .dataframe tbody tr th {\n",
       "        vertical-align: top;\n",
       "    }\n",
       "\n",
       "    .dataframe thead th {\n",
       "        text-align: right;\n",
       "    }\n",
       "</style>\n",
       "<table border=\"1\" class=\"dataframe\">\n",
       "  <thead>\n",
       "    <tr style=\"text-align: right;\">\n",
       "      <th></th>\n",
       "      <th>business_id</th>\n",
       "      <th>text</th>\n",
       "      <th>useful</th>\n",
       "      <th>stars</th>\n",
       "    </tr>\n",
       "  </thead>\n",
       "  <tbody>\n",
       "    <tr>\n",
       "      <th>0</th>\n",
       "      <td>Bh5VbI_9msk3GaD0kiKkmg</td>\n",
       "      <td>Gluten free, dairy free and vegan \"ice cream\"....</td>\n",
       "      <td>4.0</td>\n",
       "      <td>3.0</td>\n",
       "    </tr>\n",
       "    <tr>\n",
       "      <th>1</th>\n",
       "      <td>Bh5VbI_9msk3GaD0kiKkmg</td>\n",
       "      <td>I struggled with the rating on this one, but I...</td>\n",
       "      <td>3.0</td>\n",
       "      <td>2.0</td>\n",
       "    </tr>\n",
       "    <tr>\n",
       "      <th>2</th>\n",
       "      <td>Bh5VbI_9msk3GaD0kiKkmg</td>\n",
       "      <td>I love how the other reviewers only ever had o...</td>\n",
       "      <td>7.0</td>\n",
       "      <td>1.0</td>\n",
       "    </tr>\n",
       "    <tr>\n",
       "      <th>3</th>\n",
       "      <td>Bh5VbI_9msk3GaD0kiKkmg</td>\n",
       "      <td>I love to see new vegan places pop up in and a...</td>\n",
       "      <td>3.0</td>\n",
       "      <td>4.0</td>\n",
       "    </tr>\n",
       "    <tr>\n",
       "      <th>4</th>\n",
       "      <td>Bh5VbI_9msk3GaD0kiKkmg</td>\n",
       "      <td>A bit pricy for frozen banana mash? \\n\\nI woul...</td>\n",
       "      <td>8.0</td>\n",
       "      <td>3.0</td>\n",
       "    </tr>\n",
       "  </tbody>\n",
       "</table>\n",
       "</div>"
      ],
      "text/plain": [
       "              business_id                                               text  \\\n",
       "0  Bh5VbI_9msk3GaD0kiKkmg  Gluten free, dairy free and vegan \"ice cream\"....   \n",
       "1  Bh5VbI_9msk3GaD0kiKkmg  I struggled with the rating on this one, but I...   \n",
       "2  Bh5VbI_9msk3GaD0kiKkmg  I love how the other reviewers only ever had o...   \n",
       "3  Bh5VbI_9msk3GaD0kiKkmg  I love to see new vegan places pop up in and a...   \n",
       "4  Bh5VbI_9msk3GaD0kiKkmg  A bit pricy for frozen banana mash? \\n\\nI woul...   \n",
       "\n",
       "   useful  stars  \n",
       "0     4.0    3.0  \n",
       "1     3.0    2.0  \n",
       "2     7.0    1.0  \n",
       "3     3.0    4.0  \n",
       "4     8.0    3.0  "
      ]
     },
     "execution_count": 2,
     "metadata": {},
     "output_type": "execute_result"
    }
   ],
   "source": [
    "df.head()"
   ]
  },
  {
   "cell_type": "code",
   "execution_count": 4,
   "metadata": {},
   "outputs": [],
   "source": [
    "# getting the training or testing ids is to use the LDA fitting the training sets and predict\n",
    "# the topic categories of the testing set\n",
    "\n",
    "train_id = pd.read_csv('train_set_id.csv', encoding ='utf-8')\n",
    "train_id.columns = ['business_id']\n",
    "\n",
    "test_id = pd.read_csv('test_set_id.csv', encoding ='utf-8')\n",
    "test_id.columns = ['business_id']"
   ]
  },
  {
   "cell_type": "code",
   "execution_count": 5,
   "metadata": {},
   "outputs": [],
   "source": [
    "df_train = train_id.merge(df, how = 'left', left_on='business_id', right_on='business_id')\n",
    "df_train.dropna(how='any', inplace = True)\n",
    "\n",
    "df_test = test_id.merge(df, how = 'left', left_on='business_id', right_on='business_id')\n",
    "df_test.dropna(how='any', inplace = True)"
   ]
  },
  {
   "cell_type": "code",
   "execution_count": 6,
   "metadata": {},
   "outputs": [
    {
     "data": {
      "text/plain": [
       "(334838, 4)"
      ]
     },
     "execution_count": 6,
     "metadata": {},
     "output_type": "execute_result"
    }
   ],
   "source": [
    "df_train.shape"
   ]
  },
  {
   "cell_type": "code",
   "execution_count": 7,
   "metadata": {},
   "outputs": [
    {
     "data": {
      "text/plain": [
       "(145724, 4)"
      ]
     },
     "execution_count": 7,
     "metadata": {},
     "output_type": "execute_result"
    }
   ],
   "source": [
    "df_test.shape"
   ]
  },
  {
   "cell_type": "code",
   "execution_count": 9,
   "metadata": {},
   "outputs": [],
   "source": [
    "from sklearn.feature_extraction.text import CountVectorizer\n",
    "\n",
    "count = CountVectorizer(stop_words='english',\n",
    "                        max_df=0.1,\n",
    "                        max_features=10000)\n",
    "X_train = count.fit_transform(df_train['text'].values)\n",
    "X_test = count.transform(df_test['text'].values)"
   ]
  },
  {
   "cell_type": "code",
   "execution_count": 10,
   "metadata": {},
   "outputs": [
    {
     "name": "stdout",
     "output_type": "stream",
     "text": [
      "iteration: 1 of max_iter: 15\n",
      "iteration: 2 of max_iter: 15\n",
      "iteration: 3 of max_iter: 15\n",
      "iteration: 4 of max_iter: 15\n",
      "iteration: 5 of max_iter: 15\n",
      "iteration: 6 of max_iter: 15\n",
      "iteration: 7 of max_iter: 15\n",
      "iteration: 8 of max_iter: 15\n",
      "iteration: 9 of max_iter: 15\n",
      "iteration: 10 of max_iter: 15\n",
      "iteration: 11 of max_iter: 15\n",
      "iteration: 12 of max_iter: 15\n",
      "iteration: 13 of max_iter: 15\n",
      "iteration: 14 of max_iter: 15\n",
      "iteration: 15 of max_iter: 15\n"
     ]
    }
   ],
   "source": [
    "from sklearn.decomposition import LatentDirichletAllocation\n",
    "lda = LatentDirichletAllocation(n_components = 10, \n",
    "                                random_state = 1, \n",
    "                                learning_method = 'online',\n",
    "                                max_iter  = 15,\n",
    "                                verbose=1,\n",
    "                                n_jobs = -1)\n",
    "\n",
    "X_topics_train = lda.fit_transform(X_train)\n",
    "X_topics_test = lda.transform(X_test)"
   ]
  },
  {
   "cell_type": "code",
   "execution_count": 22,
   "metadata": {
    "scrolled": true
   },
   "outputs": [
    {
     "name": "stdout",
     "output_type": "stream",
     "text": [
      "Topic 0:\n",
      "vegas hotel strip las gets lamb floor casino stay pool club pita rooms smell hummus market greek naan check dance bathroom line staying walk resort gyro play bars smoke wrap\n",
      "Topic 1:\n",
      "told waitress manager customer left ask finally walked waiting waited guy waiter away customers let water check owner later tell seated gave called brought friend looked worst arrived rude sat\n",
      "Topic 2:\n",
      "pork fried spicy soup dish beef shrimp dishes noodles bbq chinese thai bowl tea green egg pho curry broth crispy fish served noodle corn cooked korean tender tofu red rolls\n",
      "Topic 3:\n",
      "breakfast coffee cream chocolate ice cake dessert brunch toast bacon french butter morning fruit desserts sugar waffles apple glasses hash potatoes waffle cup bread cafe pie strawberry flavors pudding bakery\n",
      "Topic 4:\n",
      "tacos buffet quality chips stars person worth location mexican line probably maybe ok taco salsa decent places prices reviews star half extra actually pay burrito items isn tasted average fast\n",
      "Topic 5:\n",
      "pizza hour room happy beer wings tables party 30 group friends crust outside half sit patio large music inside wine fun door view open game friend cool able friday decided\n",
      "Topic 6:\n",
      "fries burger bread steak sandwich cooked wine dish served pasta potato burgers italian grilled bacon beef tomato perfectly potatoes plate course onion dessert mac garlic medium dressing appetizer special cut\n",
      "Topic 7:\n",
      "free yelp vegan store business review dog com kids drive use shop room card old http yes www kid need located gluten counter home select parking park cash mall local\n",
      "Topic 8:\n",
      "sushi roll fish crab ramen rolls tuna salmon japanese lobster sashimi la le oysters ayce seafood et miso chef poke shrimp stomach est sake foie dã legs gras pour pieces\n",
      "Topic 9:\n",
      "spot feel location atmosphere selection recommend eggs favorite super decor looking visit options prices awesome excellent quite enjoy places high perfect quality inside open highly town dining clean different things\n"
     ]
    }
   ],
   "source": [
    "n_top_words = 30\n",
    "\n",
    "feature_names = count.get_feature_names()\n",
    "for topic_idx, topic in enumerate(lda.components_):\n",
    "    print('Topic %d:' % (topic_idx))\n",
    "    print(\" \".join([feature_names[i] \n",
    "                    for i in topic.argsort()  \n",
    "                     [:-n_top_words - 1: -1]]))"
   ]
  },
  {
   "cell_type": "code",
   "execution_count": 12,
   "metadata": {},
   "outputs": [],
   "source": [
    "# identify the column index of the max values in the rows, which is the class of each row\n",
    "import numpy as np\n",
    "idx = np.argmax(X_topics_train, axis=1)"
   ]
  },
  {
   "cell_type": "code",
   "execution_count": 13,
   "metadata": {},
   "outputs": [],
   "source": [
    "df_train['label'] = (df_train['stars'] >= 4)*1"
   ]
  },
  {
   "cell_type": "code",
   "execution_count": 14,
   "metadata": {},
   "outputs": [],
   "source": [
    "df_train['Topic'] = idx"
   ]
  },
  {
   "cell_type": "code",
   "execution_count": 15,
   "metadata": {},
   "outputs": [],
   "source": [
    "df_train.head()\n",
    "df_train.to_csv('review_train.csv', index = False)"
   ]
  },
  {
   "cell_type": "code",
   "execution_count": 16,
   "metadata": {},
   "outputs": [],
   "source": [
    "df_test['label'] = (df_test['stars'] >= 4)*1"
   ]
  },
  {
   "cell_type": "code",
   "execution_count": 17,
   "metadata": {},
   "outputs": [],
   "source": [
    "# identify the column index of the max values in the rows, which is the class of each row\n",
    "import numpy as np\n",
    "idx = np.argmax(X_topics_test, axis=1)"
   ]
  },
  {
   "cell_type": "code",
   "execution_count": 18,
   "metadata": {},
   "outputs": [],
   "source": [
    "df_test['Topic'] = idx"
   ]
  },
  {
   "cell_type": "code",
   "execution_count": 19,
   "metadata": {},
   "outputs": [],
   "source": [
    "df_test.head()\n",
    "df_test.to_csv('review_test.csv', index = False)"
   ]
  },
  {
   "cell_type": "code",
   "execution_count": null,
   "metadata": {},
   "outputs": [],
   "source": []
  },
  {
   "cell_type": "code",
   "execution_count": 62,
   "metadata": {},
   "outputs": [],
   "source": [
    "import pandas as pd\n",
    "import numpy as np"
   ]
  },
  {
   "cell_type": "code",
   "execution_count": 63,
   "metadata": {},
   "outputs": [],
   "source": [
    "df_train = pd.read_csv('review_train.csv')\n",
    "df_test = pd.read_csv('review_test.csv')"
   ]
  },
  {
   "cell_type": "code",
   "execution_count": 64,
   "metadata": {},
   "outputs": [],
   "source": [
    "df_train['score'] = df_train['label'].replace(0, -1)"
   ]
  },
  {
   "cell_type": "code",
   "execution_count": 65,
   "metadata": {},
   "outputs": [],
   "source": [
    "df_test['score'] = df_test['label'].replace(0, -1)"
   ]
  },
  {
   "cell_type": "code",
   "execution_count": 68,
   "metadata": {},
   "outputs": [
    {
     "data": {
      "text/plain": [
       "29598"
      ]
     },
     "execution_count": 68,
     "metadata": {},
     "output_type": "execute_result"
    }
   ],
   "source": [
    "len(df_train['business_id'].unique())"
   ]
  },
  {
   "cell_type": "code",
   "execution_count": 36,
   "metadata": {
    "scrolled": true
   },
   "outputs": [
    {
     "data": {
      "text/html": [
       "<div>\n",
       "<style scoped>\n",
       "    .dataframe tbody tr th:only-of-type {\n",
       "        vertical-align: middle;\n",
       "    }\n",
       "\n",
       "    .dataframe tbody tr th {\n",
       "        vertical-align: top;\n",
       "    }\n",
       "\n",
       "    .dataframe thead th {\n",
       "        text-align: right;\n",
       "    }\n",
       "</style>\n",
       "<table border=\"1\" class=\"dataframe\">\n",
       "  <thead>\n",
       "    <tr style=\"text-align: right;\">\n",
       "      <th></th>\n",
       "      <th>business_id</th>\n",
       "      <th>Topic0</th>\n",
       "      <th>Topic1</th>\n",
       "      <th>Topic2</th>\n",
       "      <th>Topic3</th>\n",
       "      <th>Topic4</th>\n",
       "      <th>Topic5</th>\n",
       "      <th>Topic6</th>\n",
       "      <th>Topic7</th>\n",
       "      <th>Topic8</th>\n",
       "      <th>Topic9</th>\n",
       "    </tr>\n",
       "  </thead>\n",
       "  <tbody>\n",
       "    <tr>\n",
       "      <th>0</th>\n",
       "      <td>--6MefnULPED_I942VcFNA</td>\n",
       "      <td>0.0</td>\n",
       "      <td>-1.0</td>\n",
       "      <td>0.6</td>\n",
       "      <td>0.0</td>\n",
       "      <td>0.0</td>\n",
       "      <td>0.0</td>\n",
       "      <td>0.0</td>\n",
       "      <td>1.0</td>\n",
       "      <td>0.0</td>\n",
       "      <td>0.000000</td>\n",
       "    </tr>\n",
       "    <tr>\n",
       "      <th>1</th>\n",
       "      <td>--DaPTJW3-tB1vP-PfdTEg</td>\n",
       "      <td>0.0</td>\n",
       "      <td>0.0</td>\n",
       "      <td>0.0</td>\n",
       "      <td>0.0</td>\n",
       "      <td>0.0</td>\n",
       "      <td>0.0</td>\n",
       "      <td>0.0</td>\n",
       "      <td>0.0</td>\n",
       "      <td>0.0</td>\n",
       "      <td>1.000000</td>\n",
       "    </tr>\n",
       "    <tr>\n",
       "      <th>2</th>\n",
       "      <td>--FBCX-N37CMYDfs790Bnw</td>\n",
       "      <td>0.0</td>\n",
       "      <td>-0.5</td>\n",
       "      <td>0.0</td>\n",
       "      <td>0.0</td>\n",
       "      <td>-1.0</td>\n",
       "      <td>0.6</td>\n",
       "      <td>0.0</td>\n",
       "      <td>0.0</td>\n",
       "      <td>0.0</td>\n",
       "      <td>0.333333</td>\n",
       "    </tr>\n",
       "    <tr>\n",
       "      <th>3</th>\n",
       "      <td>--S62v0QgkqQaVUhFnNHrw</td>\n",
       "      <td>0.0</td>\n",
       "      <td>-1.0</td>\n",
       "      <td>0.0</td>\n",
       "      <td>0.0</td>\n",
       "      <td>0.0</td>\n",
       "      <td>0.0</td>\n",
       "      <td>0.0</td>\n",
       "      <td>0.0</td>\n",
       "      <td>0.0</td>\n",
       "      <td>0.000000</td>\n",
       "    </tr>\n",
       "    <tr>\n",
       "      <th>4</th>\n",
       "      <td>--SrzpvFLwP_YFwB_Cetow</td>\n",
       "      <td>0.0</td>\n",
       "      <td>-1.0</td>\n",
       "      <td>1.0</td>\n",
       "      <td>0.0</td>\n",
       "      <td>0.0</td>\n",
       "      <td>0.0</td>\n",
       "      <td>0.0</td>\n",
       "      <td>0.0</td>\n",
       "      <td>0.0</td>\n",
       "      <td>1.000000</td>\n",
       "    </tr>\n",
       "  </tbody>\n",
       "</table>\n",
       "</div>"
      ],
      "text/plain": [
       "              business_id  Topic0  Topic1  Topic2  Topic3  Topic4  Topic5  \\\n",
       "0  --6MefnULPED_I942VcFNA     0.0    -1.0     0.6     0.0     0.0     0.0   \n",
       "1  --DaPTJW3-tB1vP-PfdTEg     0.0     0.0     0.0     0.0     0.0     0.0   \n",
       "2  --FBCX-N37CMYDfs790Bnw     0.0    -0.5     0.0     0.0    -1.0     0.6   \n",
       "3  --S62v0QgkqQaVUhFnNHrw     0.0    -1.0     0.0     0.0     0.0     0.0   \n",
       "4  --SrzpvFLwP_YFwB_Cetow     0.0    -1.0     1.0     0.0     0.0     0.0   \n",
       "\n",
       "   Topic6  Topic7  Topic8    Topic9  \n",
       "0     0.0     1.0     0.0  0.000000  \n",
       "1     0.0     0.0     0.0  1.000000  \n",
       "2     0.0     0.0     0.0  0.333333  \n",
       "3     0.0     0.0     0.0  0.000000  \n",
       "4     0.0     0.0     0.0  1.000000  "
      ]
     },
     "execution_count": 36,
     "metadata": {},
     "output_type": "execute_result"
    }
   ],
   "source": [
    "topic_train = df_train.groupby(['business_id', 'Topic']).mean()['score'].unstack().fillna(0).reset_index()\n",
    "topic_train.index.name = None\n",
    "topic_train.columns = ['business_id', 'Topic0', 'Topic1', 'Topic2', 'Topic3', 'Topic4', \n",
    "                       'Topic5', 'Topic6', 'Topic7', 'Topic8', 'Topic9']\n",
    "topic_train.head()"
   ]
  },
  {
   "cell_type": "code",
   "execution_count": 28,
   "metadata": {},
   "outputs": [],
   "source": [
    "topic_train.to_csv('train_topic_score.csv', index = False)"
   ]
  },
  {
   "cell_type": "code",
   "execution_count": 37,
   "metadata": {},
   "outputs": [
    {
     "data": {
      "text/html": [
       "<div>\n",
       "<style scoped>\n",
       "    .dataframe tbody tr th:only-of-type {\n",
       "        vertical-align: middle;\n",
       "    }\n",
       "\n",
       "    .dataframe tbody tr th {\n",
       "        vertical-align: top;\n",
       "    }\n",
       "\n",
       "    .dataframe thead th {\n",
       "        text-align: right;\n",
       "    }\n",
       "</style>\n",
       "<table border=\"1\" class=\"dataframe\">\n",
       "  <thead>\n",
       "    <tr style=\"text-align: right;\">\n",
       "      <th></th>\n",
       "      <th>business_id</th>\n",
       "      <th>Topic0</th>\n",
       "      <th>Topic1</th>\n",
       "      <th>Topic2</th>\n",
       "      <th>Topic3</th>\n",
       "      <th>Topic4</th>\n",
       "      <th>Topic5</th>\n",
       "      <th>Topic6</th>\n",
       "      <th>Topic7</th>\n",
       "      <th>Topic8</th>\n",
       "      <th>Topic9</th>\n",
       "    </tr>\n",
       "  </thead>\n",
       "  <tbody>\n",
       "    <tr>\n",
       "      <th>0</th>\n",
       "      <td>--9e1ONYQuAa-CB_Rrw7Tw</td>\n",
       "      <td>0.0</td>\n",
       "      <td>-0.333333</td>\n",
       "      <td>1.000000</td>\n",
       "      <td>1.0</td>\n",
       "      <td>0.333333</td>\n",
       "      <td>0.428571</td>\n",
       "      <td>0.631206</td>\n",
       "      <td>0.0</td>\n",
       "      <td>0.0</td>\n",
       "      <td>1.0</td>\n",
       "    </tr>\n",
       "    <tr>\n",
       "      <th>1</th>\n",
       "      <td>--I7YYLada0tSLkORTHb5Q</td>\n",
       "      <td>0.0</td>\n",
       "      <td>0.000000</td>\n",
       "      <td>1.000000</td>\n",
       "      <td>0.0</td>\n",
       "      <td>0.000000</td>\n",
       "      <td>0.000000</td>\n",
       "      <td>0.000000</td>\n",
       "      <td>0.0</td>\n",
       "      <td>0.0</td>\n",
       "      <td>1.0</td>\n",
       "    </tr>\n",
       "    <tr>\n",
       "      <th>2</th>\n",
       "      <td>--KCl2FvVQpvjzmZSPyviA</td>\n",
       "      <td>0.0</td>\n",
       "      <td>0.000000</td>\n",
       "      <td>0.000000</td>\n",
       "      <td>0.0</td>\n",
       "      <td>0.000000</td>\n",
       "      <td>1.000000</td>\n",
       "      <td>0.000000</td>\n",
       "      <td>-1.0</td>\n",
       "      <td>0.0</td>\n",
       "      <td>0.0</td>\n",
       "    </tr>\n",
       "    <tr>\n",
       "      <th>3</th>\n",
       "      <td>-092wE7j5HZOogMLAh40zA</td>\n",
       "      <td>0.0</td>\n",
       "      <td>-0.500000</td>\n",
       "      <td>-0.333333</td>\n",
       "      <td>0.0</td>\n",
       "      <td>-1.000000</td>\n",
       "      <td>0.000000</td>\n",
       "      <td>0.000000</td>\n",
       "      <td>0.0</td>\n",
       "      <td>0.0</td>\n",
       "      <td>1.0</td>\n",
       "    </tr>\n",
       "    <tr>\n",
       "      <th>4</th>\n",
       "      <td>-0BxAGlIk5DJAGVkpqBXxg</td>\n",
       "      <td>0.0</td>\n",
       "      <td>-1.000000</td>\n",
       "      <td>0.000000</td>\n",
       "      <td>-1.0</td>\n",
       "      <td>-1.000000</td>\n",
       "      <td>0.000000</td>\n",
       "      <td>0.000000</td>\n",
       "      <td>0.0</td>\n",
       "      <td>0.0</td>\n",
       "      <td>0.0</td>\n",
       "    </tr>\n",
       "  </tbody>\n",
       "</table>\n",
       "</div>"
      ],
      "text/plain": [
       "              business_id  Topic0    Topic1    Topic2  Topic3    Topic4  \\\n",
       "0  --9e1ONYQuAa-CB_Rrw7Tw     0.0 -0.333333  1.000000     1.0  0.333333   \n",
       "1  --I7YYLada0tSLkORTHb5Q     0.0  0.000000  1.000000     0.0  0.000000   \n",
       "2  --KCl2FvVQpvjzmZSPyviA     0.0  0.000000  0.000000     0.0  0.000000   \n",
       "3  -092wE7j5HZOogMLAh40zA     0.0 -0.500000 -0.333333     0.0 -1.000000   \n",
       "4  -0BxAGlIk5DJAGVkpqBXxg     0.0 -1.000000  0.000000    -1.0 -1.000000   \n",
       "\n",
       "     Topic5    Topic6  Topic7  Topic8  Topic9  \n",
       "0  0.428571  0.631206     0.0     0.0     1.0  \n",
       "1  0.000000  0.000000     0.0     0.0     1.0  \n",
       "2  1.000000  0.000000    -1.0     0.0     0.0  \n",
       "3  0.000000  0.000000     0.0     0.0     1.0  \n",
       "4  0.000000  0.000000     0.0     0.0     0.0  "
      ]
     },
     "execution_count": 37,
     "metadata": {},
     "output_type": "execute_result"
    }
   ],
   "source": [
    "topic_test = df_test.groupby(['business_id', 'Topic']).mean()['score'].unstack().fillna(0).reset_index()\n",
    "topic_test.index.name = None\n",
    "topic_test.columns = ['business_id', 'Topic0', 'Topic1', 'Topic2', 'Topic3', 'Topic4', \n",
    "                       'Topic5', 'Topic6', 'Topic7', 'Topic8', 'Topic9']\n",
    "topic_test.head()"
   ]
  },
  {
   "cell_type": "code",
   "execution_count": 29,
   "metadata": {},
   "outputs": [],
   "source": [
    "topic_test.to_csv('test_topic_score.csv', index = False)"
   ]
  },
  {
   "cell_type": "code",
   "execution_count": 38,
   "metadata": {},
   "outputs": [
    {
     "name": "stdout",
     "output_type": "stream",
     "text": [
      "(29598, 11)\n",
      "(12672, 11)\n"
     ]
    }
   ],
   "source": [
    "print(topic_train.shape)\n",
    "print(topic_test.shape)"
   ]
  },
  {
   "cell_type": "code",
   "execution_count": 44,
   "metadata": {},
   "outputs": [],
   "source": [
    "topic = pd.concat([topic_train, topic_test])"
   ]
  },
  {
   "cell_type": "code",
   "execution_count": 49,
   "metadata": {},
   "outputs": [],
   "source": [
    "topic.to_csv('topic_score.csv', index = False)"
   ]
  },
  {
   "cell_type": "code",
   "execution_count": 18,
   "metadata": {},
   "outputs": [
    {
     "name": "stdout",
     "output_type": "stream",
     "text": [
      "\n",
      " Horror moive #1:\n",
      "I. Don't Get. It. That about sums up my two experiences at Happy Dog. It's a gimmick. The place basically serves two things, tater tots and hot dogs, with the rest of the menu a mishmash of pantry items and sauces that you can then throw on top of said tater tots and hot dogs. It's that simple. Oh,  ...\n",
      "\n",
      " Horror moive #2:\n",
      "Never have I been more pissed off at a restaurant before.\n",
      "I will later describe how horrible their service is but first let's get the other stuff out of the way.\n",
      "\n",
      "Ordering system:\n",
      "We went for lunch and we got to use the ipad. The price is no longer the same as the menu picture on Yelp. Lunch is now  ...\n",
      "\n",
      " Horror moive #3:\n",
      "This place is obviously a well-kept secret - two months since my visit to The Theatre Centre and still no FTR. It's been a while since my last epic review, and my trusty keyboard and I have been dying for a good reason to let the horses out on the open road. Buckle your seatbelts, kids - this Queen  ...\n"
     ]
    }
   ],
   "source": [
    "horror = X_topics[:, 0].argsort()\n",
    "for iter_idx, movie_idx in enumerate(horror[:3]):\n",
    "    print('\\n Horror moive #%d:' % (iter_idx+1))\n",
    "    print(df['text'][movie_idx][:300], '...')"
   ]
  },
  {
   "cell_type": "code",
   "execution_count": null,
   "metadata": {},
   "outputs": [],
   "source": []
  },
  {
   "cell_type": "code",
   "execution_count": null,
   "metadata": {},
   "outputs": [],
   "source": [
    "#### Now is the example in the slide"
   ]
  },
  {
   "cell_type": "code",
   "execution_count": 19,
   "metadata": {},
   "outputs": [],
   "source": [
    "# E.g. take restaurant 'cInZkUSckKwxCqAR7s2ETw' as an example: First Watch\n",
    "\n",
    "eg_res = df[df['business_id'] == 'cInZkUSckKwxCqAR7s2ETw']"
   ]
  },
  {
   "cell_type": "code",
   "execution_count": 17,
   "metadata": {},
   "outputs": [],
   "source": [
    "eg = pd.read_csv('topic_score.csv')"
   ]
  },
  {
   "cell_type": "code",
   "execution_count": 18,
   "metadata": {},
   "outputs": [
    {
     "data": {
      "text/html": [
       "<div>\n",
       "<style scoped>\n",
       "    .dataframe tbody tr th:only-of-type {\n",
       "        vertical-align: middle;\n",
       "    }\n",
       "\n",
       "    .dataframe tbody tr th {\n",
       "        vertical-align: top;\n",
       "    }\n",
       "\n",
       "    .dataframe thead th {\n",
       "        text-align: right;\n",
       "    }\n",
       "</style>\n",
       "<table border=\"1\" class=\"dataframe\">\n",
       "  <thead>\n",
       "    <tr style=\"text-align: right;\">\n",
       "      <th></th>\n",
       "      <th>business_id</th>\n",
       "      <th>Topic0</th>\n",
       "      <th>Topic1</th>\n",
       "      <th>Topic2</th>\n",
       "      <th>Topic3</th>\n",
       "      <th>Topic4</th>\n",
       "      <th>Topic5</th>\n",
       "      <th>Topic6</th>\n",
       "      <th>Topic7</th>\n",
       "      <th>Topic8</th>\n",
       "      <th>Topic9</th>\n",
       "    </tr>\n",
       "  </thead>\n",
       "  <tbody>\n",
       "    <tr>\n",
       "      <th>18652</th>\n",
       "      <td>cInZkUSckKwxCqAR7s2ETw</td>\n",
       "      <td>0.0</td>\n",
       "      <td>0.0</td>\n",
       "      <td>0.0</td>\n",
       "      <td>1.0</td>\n",
       "      <td>0.0</td>\n",
       "      <td>0.0</td>\n",
       "      <td>0.0</td>\n",
       "      <td>0.0</td>\n",
       "      <td>0.0</td>\n",
       "      <td>1.0</td>\n",
       "    </tr>\n",
       "  </tbody>\n",
       "</table>\n",
       "</div>"
      ],
      "text/plain": [
       "                  business_id  Topic0  Topic1  Topic2  Topic3  Topic4  Topic5  \\\n",
       "18652  cInZkUSckKwxCqAR7s2ETw     0.0     0.0     0.0     1.0     0.0     0.0   \n",
       "\n",
       "       Topic6  Topic7  Topic8  Topic9  \n",
       "18652     0.0     0.0     0.0     1.0  "
      ]
     },
     "execution_count": 18,
     "metadata": {},
     "output_type": "execute_result"
    }
   ],
   "source": [
    "eg[eg['business_id'] == 'cInZkUSckKwxCqAR7s2ETw']"
   ]
  },
  {
   "cell_type": "code",
   "execution_count": 42,
   "metadata": {},
   "outputs": [
    {
     "data": {
      "text/html": [
       "<div>\n",
       "<style scoped>\n",
       "    .dataframe tbody tr th:only-of-type {\n",
       "        vertical-align: middle;\n",
       "    }\n",
       "\n",
       "    .dataframe tbody tr th {\n",
       "        vertical-align: top;\n",
       "    }\n",
       "\n",
       "    .dataframe thead th {\n",
       "        text-align: right;\n",
       "    }\n",
       "</style>\n",
       "<table border=\"1\" class=\"dataframe\">\n",
       "  <thead>\n",
       "    <tr style=\"text-align: right;\">\n",
       "      <th></th>\n",
       "      <th>business_id</th>\n",
       "      <th>text</th>\n",
       "      <th>useful</th>\n",
       "      <th>stars</th>\n",
       "    </tr>\n",
       "  </thead>\n",
       "  <tbody>\n",
       "    <tr>\n",
       "      <th>711</th>\n",
       "      <td>cInZkUSckKwxCqAR7s2ETw</td>\n",
       "      <td>I've been here twice to this same location. Th...</td>\n",
       "      <td>3.0</td>\n",
       "      <td>4.0</td>\n",
       "    </tr>\n",
       "    <tr>\n",
       "      <th>712</th>\n",
       "      <td>cInZkUSckKwxCqAR7s2ETw</td>\n",
       "      <td>First Watch is my first encounter with a chain...</td>\n",
       "      <td>3.0</td>\n",
       "      <td>3.0</td>\n",
       "    </tr>\n",
       "    <tr>\n",
       "      <th>713</th>\n",
       "      <td>cInZkUSckKwxCqAR7s2ETw</td>\n",
       "      <td>First Watch was so delicious and much needed a...</td>\n",
       "      <td>4.0</td>\n",
       "      <td>4.0</td>\n",
       "    </tr>\n",
       "    <tr>\n",
       "      <th>714</th>\n",
       "      <td>cInZkUSckKwxCqAR7s2ETw</td>\n",
       "      <td>Super healthy breakfast foods.  Super tasty to...</td>\n",
       "      <td>5.0</td>\n",
       "      <td>4.0</td>\n",
       "    </tr>\n",
       "    <tr>\n",
       "      <th>715</th>\n",
       "      <td>cInZkUSckKwxCqAR7s2ETw</td>\n",
       "      <td>This place rules!\\nI have never had even a sli...</td>\n",
       "      <td>3.0</td>\n",
       "      <td>5.0</td>\n",
       "    </tr>\n",
       "  </tbody>\n",
       "</table>\n",
       "</div>"
      ],
      "text/plain": [
       "                business_id  \\\n",
       "711  cInZkUSckKwxCqAR7s2ETw   \n",
       "712  cInZkUSckKwxCqAR7s2ETw   \n",
       "713  cInZkUSckKwxCqAR7s2ETw   \n",
       "714  cInZkUSckKwxCqAR7s2ETw   \n",
       "715  cInZkUSckKwxCqAR7s2ETw   \n",
       "\n",
       "                                                  text  useful  stars  \n",
       "711  I've been here twice to this same location. Th...     3.0    4.0  \n",
       "712  First Watch is my first encounter with a chain...     3.0    3.0  \n",
       "713  First Watch was so delicious and much needed a...     4.0    4.0  \n",
       "714  Super healthy breakfast foods.  Super tasty to...     5.0    4.0  \n",
       "715  This place rules!\\nI have never had even a sli...     3.0    5.0  "
      ]
     },
     "execution_count": 42,
     "metadata": {},
     "output_type": "execute_result"
    }
   ],
   "source": [
    "eg_res"
   ]
  },
  {
   "cell_type": "code",
   "execution_count": 41,
   "metadata": {},
   "outputs": [
    {
     "data": {
      "text/plain": [
       "'This place rules!\\nI have never had even a slightly negative experience here.\\n\\nThe place is clean, staff is friendly and the food...\\n\\nThey have a regular menu that\\'s packed full of breakfast variety as well as a seasonal menu that changes semi-regularly.  \\nRight now they have a pumpkin pancake special that donates to the www.nokidhungry.com foundation.  I have not tried it, due to my lack of obsession over pumpkin spiced things.\\nWhat I did try, last time, was the mushroom frittata and the pork chop and egg special.  So flipping good!\\n\\nThis round we started with the butternut squash soup, with sour cream on the side.  They put quite a bit in the bowl and I feel like it diluted the flavor.  On the side is perfect because hints every now and then were perfect.\\nI ordered the Benedict this time around and got the salmon and vine grown tomato as the topping.  The farm fresh cage free eggs really made the dish shine with the bright orange yolk.  The greens they serve as a side were fantastic with a subtle vinaigrette dressing.\\nJosh chose the \"chickichanga\".  So much food!  The \"changa\" was stuffed with chicken and chorizo as well as other goodies.  The wrap itself was an omelette and a flour tortilla combo that had a lovely crisp to it.\\n\\nAnother thing I really like about the service is they set a pot of coffee and large bottle of water on the table for you to pour at your leisure.  I have never run out of coffee but I have asked for a second bottle of water, which they happily provide.\\n\\nFinally, they do have an app that allows you to \"get in line\" while you make your way to the restaurant.  Pretty cool, especially on those busy weekend mornings when everyone wants breakfast.  It\\'s saved me at least 10 minutes of waiting on one specific occasion.\\n\\nKeep in mind, they do close earlier.  2:30pm, so you will have to shuffle out of bed a wee bit early if you want to try it.'"
      ]
     },
     "execution_count": 41,
     "metadata": {},
     "output_type": "execute_result"
    }
   ],
   "source": [
    "eg_res.loc[715, :]['text']"
   ]
  },
  {
   "cell_type": "code",
   "execution_count": null,
   "metadata": {},
   "outputs": [],
   "source": []
  }
 ],
 "metadata": {
  "kernelspec": {
   "display_name": "Python 3",
   "language": "python",
   "name": "python3"
  },
  "language_info": {
   "codemirror_mode": {
    "name": "ipython",
    "version": 3
   },
   "file_extension": ".py",
   "mimetype": "text/x-python",
   "name": "python",
   "nbconvert_exporter": "python",
   "pygments_lexer": "ipython3",
   "version": "3.6.8"
  },
  "toc": {
   "base_numbering": 1,
   "nav_menu": {},
   "number_sections": false,
   "sideBar": true,
   "skip_h1_title": false,
   "title_cell": "Table of Contents",
   "title_sidebar": "Contents",
   "toc_cell": false,
   "toc_position": {},
   "toc_section_display": true,
   "toc_window_display": false
  }
 },
 "nbformat": 4,
 "nbformat_minor": 2
}
