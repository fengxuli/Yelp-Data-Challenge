{
 "cells": [
  {
   "cell_type": "markdown",
   "metadata": {},
   "source": [
    "### Yelp Project Part II: Feature Engineering - Feature Aggregation "
   ]
  },
  {
   "cell_type": "code",
   "execution_count": 92,
   "metadata": {},
   "outputs": [],
   "source": [
    "import numpy as np\n",
    "import pandas as pd\n",
    "import statsmodels.api as sm"
   ]
  },
  {
   "cell_type": "code",
   "execution_count": 121,
   "metadata": {},
   "outputs": [],
   "source": [
    "df = pd.read_csv('restaurant_final.csv')"
   ]
  },
  {
   "cell_type": "code",
   "execution_count": 122,
   "metadata": {},
   "outputs": [
    {
     "data": {
      "text/html": [
       "<div>\n",
       "<style scoped>\n",
       "    .dataframe tbody tr th:only-of-type {\n",
       "        vertical-align: middle;\n",
       "    }\n",
       "\n",
       "    .dataframe tbody tr th {\n",
       "        vertical-align: top;\n",
       "    }\n",
       "\n",
       "    .dataframe thead th {\n",
       "        text-align: right;\n",
       "    }\n",
       "</style>\n",
       "<table border=\"1\" class=\"dataframe\">\n",
       "  <thead>\n",
       "    <tr style=\"text-align: right;\">\n",
       "      <th></th>\n",
       "      <th>Ambience_casual</th>\n",
       "      <th>Ambience_classy</th>\n",
       "      <th>Ambience_divey</th>\n",
       "      <th>Ambience_hipster</th>\n",
       "      <th>Ambience_intimate</th>\n",
       "      <th>Ambience_romantic</th>\n",
       "      <th>Ambience_touristy</th>\n",
       "      <th>Ambience_trendy</th>\n",
       "      <th>Ambience_upscale</th>\n",
       "      <th>BestNights_friday</th>\n",
       "      <th>...</th>\n",
       "      <th>Topic0</th>\n",
       "      <th>Topic2</th>\n",
       "      <th>Topic3</th>\n",
       "      <th>Topic4</th>\n",
       "      <th>Topic5</th>\n",
       "      <th>Topic6</th>\n",
       "      <th>Topic7</th>\n",
       "      <th>Topic8</th>\n",
       "      <th>Topic9</th>\n",
       "      <th>Topic1</th>\n",
       "    </tr>\n",
       "  </thead>\n",
       "  <tbody>\n",
       "    <tr>\n",
       "      <th>0</th>\n",
       "      <td>1</td>\n",
       "      <td>0</td>\n",
       "      <td>0</td>\n",
       "      <td>0</td>\n",
       "      <td>0</td>\n",
       "      <td>0</td>\n",
       "      <td>0</td>\n",
       "      <td>0</td>\n",
       "      <td>0</td>\n",
       "      <td>0</td>\n",
       "      <td>...</td>\n",
       "      <td>0.0</td>\n",
       "      <td>0.0</td>\n",
       "      <td>1.0</td>\n",
       "      <td>-1.0</td>\n",
       "      <td>0.0</td>\n",
       "      <td>0.0</td>\n",
       "      <td>-1.0</td>\n",
       "      <td>0.0</td>\n",
       "      <td>0.0</td>\n",
       "      <td>-0.384615</td>\n",
       "    </tr>\n",
       "    <tr>\n",
       "      <th>1</th>\n",
       "      <td>1</td>\n",
       "      <td>0</td>\n",
       "      <td>0</td>\n",
       "      <td>0</td>\n",
       "      <td>0</td>\n",
       "      <td>0</td>\n",
       "      <td>0</td>\n",
       "      <td>0</td>\n",
       "      <td>0</td>\n",
       "      <td>0</td>\n",
       "      <td>...</td>\n",
       "      <td>0.0</td>\n",
       "      <td>0.0</td>\n",
       "      <td>0.0</td>\n",
       "      <td>0.0</td>\n",
       "      <td>0.0</td>\n",
       "      <td>1.0</td>\n",
       "      <td>0.0</td>\n",
       "      <td>0.0</td>\n",
       "      <td>0.0</td>\n",
       "      <td>1.000000</td>\n",
       "    </tr>\n",
       "    <tr>\n",
       "      <th>2</th>\n",
       "      <td>1</td>\n",
       "      <td>0</td>\n",
       "      <td>0</td>\n",
       "      <td>0</td>\n",
       "      <td>0</td>\n",
       "      <td>0</td>\n",
       "      <td>0</td>\n",
       "      <td>0</td>\n",
       "      <td>0</td>\n",
       "      <td>0</td>\n",
       "      <td>...</td>\n",
       "      <td>0.0</td>\n",
       "      <td>0.0</td>\n",
       "      <td>1.0</td>\n",
       "      <td>1.0</td>\n",
       "      <td>0.0</td>\n",
       "      <td>0.0</td>\n",
       "      <td>0.0</td>\n",
       "      <td>0.0</td>\n",
       "      <td>1.0</td>\n",
       "      <td>1.000000</td>\n",
       "    </tr>\n",
       "    <tr>\n",
       "      <th>3</th>\n",
       "      <td>1</td>\n",
       "      <td>0</td>\n",
       "      <td>0</td>\n",
       "      <td>0</td>\n",
       "      <td>0</td>\n",
       "      <td>0</td>\n",
       "      <td>0</td>\n",
       "      <td>0</td>\n",
       "      <td>0</td>\n",
       "      <td>0</td>\n",
       "      <td>...</td>\n",
       "      <td>0.0</td>\n",
       "      <td>0.0</td>\n",
       "      <td>0.0</td>\n",
       "      <td>0.0</td>\n",
       "      <td>0.0</td>\n",
       "      <td>1.0</td>\n",
       "      <td>0.0</td>\n",
       "      <td>0.0</td>\n",
       "      <td>-1.0</td>\n",
       "      <td>-0.333333</td>\n",
       "    </tr>\n",
       "    <tr>\n",
       "      <th>4</th>\n",
       "      <td>0</td>\n",
       "      <td>0</td>\n",
       "      <td>0</td>\n",
       "      <td>0</td>\n",
       "      <td>0</td>\n",
       "      <td>0</td>\n",
       "      <td>0</td>\n",
       "      <td>0</td>\n",
       "      <td>0</td>\n",
       "      <td>0</td>\n",
       "      <td>...</td>\n",
       "      <td>0.0</td>\n",
       "      <td>0.0</td>\n",
       "      <td>0.0</td>\n",
       "      <td>0.0</td>\n",
       "      <td>-1.0</td>\n",
       "      <td>0.0</td>\n",
       "      <td>0.0</td>\n",
       "      <td>0.0</td>\n",
       "      <td>0.0</td>\n",
       "      <td>-1.000000</td>\n",
       "    </tr>\n",
       "  </tbody>\n",
       "</table>\n",
       "<p>5 rows × 87 columns</p>\n",
       "</div>"
      ],
      "text/plain": [
       "   Ambience_casual  Ambience_classy  Ambience_divey  Ambience_hipster  \\\n",
       "0                1                0               0                 0   \n",
       "1                1                0               0                 0   \n",
       "2                1                0               0                 0   \n",
       "3                1                0               0                 0   \n",
       "4                0                0               0                 0   \n",
       "\n",
       "   Ambience_intimate  Ambience_romantic  Ambience_touristy  Ambience_trendy  \\\n",
       "0                  0                  0                  0                0   \n",
       "1                  0                  0                  0                0   \n",
       "2                  0                  0                  0                0   \n",
       "3                  0                  0                  0                0   \n",
       "4                  0                  0                  0                0   \n",
       "\n",
       "   Ambience_upscale  BestNights_friday  ...  Topic0  Topic2  Topic3  Topic4  \\\n",
       "0                 0                  0  ...     0.0     0.0     1.0    -1.0   \n",
       "1                 0                  0  ...     0.0     0.0     0.0     0.0   \n",
       "2                 0                  0  ...     0.0     0.0     1.0     1.0   \n",
       "3                 0                  0  ...     0.0     0.0     0.0     0.0   \n",
       "4                 0                  0  ...     0.0     0.0     0.0     0.0   \n",
       "\n",
       "   Topic5  Topic6  Topic7  Topic8  Topic9    Topic1  \n",
       "0     0.0     0.0    -1.0     0.0     0.0 -0.384615  \n",
       "1     0.0     1.0     0.0     0.0     0.0  1.000000  \n",
       "2     0.0     0.0     0.0     0.0     1.0  1.000000  \n",
       "3     0.0     1.0     0.0     0.0    -1.0 -0.333333  \n",
       "4    -1.0     0.0     0.0     0.0     0.0 -1.000000  \n",
       "\n",
       "[5 rows x 87 columns]"
      ]
     },
     "execution_count": 122,
     "metadata": {},
     "output_type": "execute_result"
    }
   ],
   "source": [
    "df.head()"
   ]
  },
  {
   "cell_type": "code",
   "execution_count": 123,
   "metadata": {},
   "outputs": [
    {
     "data": {
      "text/plain": [
       "Index(['Ambience_casual', 'Ambience_classy', 'Ambience_divey',\n",
       "       'Ambience_hipster', 'Ambience_intimate', 'Ambience_romantic',\n",
       "       'Ambience_touristy', 'Ambience_trendy', 'Ambience_upscale',\n",
       "       'BestNights_friday', 'BestNights_monday', 'BestNights_saturday',\n",
       "       'BestNights_sunday', 'BestNights_thursday', 'BestNights_tuesday',\n",
       "       'BestNights_wednesday', 'BikeParking', 'AcceptsCreditCards',\n",
       "       'Parking_garage', 'Parking_lot', 'Parking_street', 'Parking_valet',\n",
       "       'Parking_validated', 'Caters', 'DietaryRestrictions_dairy-free',\n",
       "       'DietaryRestrictions_gluten-free', 'DietaryRestrictions_halal',\n",
       "       'DietaryRestrictions_kosher', 'DietaryRestrictions_soy-free',\n",
       "       'DietaryRestrictions_vegan', 'DietaryRestrictions_vegetarian',\n",
       "       'DriveThru', 'GoodForKids', 'GoodForBreakfast', 'GoodForBrunch',\n",
       "       'GoodForDinner', 'GoodForLatenight', 'GoodForLunch', 'HasTV', 'Video',\n",
       "       'Noisy', 'Outdoor', 'Delivery', 'Group', 'Price', 'Reservation',\n",
       "       'TableService', 'TakeOut', 'latitude', 'longitude', 'review_count',\n",
       "       'stars', 'Breakfast', 'Brunch', 'Lunch', 'Dinner', 'Earlynight',\n",
       "       'Fridayophour', 'Mondayophour', 'Tuesdayophour', 'Wednesdayophour',\n",
       "       'Thursdayophour', 'Saturdayophour', 'Sundayophour',\n",
       "       'Alcohol_beer_and_wine', 'Alcohol_full_bar', 'Alcohol_none',\n",
       "       'Attire_casual', 'Attire_dressy', 'Attire_formal', 'Smoking_no',\n",
       "       'Smoking_outdoor', 'Smoking_yes', 'Wifi_free', 'Wifi_no', 'Wifi_paid',\n",
       "       'business_id', 'Topic0', 'Topic2', 'Topic3', 'Topic4', 'Topic5',\n",
       "       'Topic6', 'Topic7', 'Topic8', 'Topic9', 'Topic1'],\n",
       "      dtype='object')"
      ]
     },
     "execution_count": 123,
     "metadata": {},
     "output_type": "execute_result"
    }
   ],
   "source": [
    "df.columns"
   ]
  },
  {
   "cell_type": "code",
   "execution_count": 124,
   "metadata": {},
   "outputs": [],
   "source": [
    "# choose columns been aggregated\n",
    "columnns = ['DietaryRestrictions_dairy-free', 'DietaryRestrictions_gluten-free',\n",
    "       'DietaryRestrictions_halal', \n",
    "       'DietaryRestrictions_soy-free', 'DietaryRestrictions_vegan',\n",
    "       'DietaryRestrictions_vegetarian']"
   ]
  },
  {
   "cell_type": "code",
   "execution_count": 125,
   "metadata": {},
   "outputs": [
    {
     "name": "stderr",
     "output_type": "stream",
     "text": [
      "E:\\Program_Files\\Anaconda\\lib\\site-packages\\numpy\\core\\fromnumeric.py:2389: FutureWarning: Method .ptp is deprecated and will be removed in a future version. Use numpy.ptp instead.\n",
      "  return ptp(axis=axis, out=out, **kwargs)\n"
     ]
    }
   ],
   "source": [
    "X = df[columnns]\n",
    "y = df['stars']\n",
    "X = sm.add_constant(X)"
   ]
  },
  {
   "cell_type": "code",
   "execution_count": 126,
   "metadata": {},
   "outputs": [],
   "source": [
    "# split datasets as training set and testing set\n",
    "from sklearn.model_selection import train_test_split\n",
    "X_train, X_test, y_train, y_test = train_test_split(\n",
    "    X, y, test_size=0.3, random_state=1, stratify=y)"
   ]
  },
  {
   "cell_type": "code",
   "execution_count": 127,
   "metadata": {},
   "outputs": [
    {
     "name": "stdout",
     "output_type": "stream",
     "text": [
      "Optimization terminated successfully.\n",
      "         Current function value: 0.667226\n",
      "         Iterations 4\n"
     ]
    }
   ],
   "source": [
    "log_reg = sm.Logit(y_train, X_train)\n",
    "clf = log_reg.fit()"
   ]
  },
  {
   "cell_type": "code",
   "execution_count": 128,
   "metadata": {},
   "outputs": [
    {
     "data": {
      "text/html": [
       "<table class=\"simpletable\">\n",
       "<caption>Logit Regression Results</caption>\n",
       "<tr>\n",
       "  <th>Dep. Variable:</th>       <td>stars</td>      <th>  No. Observations:  </th>  <td> 38819</td>  \n",
       "</tr>\n",
       "<tr>\n",
       "  <th>Model:</th>               <td>Logit</td>      <th>  Df Residuals:      </th>  <td> 38812</td>  \n",
       "</tr>\n",
       "<tr>\n",
       "  <th>Method:</th>               <td>MLE</td>       <th>  Df Model:          </th>  <td>     6</td>  \n",
       "</tr>\n",
       "<tr>\n",
       "  <th>Date:</th>          <td>Mon, 13 May 2019</td> <th>  Pseudo R-squ.:     </th> <td>0.0001178</td>\n",
       "</tr>\n",
       "<tr>\n",
       "  <th>Time:</th>              <td>01:49:44</td>     <th>  Log-Likelihood:    </th> <td> -25901.</td> \n",
       "</tr>\n",
       "<tr>\n",
       "  <th>converged:</th>           <td>True</td>       <th>  LL-Null:           </th> <td> -25904.</td> \n",
       "</tr>\n",
       "<tr>\n",
       "  <th> </th>                      <td> </td>        <th>  LLR p-value:       </th>  <td>0.4115</td>  \n",
       "</tr>\n",
       "</table>\n",
       "<table class=\"simpletable\">\n",
       "<tr>\n",
       "                 <td></td>                    <th>coef</th>     <th>std err</th>      <th>z</th>      <th>P>|z|</th>  <th>[0.025</th>    <th>0.975]</th>  \n",
       "</tr>\n",
       "<tr>\n",
       "  <th>const</th>                           <td>   -0.5210</td> <td>    0.031</td> <td>  -16.884</td> <td> 0.000</td> <td>   -0.581</td> <td>   -0.461</td>\n",
       "</tr>\n",
       "<tr>\n",
       "  <th>DietaryRestrictions_dairy-free</th>  <td>    0.0133</td> <td>    0.129</td> <td>    0.103</td> <td> 0.918</td> <td>   -0.239</td> <td>    0.266</td>\n",
       "</tr>\n",
       "<tr>\n",
       "  <th>DietaryRestrictions_gluten-free</th> <td>    0.0445</td> <td>    0.026</td> <td>    1.686</td> <td> 0.092</td> <td>   -0.007</td> <td>    0.096</td>\n",
       "</tr>\n",
       "<tr>\n",
       "  <th>DietaryRestrictions_halal</th>       <td>    0.0223</td> <td>    0.068</td> <td>    0.326</td> <td> 0.744</td> <td>   -0.112</td> <td>    0.156</td>\n",
       "</tr>\n",
       "<tr>\n",
       "  <th>DietaryRestrictions_soy-free</th>    <td>    0.1803</td> <td>    0.310</td> <td>    0.582</td> <td> 0.561</td> <td>   -0.427</td> <td>    0.787</td>\n",
       "</tr>\n",
       "<tr>\n",
       "  <th>DietaryRestrictions_vegan</th>       <td>    0.0446</td> <td>    0.024</td> <td>    1.845</td> <td> 0.065</td> <td>   -0.003</td> <td>    0.092</td>\n",
       "</tr>\n",
       "<tr>\n",
       "  <th>DietaryRestrictions_vegetarian</th>  <td>    0.0417</td> <td>    0.029</td> <td>    1.431</td> <td> 0.153</td> <td>   -0.015</td> <td>    0.099</td>\n",
       "</tr>\n",
       "</table>"
      ],
      "text/plain": [
       "<class 'statsmodels.iolib.summary.Summary'>\n",
       "\"\"\"\n",
       "                           Logit Regression Results                           \n",
       "==============================================================================\n",
       "Dep. Variable:                  stars   No. Observations:                38819\n",
       "Model:                          Logit   Df Residuals:                    38812\n",
       "Method:                           MLE   Df Model:                            6\n",
       "Date:                Mon, 13 May 2019   Pseudo R-squ.:               0.0001178\n",
       "Time:                        01:49:44   Log-Likelihood:                -25901.\n",
       "converged:                       True   LL-Null:                       -25904.\n",
       "                                        LLR p-value:                    0.4115\n",
       "===================================================================================================\n",
       "                                      coef    std err          z      P>|z|      [0.025      0.975]\n",
       "---------------------------------------------------------------------------------------------------\n",
       "const                              -0.5210      0.031    -16.884      0.000      -0.581      -0.461\n",
       "DietaryRestrictions_dairy-free      0.0133      0.129      0.103      0.918      -0.239       0.266\n",
       "DietaryRestrictions_gluten-free     0.0445      0.026      1.686      0.092      -0.007       0.096\n",
       "DietaryRestrictions_halal           0.0223      0.068      0.326      0.744      -0.112       0.156\n",
       "DietaryRestrictions_soy-free        0.1803      0.310      0.582      0.561      -0.427       0.787\n",
       "DietaryRestrictions_vegan           0.0446      0.024      1.845      0.065      -0.003       0.092\n",
       "DietaryRestrictions_vegetarian      0.0417      0.029      1.431      0.153      -0.015       0.099\n",
       "===================================================================================================\n",
       "\"\"\""
      ]
     },
     "execution_count": 128,
     "metadata": {},
     "output_type": "execute_result"
    }
   ],
   "source": [
    "clf.summary()"
   ]
  },
  {
   "cell_type": "code",
   "execution_count": 129,
   "metadata": {},
   "outputs": [],
   "source": [
    "# aggregate the features using exponential combination function\n",
    "df['DietaryRestrictions'] = np.exp(0.0445*df['DietaryRestrictions_gluten-free'] + 0.0446*df['DietaryRestrictions_vegan'])"
   ]
  },
  {
   "cell_type": "code",
   "execution_count": 130,
   "metadata": {},
   "outputs": [
    {
     "data": {
      "text/plain": [
       "array([1.04560953, 1.04550498, 1.09318997, 1.        ])"
      ]
     },
     "execution_count": 130,
     "metadata": {},
     "output_type": "execute_result"
    }
   ],
   "source": [
    "df['DietaryRestrictions'].unique()"
   ]
  },
  {
   "cell_type": "code",
   "execution_count": 131,
   "metadata": {},
   "outputs": [],
   "source": [
    "df.drop(columnns, axis=1, inplace=True)"
   ]
  },
  {
   "cell_type": "code",
   "execution_count": 132,
   "metadata": {},
   "outputs": [
    {
     "data": {
      "text/plain": [
       "Index(['Ambience_casual', 'Ambience_classy', 'Ambience_divey',\n",
       "       'Ambience_hipster', 'Ambience_intimate', 'Ambience_romantic',\n",
       "       'Ambience_touristy', 'Ambience_trendy', 'Ambience_upscale',\n",
       "       'BestNights_friday', 'BestNights_monday', 'BestNights_saturday',\n",
       "       'BestNights_sunday', 'BestNights_thursday', 'BestNights_tuesday',\n",
       "       'BestNights_wednesday', 'BikeParking', 'AcceptsCreditCards',\n",
       "       'Parking_garage', 'Parking_lot', 'Parking_street', 'Parking_valet',\n",
       "       'Parking_validated', 'Caters', 'DietaryRestrictions_kosher',\n",
       "       'DriveThru', 'GoodForKids', 'GoodForBreakfast', 'GoodForBrunch',\n",
       "       'GoodForDinner', 'GoodForLatenight', 'GoodForLunch', 'HasTV', 'Video',\n",
       "       'Noisy', 'Outdoor', 'Delivery', 'Group', 'Price', 'Reservation',\n",
       "       'TableService', 'TakeOut', 'latitude', 'longitude', 'review_count',\n",
       "       'stars', 'Breakfast', 'Brunch', 'Lunch', 'Dinner', 'Earlynight',\n",
       "       'Fridayophour', 'Mondayophour', 'Tuesdayophour', 'Wednesdayophour',\n",
       "       'Thursdayophour', 'Saturdayophour', 'Sundayophour',\n",
       "       'Alcohol_beer_and_wine', 'Alcohol_full_bar', 'Alcohol_none',\n",
       "       'Attire_casual', 'Attire_dressy', 'Attire_formal', 'Smoking_no',\n",
       "       'Smoking_outdoor', 'Smoking_yes', 'Wifi_free', 'Wifi_no', 'Wifi_paid',\n",
       "       'business_id', 'Topic0', 'Topic2', 'Topic3', 'Topic4', 'Topic5',\n",
       "       'Topic6', 'Topic7', 'Topic8', 'Topic9', 'Topic1',\n",
       "       'DietaryRestrictions'],\n",
       "      dtype='object')"
      ]
     },
     "execution_count": 132,
     "metadata": {},
     "output_type": "execute_result"
    }
   ],
   "source": [
    "df.columns"
   ]
  },
  {
   "cell_type": "markdown",
   "metadata": {},
   "source": [
    "#### (1)aggregate BestNights columns"
   ]
  },
  {
   "cell_type": "code",
   "execution_count": 133,
   "metadata": {},
   "outputs": [
    {
     "name": "stdout",
     "output_type": "stream",
     "text": [
      "Optimization terminated successfully.\n",
      "         Current function value: 0.667236\n",
      "         Iterations 4\n"
     ]
    },
    {
     "name": "stderr",
     "output_type": "stream",
     "text": [
      "E:\\Program_Files\\Anaconda\\lib\\site-packages\\numpy\\core\\fromnumeric.py:2389: FutureWarning: Method .ptp is deprecated and will be removed in a future version. Use numpy.ptp instead.\n",
      "  return ptp(axis=axis, out=out, **kwargs)\n"
     ]
    },
    {
     "data": {
      "text/html": [
       "<table class=\"simpletable\">\n",
       "<caption>Logit Regression Results</caption>\n",
       "<tr>\n",
       "  <th>Dep. Variable:</th>       <td>stars</td>      <th>  No. Observations:  </th>  <td> 38819</td>  \n",
       "</tr>\n",
       "<tr>\n",
       "  <th>Model:</th>               <td>Logit</td>      <th>  Df Residuals:      </th>  <td> 38811</td>  \n",
       "</tr>\n",
       "<tr>\n",
       "  <th>Method:</th>               <td>MLE</td>       <th>  Df Model:          </th>  <td>     7</td>  \n",
       "</tr>\n",
       "<tr>\n",
       "  <th>Date:</th>          <td>Mon, 13 May 2019</td> <th>  Pseudo R-squ.:     </th> <td>0.0001033</td>\n",
       "</tr>\n",
       "<tr>\n",
       "  <th>Time:</th>              <td>01:49:45</td>     <th>  Log-Likelihood:    </th> <td> -25901.</td> \n",
       "</tr>\n",
       "<tr>\n",
       "  <th>converged:</th>           <td>True</td>       <th>  LL-Null:           </th> <td> -25904.</td> \n",
       "</tr>\n",
       "<tr>\n",
       "  <th> </th>                      <td> </td>        <th>  LLR p-value:       </th>  <td>0.6168</td>  \n",
       "</tr>\n",
       "</table>\n",
       "<table class=\"simpletable\">\n",
       "<tr>\n",
       "            <td></td>              <th>coef</th>     <th>std err</th>      <th>z</th>      <th>P>|z|</th>  <th>[0.025</th>    <th>0.975]</th>  \n",
       "</tr>\n",
       "<tr>\n",
       "  <th>const</th>                <td>   -0.4556</td> <td>    0.027</td> <td>  -16.648</td> <td> 0.000</td> <td>   -0.509</td> <td>   -0.402</td>\n",
       "</tr>\n",
       "<tr>\n",
       "  <th>BestNights_friday</th>    <td>    0.0313</td> <td>    0.025</td> <td>    1.249</td> <td> 0.212</td> <td>   -0.018</td> <td>    0.080</td>\n",
       "</tr>\n",
       "<tr>\n",
       "  <th>BestNights_monday</th>    <td>    0.0469</td> <td>    0.036</td> <td>    1.320</td> <td> 0.187</td> <td>   -0.023</td> <td>    0.116</td>\n",
       "</tr>\n",
       "<tr>\n",
       "  <th>BestNights_saturday</th>  <td>   -0.0272</td> <td>    0.025</td> <td>   -1.075</td> <td> 0.283</td> <td>   -0.077</td> <td>    0.022</td>\n",
       "</tr>\n",
       "<tr>\n",
       "  <th>BestNights_sunday</th>    <td>   -0.0084</td> <td>    0.028</td> <td>   -0.305</td> <td> 0.760</td> <td>   -0.063</td> <td>    0.046</td>\n",
       "</tr>\n",
       "<tr>\n",
       "  <th>BestNights_thursday</th>  <td>   -0.0087</td> <td>    0.024</td> <td>   -0.371</td> <td> 0.711</td> <td>   -0.055</td> <td>    0.037</td>\n",
       "</tr>\n",
       "<tr>\n",
       "  <th>BestNights_tuesday</th>   <td>   -0.0289</td> <td>    0.033</td> <td>   -0.888</td> <td> 0.375</td> <td>   -0.093</td> <td>    0.035</td>\n",
       "</tr>\n",
       "<tr>\n",
       "  <th>BestNights_wednesday</th> <td>   -0.0199</td> <td>    0.029</td> <td>   -0.693</td> <td> 0.488</td> <td>   -0.076</td> <td>    0.036</td>\n",
       "</tr>\n",
       "</table>"
      ],
      "text/plain": [
       "<class 'statsmodels.iolib.summary.Summary'>\n",
       "\"\"\"\n",
       "                           Logit Regression Results                           \n",
       "==============================================================================\n",
       "Dep. Variable:                  stars   No. Observations:                38819\n",
       "Model:                          Logit   Df Residuals:                    38811\n",
       "Method:                           MLE   Df Model:                            7\n",
       "Date:                Mon, 13 May 2019   Pseudo R-squ.:               0.0001033\n",
       "Time:                        01:49:45   Log-Likelihood:                -25901.\n",
       "converged:                       True   LL-Null:                       -25904.\n",
       "                                        LLR p-value:                    0.6168\n",
       "========================================================================================\n",
       "                           coef    std err          z      P>|z|      [0.025      0.975]\n",
       "----------------------------------------------------------------------------------------\n",
       "const                   -0.4556      0.027    -16.648      0.000      -0.509      -0.402\n",
       "BestNights_friday        0.0313      0.025      1.249      0.212      -0.018       0.080\n",
       "BestNights_monday        0.0469      0.036      1.320      0.187      -0.023       0.116\n",
       "BestNights_saturday     -0.0272      0.025     -1.075      0.283      -0.077       0.022\n",
       "BestNights_sunday       -0.0084      0.028     -0.305      0.760      -0.063       0.046\n",
       "BestNights_thursday     -0.0087      0.024     -0.371      0.711      -0.055       0.037\n",
       "BestNights_tuesday      -0.0289      0.033     -0.888      0.375      -0.093       0.035\n",
       "BestNights_wednesday    -0.0199      0.029     -0.693      0.488      -0.076       0.036\n",
       "========================================================================================\n",
       "\"\"\""
      ]
     },
     "execution_count": 133,
     "metadata": {},
     "output_type": "execute_result"
    }
   ],
   "source": [
    "columnns = ['BestNights_friday', 'BestNights_monday', 'BestNights_saturday',\n",
    "           'BestNights_sunday', 'BestNights_thursday', 'BestNights_tuesday',\n",
    "           'BestNights_wednesday']\n",
    "\n",
    "X = df[columnns]\n",
    "y = df['stars']\n",
    "X = sm.add_constant(X)\n",
    "\n",
    "# split datasets as training set and testing set\n",
    "from sklearn.model_selection import train_test_split\n",
    "X_train, X_test, y_train, y_test = train_test_split(\n",
    "    X, y, test_size=0.3, random_state=1, stratify=y)\n",
    "\n",
    "log_reg = sm.Logit(y_train, X_train)\n",
    "clf = log_reg.fit()\n",
    "\n",
    "clf.summary()"
   ]
  },
  {
   "cell_type": "code",
   "execution_count": 134,
   "metadata": {},
   "outputs": [
    {
     "data": {
      "text/plain": [
       "Index(['Ambience_casual', 'Ambience_classy', 'Ambience_divey',\n",
       "       'Ambience_hipster', 'Ambience_intimate', 'Ambience_romantic',\n",
       "       'Ambience_touristy', 'Ambience_trendy', 'Ambience_upscale',\n",
       "       'BikeParking', 'AcceptsCreditCards', 'Parking_garage', 'Parking_lot',\n",
       "       'Parking_street', 'Parking_valet', 'Parking_validated', 'Caters',\n",
       "       'DietaryRestrictions_kosher', 'DriveThru', 'GoodForKids',\n",
       "       'GoodForBreakfast', 'GoodForBrunch', 'GoodForDinner',\n",
       "       'GoodForLatenight', 'GoodForLunch', 'HasTV', 'Video', 'Noisy',\n",
       "       'Outdoor', 'Delivery', 'Group', 'Price', 'Reservation', 'TableService',\n",
       "       'TakeOut', 'latitude', 'longitude', 'review_count', 'stars',\n",
       "       'Breakfast', 'Brunch', 'Lunch', 'Dinner', 'Earlynight', 'Fridayophour',\n",
       "       'Mondayophour', 'Tuesdayophour', 'Wednesdayophour', 'Thursdayophour',\n",
       "       'Saturdayophour', 'Sundayophour', 'Alcohol_beer_and_wine',\n",
       "       'Alcohol_full_bar', 'Alcohol_none', 'Attire_casual', 'Attire_dressy',\n",
       "       'Attire_formal', 'Smoking_no', 'Smoking_outdoor', 'Smoking_yes',\n",
       "       'Wifi_free', 'Wifi_no', 'Wifi_paid', 'business_id', 'Topic0', 'Topic2',\n",
       "       'Topic3', 'Topic4', 'Topic5', 'Topic6', 'Topic7', 'Topic8', 'Topic9',\n",
       "       'Topic1', 'DietaryRestrictions'],\n",
       "      dtype='object')"
      ]
     },
     "execution_count": 134,
     "metadata": {},
     "output_type": "execute_result"
    }
   ],
   "source": [
    "df.drop(columnns, axis=1, inplace=True)\n",
    "df.columns"
   ]
  },
  {
   "cell_type": "markdown",
   "metadata": {},
   "source": [
    "#### (2)aggregate Parking columns"
   ]
  },
  {
   "cell_type": "code",
   "execution_count": 135,
   "metadata": {},
   "outputs": [
    {
     "name": "stdout",
     "output_type": "stream",
     "text": [
      "Optimization terminated successfully.\n",
      "         Current function value: 0.661922\n",
      "         Iterations 4\n"
     ]
    },
    {
     "name": "stderr",
     "output_type": "stream",
     "text": [
      "E:\\Program_Files\\Anaconda\\lib\\site-packages\\numpy\\core\\fromnumeric.py:2389: FutureWarning: Method .ptp is deprecated and will be removed in a future version. Use numpy.ptp instead.\n",
      "  return ptp(axis=axis, out=out, **kwargs)\n"
     ]
    },
    {
     "data": {
      "text/html": [
       "<table class=\"simpletable\">\n",
       "<caption>Logit Regression Results</caption>\n",
       "<tr>\n",
       "  <th>Dep. Variable:</th>       <td>stars</td>      <th>  No. Observations:  </th>  <td> 38819</td>  \n",
       "</tr>\n",
       "<tr>\n",
       "  <th>Model:</th>               <td>Logit</td>      <th>  Df Residuals:      </th>  <td> 38813</td>  \n",
       "</tr>\n",
       "<tr>\n",
       "  <th>Method:</th>               <td>MLE</td>       <th>  Df Model:          </th>  <td>     5</td>  \n",
       "</tr>\n",
       "<tr>\n",
       "  <th>Date:</th>          <td>Mon, 13 May 2019</td> <th>  Pseudo R-squ.:     </th> <td>0.008067</td> \n",
       "</tr>\n",
       "<tr>\n",
       "  <th>Time:</th>              <td>01:49:46</td>     <th>  Log-Likelihood:    </th> <td> -25695.</td> \n",
       "</tr>\n",
       "<tr>\n",
       "  <th>converged:</th>           <td>True</td>       <th>  LL-Null:           </th> <td> -25904.</td> \n",
       "</tr>\n",
       "<tr>\n",
       "  <th> </th>                      <td> </td>        <th>  LLR p-value:       </th> <td>4.021e-88</td>\n",
       "</tr>\n",
       "</table>\n",
       "<table class=\"simpletable\">\n",
       "<tr>\n",
       "          <td></td>             <th>coef</th>     <th>std err</th>      <th>z</th>      <th>P>|z|</th>  <th>[0.025</th>    <th>0.975]</th>  \n",
       "</tr>\n",
       "<tr>\n",
       "  <th>const</th>             <td>   -0.6532</td> <td>    0.017</td> <td>  -39.452</td> <td> 0.000</td> <td>   -0.686</td> <td>   -0.621</td>\n",
       "</tr>\n",
       "<tr>\n",
       "  <th>Parking_garage</th>    <td>   -0.1853</td> <td>    0.051</td> <td>   -3.621</td> <td> 0.000</td> <td>   -0.286</td> <td>   -0.085</td>\n",
       "</tr>\n",
       "<tr>\n",
       "  <th>Parking_lot</th>       <td>    0.1983</td> <td>    0.022</td> <td>    8.912</td> <td> 0.000</td> <td>    0.155</td> <td>    0.242</td>\n",
       "</tr>\n",
       "<tr>\n",
       "  <th>Parking_street</th>    <td>    0.5125</td> <td>    0.026</td> <td>   19.476</td> <td> 0.000</td> <td>    0.461</td> <td>    0.564</td>\n",
       "</tr>\n",
       "<tr>\n",
       "  <th>Parking_valet</th>     <td>    0.2321</td> <td>    0.071</td> <td>    3.255</td> <td> 0.001</td> <td>    0.092</td> <td>    0.372</td>\n",
       "</tr>\n",
       "<tr>\n",
       "  <th>Parking_validated</th> <td>    0.2081</td> <td>    0.130</td> <td>    1.604</td> <td> 0.109</td> <td>   -0.046</td> <td>    0.462</td>\n",
       "</tr>\n",
       "</table>"
      ],
      "text/plain": [
       "<class 'statsmodels.iolib.summary.Summary'>\n",
       "\"\"\"\n",
       "                           Logit Regression Results                           \n",
       "==============================================================================\n",
       "Dep. Variable:                  stars   No. Observations:                38819\n",
       "Model:                          Logit   Df Residuals:                    38813\n",
       "Method:                           MLE   Df Model:                            5\n",
       "Date:                Mon, 13 May 2019   Pseudo R-squ.:                0.008067\n",
       "Time:                        01:49:46   Log-Likelihood:                -25695.\n",
       "converged:                       True   LL-Null:                       -25904.\n",
       "                                        LLR p-value:                 4.021e-88\n",
       "=====================================================================================\n",
       "                        coef    std err          z      P>|z|      [0.025      0.975]\n",
       "-------------------------------------------------------------------------------------\n",
       "const                -0.6532      0.017    -39.452      0.000      -0.686      -0.621\n",
       "Parking_garage       -0.1853      0.051     -3.621      0.000      -0.286      -0.085\n",
       "Parking_lot           0.1983      0.022      8.912      0.000       0.155       0.242\n",
       "Parking_street        0.5125      0.026     19.476      0.000       0.461       0.564\n",
       "Parking_valet         0.2321      0.071      3.255      0.001       0.092       0.372\n",
       "Parking_validated     0.2081      0.130      1.604      0.109      -0.046       0.462\n",
       "=====================================================================================\n",
       "\"\"\""
      ]
     },
     "execution_count": 135,
     "metadata": {},
     "output_type": "execute_result"
    }
   ],
   "source": [
    "columnns = ['Parking_garage', 'Parking_lot', 'Parking_street', 'Parking_valet',\n",
    "       'Parking_validated']\n",
    "\n",
    "X = df[columnns]\n",
    "y = df['stars']\n",
    "X = sm.add_constant(X)\n",
    "\n",
    "# split datasets as training set and testing set\n",
    "from sklearn.model_selection import train_test_split\n",
    "X_train, X_test, y_train, y_test = train_test_split(\n",
    "    X, y, test_size=0.3, random_state=1, stratify=y)\n",
    "\n",
    "log_reg = sm.Logit(y_train, X_train)\n",
    "clf = log_reg.fit()\n",
    "\n",
    "clf.summary()"
   ]
  },
  {
   "cell_type": "code",
   "execution_count": 136,
   "metadata": {},
   "outputs": [
    {
     "data": {
      "text/plain": [
       "(55457, 71)"
      ]
     },
     "execution_count": 136,
     "metadata": {},
     "output_type": "execute_result"
    }
   ],
   "source": [
    "df['Parking'] = np.exp(-0.1853*df['Parking_garage'] + \n",
    "                       0.1983*df['Parking_lot'] +\n",
    "                       0.5125*df['Parking_street'] +\n",
    "                       0.2321*df['Parking_valet'] )\n",
    "\n",
    "df.drop(columnns, axis=1, inplace=True)\n",
    "df.shape"
   ]
  },
  {
   "cell_type": "code",
   "execution_count": 137,
   "metadata": {},
   "outputs": [
    {
     "data": {
      "text/plain": [
       "Index(['Ambience_casual', 'Ambience_classy', 'Ambience_divey',\n",
       "       'Ambience_hipster', 'Ambience_intimate', 'Ambience_romantic',\n",
       "       'Ambience_touristy', 'Ambience_trendy', 'Ambience_upscale',\n",
       "       'BikeParking', 'AcceptsCreditCards', 'Caters',\n",
       "       'DietaryRestrictions_kosher', 'DriveThru', 'GoodForKids',\n",
       "       'GoodForBreakfast', 'GoodForBrunch', 'GoodForDinner',\n",
       "       'GoodForLatenight', 'GoodForLunch', 'HasTV', 'Video', 'Noisy',\n",
       "       'Outdoor', 'Delivery', 'Group', 'Price', 'Reservation', 'TableService',\n",
       "       'TakeOut', 'latitude', 'longitude', 'review_count', 'stars',\n",
       "       'Breakfast', 'Brunch', 'Lunch', 'Dinner', 'Earlynight', 'Fridayophour',\n",
       "       'Mondayophour', 'Tuesdayophour', 'Wednesdayophour', 'Thursdayophour',\n",
       "       'Saturdayophour', 'Sundayophour', 'Alcohol_beer_and_wine',\n",
       "       'Alcohol_full_bar', 'Alcohol_none', 'Attire_casual', 'Attire_dressy',\n",
       "       'Attire_formal', 'Smoking_no', 'Smoking_outdoor', 'Smoking_yes',\n",
       "       'Wifi_free', 'Wifi_no', 'Wifi_paid', 'business_id', 'Topic0', 'Topic2',\n",
       "       'Topic3', 'Topic4', 'Topic5', 'Topic6', 'Topic7', 'Topic8', 'Topic9',\n",
       "       'Topic1', 'DietaryRestrictions', 'Parking'],\n",
       "      dtype='object')"
      ]
     },
     "execution_count": 137,
     "metadata": {},
     "output_type": "execute_result"
    }
   ],
   "source": [
    "df.columns"
   ]
  },
  {
   "cell_type": "markdown",
   "metadata": {},
   "source": [
    "#### (3)aggregate Alcohol"
   ]
  },
  {
   "cell_type": "code",
   "execution_count": 138,
   "metadata": {},
   "outputs": [
    {
     "name": "stdout",
     "output_type": "stream",
     "text": [
      "Optimization terminated successfully.\n",
      "         Current function value: 0.666192\n",
      "         Iterations 4\n"
     ]
    },
    {
     "name": "stderr",
     "output_type": "stream",
     "text": [
      "E:\\Program_Files\\Anaconda\\lib\\site-packages\\numpy\\core\\fromnumeric.py:2389: FutureWarning: Method .ptp is deprecated and will be removed in a future version. Use numpy.ptp instead.\n",
      "  return ptp(axis=axis, out=out, **kwargs)\n"
     ]
    },
    {
     "data": {
      "text/html": [
       "<table class=\"simpletable\">\n",
       "<caption>Logit Regression Results</caption>\n",
       "<tr>\n",
       "  <th>Dep. Variable:</th>       <td>stars</td>      <th>  No. Observations:  </th>  <td> 38819</td>  \n",
       "</tr>\n",
       "<tr>\n",
       "  <th>Model:</th>               <td>Logit</td>      <th>  Df Residuals:      </th>  <td> 38816</td>  \n",
       "</tr>\n",
       "<tr>\n",
       "  <th>Method:</th>               <td>MLE</td>       <th>  Df Model:          </th>  <td>     2</td>  \n",
       "</tr>\n",
       "<tr>\n",
       "  <th>Date:</th>          <td>Mon, 13 May 2019</td> <th>  Pseudo R-squ.:     </th> <td>0.001667</td> \n",
       "</tr>\n",
       "<tr>\n",
       "  <th>Time:</th>              <td>01:49:48</td>     <th>  Log-Likelihood:    </th> <td> -25861.</td> \n",
       "</tr>\n",
       "<tr>\n",
       "  <th>converged:</th>           <td>True</td>       <th>  LL-Null:           </th> <td> -25904.</td> \n",
       "</tr>\n",
       "<tr>\n",
       "  <th> </th>                      <td> </td>        <th>  LLR p-value:       </th> <td>1.745e-19</td>\n",
       "</tr>\n",
       "</table>\n",
       "<table class=\"simpletable\">\n",
       "<tr>\n",
       "            <td></td>               <th>coef</th>     <th>std err</th>      <th>z</th>      <th>P>|z|</th>  <th>[0.025</th>    <th>0.975]</th>  \n",
       "</tr>\n",
       "<tr>\n",
       "  <th>const</th>                 <td>   -0.4192</td> <td>    0.015</td> <td>  -27.541</td> <td> 0.000</td> <td>   -0.449</td> <td>   -0.389</td>\n",
       "</tr>\n",
       "<tr>\n",
       "  <th>Alcohol_beer_and_wine</th> <td>    0.1239</td> <td>    0.031</td> <td>    3.944</td> <td> 0.000</td> <td>    0.062</td> <td>    0.186</td>\n",
       "</tr>\n",
       "<tr>\n",
       "  <th>Alcohol_full_bar</th>      <td>   -0.1512</td> <td>    0.023</td> <td>   -6.671</td> <td> 0.000</td> <td>   -0.196</td> <td>   -0.107</td>\n",
       "</tr>\n",
       "</table>"
      ],
      "text/plain": [
       "<class 'statsmodels.iolib.summary.Summary'>\n",
       "\"\"\"\n",
       "                           Logit Regression Results                           \n",
       "==============================================================================\n",
       "Dep. Variable:                  stars   No. Observations:                38819\n",
       "Model:                          Logit   Df Residuals:                    38816\n",
       "Method:                           MLE   Df Model:                            2\n",
       "Date:                Mon, 13 May 2019   Pseudo R-squ.:                0.001667\n",
       "Time:                        01:49:48   Log-Likelihood:                -25861.\n",
       "converged:                       True   LL-Null:                       -25904.\n",
       "                                        LLR p-value:                 1.745e-19\n",
       "=========================================================================================\n",
       "                            coef    std err          z      P>|z|      [0.025      0.975]\n",
       "-----------------------------------------------------------------------------------------\n",
       "const                    -0.4192      0.015    -27.541      0.000      -0.449      -0.389\n",
       "Alcohol_beer_and_wine     0.1239      0.031      3.944      0.000       0.062       0.186\n",
       "Alcohol_full_bar         -0.1512      0.023     -6.671      0.000      -0.196      -0.107\n",
       "=========================================================================================\n",
       "\"\"\""
      ]
     },
     "execution_count": 138,
     "metadata": {},
     "output_type": "execute_result"
    }
   ],
   "source": [
    "columnns = ['Alcohol_beer_and_wine', 'Alcohol_full_bar']\n",
    "\n",
    "X = df[columnns]\n",
    "y = df['stars']\n",
    "X = sm.add_constant(X)\n",
    "\n",
    "# split datasets as training set and testing set\n",
    "from sklearn.model_selection import train_test_split\n",
    "X_train, X_test, y_train, y_test = train_test_split(\n",
    "    X, y, test_size=0.3, random_state=1, stratify=y)\n",
    "\n",
    "log_reg = sm.Logit(y_train, X_train)\n",
    "clf = log_reg.fit()\n",
    "\n",
    "clf.summary()"
   ]
  },
  {
   "cell_type": "code",
   "execution_count": 139,
   "metadata": {},
   "outputs": [
    {
     "data": {
      "text/plain": [
       "(55457, 70)"
      ]
     },
     "execution_count": 139,
     "metadata": {},
     "output_type": "execute_result"
    }
   ],
   "source": [
    "df.drop('Alcohol_none', axis=1, inplace=True)\n",
    "df.shape"
   ]
  },
  {
   "cell_type": "code",
   "execution_count": 140,
   "metadata": {},
   "outputs": [
    {
     "data": {
      "text/plain": [
       "Index(['Ambience_casual', 'Ambience_classy', 'Ambience_divey',\n",
       "       'Ambience_hipster', 'Ambience_intimate', 'Ambience_romantic',\n",
       "       'Ambience_touristy', 'Ambience_trendy', 'Ambience_upscale',\n",
       "       'BikeParking', 'AcceptsCreditCards', 'Caters',\n",
       "       'DietaryRestrictions_kosher', 'DriveThru', 'GoodForKids',\n",
       "       'GoodForBreakfast', 'GoodForBrunch', 'GoodForDinner',\n",
       "       'GoodForLatenight', 'GoodForLunch', 'HasTV', 'Video', 'Noisy',\n",
       "       'Outdoor', 'Delivery', 'Group', 'Price', 'Reservation', 'TableService',\n",
       "       'TakeOut', 'latitude', 'longitude', 'review_count', 'stars',\n",
       "       'Breakfast', 'Brunch', 'Lunch', 'Dinner', 'Earlynight', 'Fridayophour',\n",
       "       'Mondayophour', 'Tuesdayophour', 'Wednesdayophour', 'Thursdayophour',\n",
       "       'Saturdayophour', 'Sundayophour', 'Alcohol_beer_and_wine',\n",
       "       'Alcohol_full_bar', 'Attire_casual', 'Attire_dressy', 'Attire_formal',\n",
       "       'Smoking_no', 'Smoking_outdoor', 'Smoking_yes', 'Wifi_free', 'Wifi_no',\n",
       "       'Wifi_paid', 'business_id', 'Topic0', 'Topic2', 'Topic3', 'Topic4',\n",
       "       'Topic5', 'Topic6', 'Topic7', 'Topic8', 'Topic9', 'Topic1',\n",
       "       'DietaryRestrictions', 'Parking'],\n",
       "      dtype='object')"
      ]
     },
     "execution_count": 140,
     "metadata": {},
     "output_type": "execute_result"
    }
   ],
   "source": [
    "df.columns"
   ]
  },
  {
   "cell_type": "markdown",
   "metadata": {},
   "source": [
    "#### (4)aggregate Smoking"
   ]
  },
  {
   "cell_type": "code",
   "execution_count": 143,
   "metadata": {},
   "outputs": [
    {
     "name": "stdout",
     "output_type": "stream",
     "text": [
      "Optimization terminated successfully.\n",
      "         Current function value: 0.667304\n",
      "         Iterations 4\n"
     ]
    },
    {
     "name": "stderr",
     "output_type": "stream",
     "text": [
      "E:\\Program_Files\\Anaconda\\lib\\site-packages\\numpy\\core\\fromnumeric.py:2389: FutureWarning: Method .ptp is deprecated and will be removed in a future version. Use numpy.ptp instead.\n",
      "  return ptp(axis=axis, out=out, **kwargs)\n"
     ]
    },
    {
     "data": {
      "text/html": [
       "<table class=\"simpletable\">\n",
       "<caption>Logit Regression Results</caption>\n",
       "<tr>\n",
       "  <th>Dep. Variable:</th>       <td>stars</td>      <th>  No. Observations:  </th>  <td> 38819</td>  \n",
       "</tr>\n",
       "<tr>\n",
       "  <th>Model:</th>               <td>Logit</td>      <th>  Df Residuals:      </th>  <td> 38817</td>  \n",
       "</tr>\n",
       "<tr>\n",
       "  <th>Method:</th>               <td>MLE</td>       <th>  Df Model:          </th>  <td>     1</td>  \n",
       "</tr>\n",
       "<tr>\n",
       "  <th>Date:</th>          <td>Mon, 13 May 2019</td> <th>  Pseudo R-squ.:     </th> <td>1.511e-06</td>\n",
       "</tr>\n",
       "<tr>\n",
       "  <th>Time:</th>              <td>01:49:50</td>     <th>  Log-Likelihood:    </th> <td> -25904.</td> \n",
       "</tr>\n",
       "<tr>\n",
       "  <th>converged:</th>           <td>True</td>       <th>  LL-Null:           </th> <td> -25904.</td> \n",
       "</tr>\n",
       "<tr>\n",
       "  <th> </th>                      <td> </td>        <th>  LLR p-value:       </th>  <td>0.7796</td>  \n",
       "</tr>\n",
       "</table>\n",
       "<table class=\"simpletable\">\n",
       "<tr>\n",
       "       <td></td>          <th>coef</th>     <th>std err</th>      <th>z</th>      <th>P>|z|</th>  <th>[0.025</th>    <th>0.975]</th>  \n",
       "</tr>\n",
       "<tr>\n",
       "  <th>const</th>       <td>   -0.4617</td> <td>    0.011</td> <td>  -41.950</td> <td> 0.000</td> <td>   -0.483</td> <td>   -0.440</td>\n",
       "</tr>\n",
       "<tr>\n",
       "  <th>Smoking_yes</th> <td>    0.0096</td> <td>    0.034</td> <td>    0.280</td> <td> 0.780</td> <td>   -0.058</td> <td>    0.077</td>\n",
       "</tr>\n",
       "</table>"
      ],
      "text/plain": [
       "<class 'statsmodels.iolib.summary.Summary'>\n",
       "\"\"\"\n",
       "                           Logit Regression Results                           \n",
       "==============================================================================\n",
       "Dep. Variable:                  stars   No. Observations:                38819\n",
       "Model:                          Logit   Df Residuals:                    38817\n",
       "Method:                           MLE   Df Model:                            1\n",
       "Date:                Mon, 13 May 2019   Pseudo R-squ.:               1.511e-06\n",
       "Time:                        01:49:50   Log-Likelihood:                -25904.\n",
       "converged:                       True   LL-Null:                       -25904.\n",
       "                                        LLR p-value:                    0.7796\n",
       "===============================================================================\n",
       "                  coef    std err          z      P>|z|      [0.025      0.975]\n",
       "-------------------------------------------------------------------------------\n",
       "const          -0.4617      0.011    -41.950      0.000      -0.483      -0.440\n",
       "Smoking_yes     0.0096      0.034      0.280      0.780      -0.058       0.077\n",
       "===============================================================================\n",
       "\"\"\""
      ]
     },
     "execution_count": 143,
     "metadata": {},
     "output_type": "execute_result"
    }
   ],
   "source": [
    "columnns = ['Smoking_yes']\n",
    "\n",
    "X = df[columnns]\n",
    "y = df['stars']\n",
    "X = sm.add_constant(X)\n",
    "\n",
    "# split datasets as training set and testing set\n",
    "from sklearn.model_selection import train_test_split\n",
    "X_train, X_test, y_train, y_test = train_test_split(\n",
    "    X, y, test_size=0.3, random_state=1, stratify=y)\n",
    "\n",
    "log_reg = sm.Logit(y_train, X_train)\n",
    "clf = log_reg.fit()\n",
    "\n",
    "clf.summary()"
   ]
  },
  {
   "cell_type": "code",
   "execution_count": 144,
   "metadata": {},
   "outputs": [
    {
     "data": {
      "text/plain": [
       "(55457, 68)"
      ]
     },
     "execution_count": 144,
     "metadata": {},
     "output_type": "execute_result"
    }
   ],
   "source": [
    "df.drop('Smoking_yes', axis=1, inplace=True)\n",
    "df.shape"
   ]
  },
  {
   "cell_type": "markdown",
   "metadata": {},
   "source": [
    "#### (4)aggregate Wifi"
   ]
  },
  {
   "cell_type": "code",
   "execution_count": 145,
   "metadata": {},
   "outputs": [
    {
     "name": "stdout",
     "output_type": "stream",
     "text": [
      "Warning: Maximum number of iterations has been exceeded.\n",
      "         Current function value: 0.666901\n",
      "         Iterations: 35\n"
     ]
    },
    {
     "name": "stderr",
     "output_type": "stream",
     "text": [
      "E:\\Program_Files\\Anaconda\\lib\\site-packages\\numpy\\core\\fromnumeric.py:2389: FutureWarning: Method .ptp is deprecated and will be removed in a future version. Use numpy.ptp instead.\n",
      "  return ptp(axis=axis, out=out, **kwargs)\n",
      "E:\\Program_Files\\Anaconda\\lib\\site-packages\\statsmodels\\base\\model.py:508: ConvergenceWarning: Maximum Likelihood optimization failed to converge. Check mle_retvals\n",
      "  \"Check mle_retvals\", ConvergenceWarning)\n"
     ]
    },
    {
     "data": {
      "text/html": [
       "<table class=\"simpletable\">\n",
       "<caption>Logit Regression Results</caption>\n",
       "<tr>\n",
       "  <th>Dep. Variable:</th>       <td>stars</td>      <th>  No. Observations:  </th>  <td> 38819</td>  \n",
       "</tr>\n",
       "<tr>\n",
       "  <th>Model:</th>               <td>Logit</td>      <th>  Df Residuals:      </th>  <td> 38816</td>  \n",
       "</tr>\n",
       "<tr>\n",
       "  <th>Method:</th>               <td>MLE</td>       <th>  Df Model:          </th>  <td>     2</td>  \n",
       "</tr>\n",
       "<tr>\n",
       "  <th>Date:</th>          <td>Mon, 13 May 2019</td> <th>  Pseudo R-squ.:     </th> <td>0.0006053</td>\n",
       "</tr>\n",
       "<tr>\n",
       "  <th>Time:</th>              <td>01:49:52</td>     <th>  Log-Likelihood:    </th> <td> -25888.</td> \n",
       "</tr>\n",
       "<tr>\n",
       "  <th>converged:</th>           <td>False</td>      <th>  LL-Null:           </th> <td> -25904.</td> \n",
       "</tr>\n",
       "<tr>\n",
       "  <th> </th>                      <td> </td>        <th>  LLR p-value:       </th> <td>1.552e-07</td>\n",
       "</tr>\n",
       "</table>\n",
       "<table class=\"simpletable\">\n",
       "<tr>\n",
       "      <td></td>         <th>coef</th>     <th>std err</th>      <th>z</th>      <th>P>|z|</th>  <th>[0.025</th>    <th>0.975]</th>  \n",
       "</tr>\n",
       "<tr>\n",
       "  <th>const</th>     <td>   -0.4345</td> <td> 4.01e+05</td> <td>-1.08e-06</td> <td> 1.000</td> <td>-7.86e+05</td> <td> 7.86e+05</td>\n",
       "</tr>\n",
       "<tr>\n",
       "  <th>Wifi_free</th> <td>    0.0250</td> <td> 4.01e+05</td> <td> 6.24e-08</td> <td> 1.000</td> <td>-7.86e+05</td> <td> 7.86e+05</td>\n",
       "</tr>\n",
       "<tr>\n",
       "  <th>Wifi_no</th>   <td>   -0.0701</td> <td> 4.01e+05</td> <td>-1.75e-07</td> <td> 1.000</td> <td>-7.86e+05</td> <td> 7.86e+05</td>\n",
       "</tr>\n",
       "<tr>\n",
       "  <th>Wifi_paid</th> <td>   -0.3894</td> <td> 4.01e+05</td> <td>-9.72e-07</td> <td> 1.000</td> <td>-7.86e+05</td> <td> 7.86e+05</td>\n",
       "</tr>\n",
       "</table>"
      ],
      "text/plain": [
       "<class 'statsmodels.iolib.summary.Summary'>\n",
       "\"\"\"\n",
       "                           Logit Regression Results                           \n",
       "==============================================================================\n",
       "Dep. Variable:                  stars   No. Observations:                38819\n",
       "Model:                          Logit   Df Residuals:                    38816\n",
       "Method:                           MLE   Df Model:                            2\n",
       "Date:                Mon, 13 May 2019   Pseudo R-squ.:               0.0006053\n",
       "Time:                        01:49:52   Log-Likelihood:                -25888.\n",
       "converged:                      False   LL-Null:                       -25904.\n",
       "                                        LLR p-value:                 1.552e-07\n",
       "==============================================================================\n",
       "                 coef    std err          z      P>|z|      [0.025      0.975]\n",
       "------------------------------------------------------------------------------\n",
       "const         -0.4345   4.01e+05  -1.08e-06      1.000   -7.86e+05    7.86e+05\n",
       "Wifi_free      0.0250   4.01e+05   6.24e-08      1.000   -7.86e+05    7.86e+05\n",
       "Wifi_no       -0.0701   4.01e+05  -1.75e-07      1.000   -7.86e+05    7.86e+05\n",
       "Wifi_paid     -0.3894   4.01e+05  -9.72e-07      1.000   -7.86e+05    7.86e+05\n",
       "==============================================================================\n",
       "\"\"\""
      ]
     },
     "execution_count": 145,
     "metadata": {},
     "output_type": "execute_result"
    }
   ],
   "source": [
    "columnns = [ 'Wifi_free', 'Wifi_no', 'Wifi_paid']\n",
    "\n",
    "X = df[columnns]\n",
    "y = df['stars']\n",
    "X = sm.add_constant(X)\n",
    "\n",
    "# split datasets as training set and testing set\n",
    "from sklearn.model_selection import train_test_split\n",
    "X_train, X_test, y_train, y_test = train_test_split(\n",
    "    X, y, test_size=0.3, random_state=1, stratify=y)\n",
    "\n",
    "log_reg = sm.Logit(y_train, X_train)\n",
    "clf = log_reg.fit()\n",
    "\n",
    "clf.summary()"
   ]
  },
  {
   "cell_type": "code",
   "execution_count": 146,
   "metadata": {},
   "outputs": [
    {
     "data": {
      "text/plain": [
       "(55457, 67)"
      ]
     },
     "execution_count": 146,
     "metadata": {},
     "output_type": "execute_result"
    }
   ],
   "source": [
    "df.drop('Wifi_paid', axis=1, inplace=True)\n",
    "df.shape"
   ]
  },
  {
   "cell_type": "code",
   "execution_count": 147,
   "metadata": {},
   "outputs": [
    {
     "data": {
      "text/plain": [
       "Index(['Ambience_casual', 'Ambience_classy', 'Ambience_divey',\n",
       "       'Ambience_hipster', 'Ambience_intimate', 'Ambience_romantic',\n",
       "       'Ambience_touristy', 'Ambience_trendy', 'Ambience_upscale',\n",
       "       'BikeParking', 'AcceptsCreditCards', 'Caters',\n",
       "       'DietaryRestrictions_kosher', 'DriveThru', 'GoodForKids',\n",
       "       'GoodForBreakfast', 'GoodForBrunch', 'GoodForDinner',\n",
       "       'GoodForLatenight', 'GoodForLunch', 'HasTV', 'Video', 'Noisy',\n",
       "       'Outdoor', 'Delivery', 'Group', 'Price', 'Reservation', 'TableService',\n",
       "       'TakeOut', 'latitude', 'longitude', 'review_count', 'stars',\n",
       "       'Breakfast', 'Brunch', 'Lunch', 'Dinner', 'Earlynight', 'Fridayophour',\n",
       "       'Mondayophour', 'Tuesdayophour', 'Wednesdayophour', 'Thursdayophour',\n",
       "       'Saturdayophour', 'Sundayophour', 'Alcohol_beer_and_wine',\n",
       "       'Alcohol_full_bar', 'Attire_casual', 'Attire_dressy', 'Smoking_no',\n",
       "       'Smoking_outdoor', 'Wifi_free', 'Wifi_no', 'business_id', 'Topic0',\n",
       "       'Topic2', 'Topic3', 'Topic4', 'Topic5', 'Topic6', 'Topic7', 'Topic8',\n",
       "       'Topic9', 'Topic1', 'DietaryRestrictions', 'Parking'],\n",
       "      dtype='object')"
      ]
     },
     "execution_count": 147,
     "metadata": {},
     "output_type": "execute_result"
    }
   ],
   "source": [
    "df.columns"
   ]
  },
  {
   "cell_type": "code",
   "execution_count": 148,
   "metadata": {},
   "outputs": [],
   "source": [
    "df.to_csv('restaurant_final_3.csv', index = False)"
   ]
  },
  {
   "cell_type": "code",
   "execution_count": null,
   "metadata": {},
   "outputs": [],
   "source": []
  }
 ],
 "metadata": {
  "kernelspec": {
   "display_name": "Python 3",
   "language": "python",
   "name": "python3"
  },
  "language_info": {
   "codemirror_mode": {
    "name": "ipython",
    "version": 3
   },
   "file_extension": ".py",
   "mimetype": "text/x-python",
   "name": "python",
   "nbconvert_exporter": "python",
   "pygments_lexer": "ipython3",
   "version": "3.6.8"
  },
  "toc": {
   "base_numbering": 1,
   "nav_menu": {},
   "number_sections": false,
   "sideBar": true,
   "skip_h1_title": false,
   "title_cell": "Table of Contents",
   "title_sidebar": "Contents",
   "toc_cell": false,
   "toc_position": {},
   "toc_section_display": true,
   "toc_window_display": false
  }
 },
 "nbformat": 4,
 "nbformat_minor": 2
}
