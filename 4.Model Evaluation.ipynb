{
 "cells": [
  {
   "cell_type": "markdown",
   "metadata": {},
   "source": [
    "## Yelp Project Part IV: Model Evaluation"
   ]
  },
  {
   "cell_type": "markdown",
   "metadata": {},
   "source": [
    "#### Assumption: larger review_counts will cause more accurate stars"
   ]
  },
  {
   "cell_type": "code",
   "execution_count": null,
   "metadata": {},
   "outputs": [],
   "source": [
    "# We try all data with review_counts > 8, see if the performance will increase\n",
    "df = df[df['review_count']>8]"
   ]
  },
  {
   "cell_type": "code",
   "execution_count": null,
   "metadata": {},
   "outputs": [],
   "source": []
  },
  {
   "cell_type": "code",
   "execution_count": 12,
   "metadata": {},
   "outputs": [],
   "source": [
    "import numpy as np\n",
    "from sklearn.preprocessing import StandardScaler\n",
    "\n",
    "import warnings\n",
    "warnings.filterwarnings(\"ignore\")\n",
    "\n",
    "from sklearn.ensemble import RandomForestClassifier\n",
    "from sklearn.neural_network import MLPClassifier\n",
    "from sklearn.model_selection import cross_val_score\n",
    "from sklearn.pipeline import Pipeline\n",
    "from sklearn.decomposition import PCA\n",
    "import numpy as np\n",
    "from sklearn.preprocessing import StandardScaler\n",
    "\n",
    "import warnings\n",
    "warnings.filterwarnings(\"ignore\")\n",
    "\n",
    "from sklearn.ensemble import RandomForestClassifier\n",
    "from sklearn.neural_network import MLPClassifier\n",
    "from sklearn.model_selection import cross_val_score\n",
    "from sklearn.pipeline import Pipeline\n",
    "from sklearn.decomposition import PCA\n",
    "from xgboost import XGBClassifier"
   ]
  },
  {
   "cell_type": "code",
   "execution_count": 1,
   "metadata": {},
   "outputs": [],
   "source": [
    "import pandas as pd\n",
    "df=pd.read_csv('restaurant_final_3.csv')\n",
    "df=df.drop(['business_id'],axis=1)\n",
    "y=df['stars'].values\n",
    "X=df.drop(['stars'],axis=1).values\n",
    "\n",
    "from sklearn.model_selection import train_test_split\n",
    "\n",
    "X_train, X_test, y_train, y_test = train_test_split(X, y, \n",
    "                            test_size=0.3, \n",
    "                            random_state=1)"
   ]
  },
  {
   "cell_type": "code",
   "execution_count": 21,
   "metadata": {},
   "outputs": [
    {
     "name": "stdout",
     "output_type": "stream",
     "text": [
      "Algo: RandomForest         and Cross Validation Score: 0.7831\n",
      "Algo: RandomForest         and Test Set Score: 0.7888\n"
     ]
    }
   ],
   "source": [
    "# RandomForest\n",
    "\n",
    "clf1 = RandomForestClassifier(max_depth=15, min_samples_leaf=1, max_features=0.3, \n",
    "                             min_samples_split=10, n_estimators=200, oob_score=False)\n",
    "\n",
    "pipe1 = Pipeline( [ ('scl', StandardScaler()),\n",
    "                   ('clf', clf1)\n",
    "                 ])\n",
    "\n",
    "\n",
    "scores = cross_val_score(pipe1, X_train, y_train, cv=5, n_jobs=-1)\n",
    "\n",
    "pipe1.fit(X_train, y_train)\n",
    "score1 = pipe1.score(X_test, y_test)\n",
    "\n",
    "print(\"Algo: {0:<20s} and Cross Validation Score: {1:0.4f}\".format('RandomForest', np.mean(scores)))\n",
    "print(\"Algo: {0:<20s} and Test Set Score: {1:0.4f}\".format('RandomForest', score1))"
   ]
  },
  {
   "cell_type": "code",
   "execution_count": 22,
   "metadata": {},
   "outputs": [
    {
     "name": "stdout",
     "output_type": "stream",
     "text": [
      "Algo: Neural Net           and Cross Validation Score: 0.7811\n",
      "Algo: Neural Net           and Test Set Score: 0.7817\n"
     ]
    }
   ],
   "source": [
    "# Neural Net\n",
    "\n",
    "clf2 = MLPClassifier(hidden_layer_sizes=(150,150), alpha=1, batch_size=128)\n",
    "\n",
    "pipe2 = Pipeline( [ ('scl', StandardScaler()),\n",
    "                   ('clf', clf2)\n",
    "                 ])\n",
    "\n",
    "\n",
    "scores = cross_val_score(pipe2, X_train, y_train, cv=5, n_jobs=-1)\n",
    "\n",
    "pipe2.fit(X_train, y_train)\n",
    "score2 = pipe2.score(X_test, y_test)\n",
    "\n",
    "print(\"Algo: {0:<20s} and Cross Validation Score: {1:0.4f}\".format('Neural Net', np.mean(scores)))\n",
    "print(\"Algo: {0:<20s} and Test Set Score: {1:0.4f}\".format('Neural Net', score2))"
   ]
  },
  {
   "cell_type": "code",
   "execution_count": 23,
   "metadata": {},
   "outputs": [
    {
     "ename": "NameError",
     "evalue": "name 'XGBClassifier' is not defined",
     "output_type": "error",
     "traceback": [
      "\u001b[0;31m---------------------------------------------------------------------------\u001b[0m",
      "\u001b[0;31mNameError\u001b[0m                                 Traceback (most recent call last)",
      "\u001b[0;32m<ipython-input-23-2cd8cfcfd325>\u001b[0m in \u001b[0;36m<module>\u001b[0;34m\u001b[0m\n\u001b[1;32m      1\u001b[0m \u001b[0;31m# XGBoost\u001b[0m\u001b[0;34m\u001b[0m\u001b[0;34m\u001b[0m\u001b[0;34m\u001b[0m\u001b[0m\n\u001b[1;32m      2\u001b[0m \u001b[0;34m\u001b[0m\u001b[0m\n\u001b[0;32m----> 3\u001b[0;31m \u001b[0mclf3\u001b[0m \u001b[0;34m=\u001b[0m \u001b[0mXGBClassifier\u001b[0m\u001b[0;34m(\u001b[0m\u001b[0mmax_depth\u001b[0m\u001b[0;34m=\u001b[0m \u001b[0;36m1\u001b[0m\u001b[0;34m,\u001b[0m \u001b[0meta\u001b[0m\u001b[0;34m=\u001b[0m\u001b[0;36m0.001\u001b[0m\u001b[0;34m,\u001b[0m \u001b[0mgamma\u001b[0m\u001b[0;34m=\u001b[0m\u001b[0;36m0\u001b[0m\u001b[0;34m,\u001b[0m \u001b[0mn_estimators\u001b[0m\u001b[0;34m=\u001b[0m\u001b[0;36m1000\u001b[0m\u001b[0;34m,\u001b[0m \u001b[0mn_jobs\u001b[0m\u001b[0;34m=\u001b[0m\u001b[0;34m-\u001b[0m\u001b[0;36m1\u001b[0m\u001b[0;34m,\u001b[0m \u001b[0msubsample\u001b[0m\u001b[0;34m=\u001b[0m\u001b[0;36m0.1\u001b[0m\u001b[0;34m)\u001b[0m\u001b[0;34m\u001b[0m\u001b[0;34m\u001b[0m\u001b[0m\n\u001b[0m\u001b[1;32m      4\u001b[0m \u001b[0;34m\u001b[0m\u001b[0m\n\u001b[1;32m      5\u001b[0m pipe3 = Pipeline( [ ('scl', StandardScaler()),\n",
      "\u001b[0;31mNameError\u001b[0m: name 'XGBClassifier' is not defined"
     ]
    }
   ],
   "source": [
    "# XGBoost\n",
    "\n",
    "clf3 = XGBClassifier(max_depth= 1, eta=0.001, gamma=0, n_estimators=1000, n_jobs=-1, subsample=0.1)\n",
    "\n",
    "pipe3 = Pipeline( [ ('scl', StandardScaler()),\n",
    "                   ('clf', clf3)\n",
    "                 ])\n",
    "\n",
    "\n",
    "scores = cross_val_score(pipe3, X_train, y_train, cv=5, n_jobs=-1)\n",
    "\n",
    "pipe3.fit(X_train, y_train)\n",
    "score3 = pipe3.score(X_test, y_test)\n",
    "\n",
    "print(\"Algo: {0:<20s} and Cross Validation Score: {1:0.4f}\".format('XGBoost', np.mean(scores)))\n",
    "print(\"Algo: {0:<20s} and Test Set Score: {1:0.4f}\".format('XGBoost', score3))"
   ]
  },
  {
   "cell_type": "markdown",
   "metadata": {},
   "source": [
    "### AUC_ROC Score"
   ]
  },
  {
   "cell_type": "code",
   "execution_count": 13,
   "metadata": {},
   "outputs": [],
   "source": [
    "from sklearn.preprocessing import LabelEncoder\n",
    "le = LabelEncoder()\n",
    "y = le.fit_transform(y)\n",
    "y_train = le.transform(y_train)\n",
    "y_test = le.transform(y_test)"
   ]
  },
  {
   "cell_type": "code",
   "execution_count": 14,
   "metadata": {},
   "outputs": [],
   "source": [
    "import matplotlib.pyplot as plt\n",
    "%matplotlib inline\n",
    "\n",
    "from sklearn.model_selection import train_test_split\n",
    "from sklearn.preprocessing import StandardScaler\n",
    "\n",
    "import warnings\n",
    "warnings.filterwarnings(\"ignore\")\n",
    "\n",
    "from sklearn.linear_model import Perceptron, LogisticRegression\n",
    "from sklearn.svm import SVC\n",
    "from sklearn.svm import LinearSVC\n",
    "from sklearn.tree import DecisionTreeClassifier\n",
    "from sklearn.ensemble import RandomForestClassifier\n",
    "from sklearn.neural_network import MLPClassifier\n",
    "from sklearn.naive_bayes import GaussianNB\n",
    "from sklearn.neighbors import KNeighborsClassifier\n",
    "\n",
    "from sklearn.model_selection import cross_val_score\n",
    "from sklearn.metrics import roc_curve, auc, roc_auc_score\n",
    "\n",
    "names = [\n",
    "         \"Random Forest\",         \n",
    "         \"Neural Net\", \n",
    "         \"XGBoost\",  \n",
    "            ] \n",
    "\n",
    "classifiers = [ \n",
    "    RandomForestClassifier(max_depth=15, min_samples_leaf=1, max_features=0.3, \n",
    "                             min_samples_split=10, n_estimators=200, oob_score=False),\n",
    "    MLPClassifier(hidden_layer_sizes=(150,150), alpha=1, batch_size=128),\n",
    "    XGBClassifier(max_depth= 1, eta=0.001, gamma=0, n_estimators=1000, n_jobs=-1, subsample=0.1)\n",
    "                 ]\n",
    "\n",
    "from sklearn.preprocessing import StandardScaler\n",
    "from sklearn.decomposition import PCA\n",
    "from sklearn.pipeline import Pipeline"
   ]
  },
  {
   "cell_type": "code",
   "execution_count": 15,
   "metadata": {},
   "outputs": [
    {
     "name": "stdout",
     "output_type": "stream",
     "text": [
      "Algo: Random Forest        and AUC Score: 0.8612\n",
      "Algo: Neural Net           and AUC Score: 0.8520\n",
      "Algo: XGBoost              and AUC Score: 0.8605\n"
     ]
    },
    {
     "data": {
      "image/png": "[encoded data removed]",
      "text/plain": [
       "<Figure size 576x432 with 1 Axes>"
      ]
     },
     "metadata": {
      "needs_background": "light"
     },
     "output_type": "display_data"
    }
   ],
   "source": [
    "# Here we draw the ROC of our models and show their AUC. The reason why we use ROC/AUC as our \n",
    "# measurements of model performance is because the datasets are unbalanced skewing towards\n",
    "# non-default observations. In this way, since in ROC, the fpr = FP/(FP+TN), while\n",
    "# tpr = TP/(TP+FN). Since FP+TN = All Real Negative, and TP+FN = All Real Positive, therefore, \n",
    "# the relative unbalance between Real Positive and Real Negative will not influence the ROC/AUC \n",
    "# so much, in this perspective, the ROC/AUC is a relatively steady measurement to measure the \n",
    "# performance of our models. \n",
    "\n",
    "plt.figure(figsize=(8, 6))\n",
    "for name, clf in zip(names, classifiers):\n",
    "    pipe = Pipeline( [ ('scl', StandardScaler()),\n",
    "                       ('clf', clf)])\n",
    "    pipe.fit(X_train, y_train)\n",
    "    try:\n",
    "        print(\"Algo: {0:<20s} and AUC Score: {1:0.4f}\"\n",
    "              .format(name, roc_auc_score(y_test, pipe.predict_proba(X_test)[:,1])))\n",
    "        \n",
    "        fpr,tpr,thresholds = roc_curve(y_test,pipe.predict_proba(X_test)[:,1])\n",
    "        plt.plot(fpr,tpr,linewidth=1,label=\"ROC\"+' '+name)\n",
    "        plt.xlabel(\"False Positive rate\")\n",
    "        plt.ylabel(\"True Positive rate\")\n",
    "        plt.ylim(0,1)\n",
    "        plt.xlim(0,1)\n",
    "        plt.legend(loc=4)\n",
    "    except: continue\n",
    "\n",
    "plt.show()"
   ]
  },
  {
   "cell_type": "code",
   "execution_count": 31,
   "metadata": {},
   "outputs": [
    {
     "name": "stdout",
     "output_type": "stream",
     "text": [
      "Algo: Random Forest        and AUC Score: 0.8608\n",
      "Algo: Neural Net           and AUC Score: 0.8496\n"
     ]
    }
   ],
   "source": [
    "for name, clf in zip(names, classifiers):\n",
    "    clf.fit(X_train, y_train)\n",
    "    fpr,tpr,thresholds = roc_curve(y_test,clf.predict_proba(X_test)[:,1])\n",
    "    \n",
    "    print(\"Algo: {0:<20s} and AUC Score: {1:0.4f}\".format(name, auc(fpr, tpr)))"
   ]
  },
  {
   "cell_type": "markdown",
   "metadata": {},
   "source": [
    "### Confusion Matrix"
   ]
  },
  {
   "cell_type": "code",
   "execution_count": 16,
   "metadata": {},
   "outputs": [
    {
     "name": "stdout",
     "output_type": "stream",
     "text": [
      "Random Forest\n",
      "[[8867 1389]\n",
      " [2143 4239]]\n",
      " \n",
      "Neural Net\n",
      "[[7811 2445]\n",
      " [1528 4854]]\n",
      " \n",
      "XGBoost\n",
      "[[8709 1547]\n",
      " [1970 4412]]\n",
      " \n"
     ]
    }
   ],
   "source": [
    "from sklearn.metrics import confusion_matrix\n",
    "for name, clf in zip(names, classifiers):\n",
    "    clf.fit(X_train, y_train)\n",
    "    print(name)\n",
    "    print(confusion_matrix(y_test, clf.predict(X_test)))\n",
    "    print(' ')"
   ]
  },
  {
   "cell_type": "markdown",
   "metadata": {},
   "source": [
    "### Accuracy "
   ]
  },
  {
   "cell_type": "code",
   "execution_count": 19,
   "metadata": {},
   "outputs": [
    {
     "name": "stdout",
     "output_type": "stream",
     "text": [
      "Algo: Random Forest        and Accuracy Score: 0.7880\n",
      "Algo: Neural Net           and Accuracy Score: 0.7821\n",
      "Algo: XGBoost              and Accuracy Score: 0.7887\n"
     ]
    }
   ],
   "source": [
    "for name, clf in zip(names, classifiers):\n",
    "    pipe = Pipeline( [ ('scl', StandardScaler()),\n",
    "                       ('clf', clf)])\n",
    "    pipe.fit(X_train, y_train)\n",
    "    print(\"Algo: {0:<20s} and Accuracy Score: {1:0.4f}\".format(name, pipe.score(X_test, y_test)))"
   ]
  },
  {
   "cell_type": "markdown",
   "metadata": {},
   "source": [
    "### Running Time"
   ]
  },
  {
   "cell_type": "code",
   "execution_count": 23,
   "metadata": {},
   "outputs": [
    {
     "name": "stdout",
     "output_type": "stream",
     "text": [
      "Algo: Random Forest        and Running time：17s\n",
      "Algo: Neural Net           and Running time：22s\n",
      "Algo: XGBoost              and Running time：12s\n"
     ]
    }
   ],
   "source": [
    "import datetime\n",
    "\n",
    "for name, clf in zip(names, classifiers):\n",
    "    pipe = Pipeline( [ ('scl', StandardScaler()),\n",
    "                       ('clf', clf)])\n",
    "    last_time = datetime.datetime.now()\n",
    "    pipe.fit(X_train, y_train)\n",
    "    pipe.score(X_test, y_test)\n",
    "    current_time = datetime.datetime.now()\n",
    "    print(\"Algo: {0:<20s} and Running time：{1}s\".format(name, (current_time-last_time).seconds))"
   ]
  },
  {
   "cell_type": "code",
   "execution_count": null,
   "metadata": {},
   "outputs": [],
   "source": []
  }
 ],
 "metadata": {
  "kernelspec": {
   "display_name": "Python 3",
   "language": "python",
   "name": "python3"
  },
  "language_info": {
   "codemirror_mode": {
    "name": "ipython",
    "version": 3
   },
   "file_extension": ".py",
   "mimetype": "text/x-python",
   "name": "python",
   "nbconvert_exporter": "python",
   "pygments_lexer": "ipython3",
   "version": "3.6.8"
  },
  "toc": {
   "base_numbering": 1,
   "nav_menu": {},
   "number_sections": false,
   "sideBar": true,
   "skip_h1_title": false,
   "title_cell": "Table of Contents",
   "title_sidebar": "Contents",
   "toc_cell": false,
   "toc_position": {},
   "toc_section_display": true,
   "toc_window_display": false
  }
 },
 "nbformat": 4,
 "nbformat_minor": 2
}
