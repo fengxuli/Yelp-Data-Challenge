{
 "cells": [
  {
   "cell_type": "markdown",
   "metadata": {
    "colab": {},
    "colab_type": "code",
    "id": "zBT83Jrlv8SU"
   },
   "source": [
    "## Yelp Project Part II: Feature Engineering - Feature Selection"
   ]
  },
  {
   "cell_type": "code",
   "execution_count": 1,
   "metadata": {},
   "outputs": [],
   "source": [
    "#################################################################################################\n",
    "##########################  Loading Basic Packages  ###############################################################\n",
    "import matplotlib.pyplot as plt\n",
    "import pandas as pd\n",
    "import numpy as np\n",
    "import warnings\n",
    "warnings.filterwarnings(\"ignore\")\n",
    "\n",
    "%matplotlib inline\n",
    "%config InlineBackend.figure_format = 'retina'"
   ]
  },
  {
   "cell_type": "code",
   "execution_count": 2,
   "metadata": {
    "colab": {},
    "colab_type": "code",
    "id": "UNLsL8ygv8SX"
   },
   "outputs": [],
   "source": [
    "#######################################################################################"
   ]
  },
  {
   "cell_type": "code",
   "execution_count": 3,
   "metadata": {},
   "outputs": [],
   "source": [
    "### Before Feature Engineering, the model's performance is extremely low"
   ]
  },
  {
   "cell_type": "code",
   "execution_count": 4,
   "metadata": {},
   "outputs": [],
   "source": [
    "# !pip install mlxtend"
   ]
  },
  {
   "cell_type": "code",
   "execution_count": 2,
   "metadata": {
    "colab": {},
    "colab_type": "code",
    "id": "3B0HY0QNv8SZ"
   },
   "outputs": [],
   "source": [
    "from mlxtend.plotting import plot_sequential_feature_selection as plot_sfs\n",
    "from mlxtend.feature_selection import SequentialFeatureSelector as SFS\n",
    "from sklearn.neighbors import KNeighborsClassifier\n",
    "from sklearn.metrics import roc_auc_score\n"
   ]
  },
  {
   "cell_type": "code",
   "execution_count": 3,
   "metadata": {
    "colab": {},
    "colab_type": "code",
    "id": "JrkD1XF0v8Sb"
   },
   "outputs": [],
   "source": [
    "df = pd.read_csv('Business_final.csv')"
   ]
  },
  {
   "cell_type": "code",
   "execution_count": 4,
   "metadata": {},
   "outputs": [],
   "source": [
    "business_id = df['business_id']"
   ]
  },
  {
   "cell_type": "code",
   "execution_count": 5,
   "metadata": {},
   "outputs": [],
   "source": [
    "features = df.columns\n",
    "X = df.drop(['business_id', 'stars'], axis = 1).values\n",
    "y = df['stars'].values"
   ]
  },
  {
   "cell_type": "code",
   "execution_count": 6,
   "metadata": {},
   "outputs": [],
   "source": [
    "# split datasets as training set and testing set\n",
    "from sklearn.model_selection import train_test_split\n",
    "X_train, X_test, y_train, y_test = train_test_split(\n",
    "    X, y, test_size=0.3, random_state=1, stratify=y)"
   ]
  },
  {
   "cell_type": "code",
   "execution_count": 7,
   "metadata": {},
   "outputs": [
    {
     "data": {
      "text/plain": [
       "(38819, 98)"
      ]
     },
     "execution_count": 7,
     "metadata": {},
     "output_type": "execute_result"
    }
   ],
   "source": [
    "X_train.shape"
   ]
  },
  {
   "cell_type": "code",
   "execution_count": 10,
   "metadata": {},
   "outputs": [
    {
     "name": "stdout",
     "output_type": "stream",
     "text": [
      "Algo: Perceptron           and Score: 0.5555\n",
      "Algo: LogisticRegression   and Score: 0.6602\n",
      "Algo: Linear SVM           and Score: 0.6598\n",
      "Algo: Decision Tree        and Score: 0.6376\n",
      "Algo: Random Forest        and Score: 0.6885\n",
      "Algo: Neural Net           and Score: 0.6701\n",
      "Algo: Naive Bayes          and Score: 0.6273\n",
      "Algo: Nearest Neighbors    and Score: 0.6072\n",
      "Algo: XGBoost              and Score: 0.6798\n"
     ]
    }
   ],
   "source": [
    "from sklearn.preprocessing import StandardScaler\n",
    "\n",
    "import warnings\n",
    "warnings.filterwarnings(\"ignore\")\n",
    "\n",
    "from sklearn.linear_model import Perceptron, LogisticRegression\n",
    "from sklearn.svm import SVC\n",
    "from sklearn.tree import DecisionTreeClassifier\n",
    "from sklearn.ensemble import RandomForestClassifier\n",
    "from sklearn.neural_network import MLPClassifier\n",
    "from sklearn.naive_bayes import GaussianNB\n",
    "from sklearn.neighbors import KNeighborsClassifier\n",
    "from sklearn.discriminant_analysis import LinearDiscriminantAnalysis\n",
    "from xgboost import XGBClassifier\n",
    "from sklearn.svm import LinearSVC\n",
    "\n",
    "from sklearn.model_selection import cross_val_score\n",
    "\n",
    "names = [\n",
    "         \"Perceptron\",\n",
    "         \"LogisticRegression\",\n",
    "         \"Linear SVM\", \n",
    "         \"Decision Tree\", \n",
    "         \"Random Forest\", \n",
    "#          \"RBF SVM\",          \n",
    "         \"Neural Net\", \n",
    "         \"Naive Bayes\",  \n",
    "         \"Nearest Neighbors\",\n",
    "         \"XGBoost\"\n",
    "            ] \n",
    "\n",
    "classifiers = [ \n",
    "    Perceptron(),\n",
    "    LogisticRegression(),\n",
    "    LinearSVC(C=1, dual=False),\n",
    "    DecisionTreeClassifier(max_depth=15),\n",
    "    RandomForestClassifier(max_depth=15, min_samples_leaf=1, max_features=0.3, \n",
    "                             min_samples_split=10, n_estimators=200, oob_score=False),\n",
    "#     SVC(kernel='rbf',gamma=2, C=1),\n",
    "    MLPClassifier(hidden_layer_sizes=(150,150), alpha=1, batch_size=128),\n",
    "    GaussianNB(),\n",
    "    KNeighborsClassifier(5),\n",
    "    XGBClassifier(max_depth= 1, eta=0.001, gamma=0, n_estimators=1000, n_jobs=-1, subsample=0.1)\n",
    "                 ]\n",
    "\n",
    "\n",
    "from sklearn.preprocessing import StandardScaler\n",
    "from sklearn.pipeline import Pipeline\n",
    "from sklearn.model_selection import cross_val_score\n",
    "import numpy as np\n",
    "from sklearn.decomposition import PCA\n",
    "\n",
    "for name, clf in zip(names, classifiers):\n",
    "    pipe = Pipeline( [ ('scl', StandardScaler()),\n",
    "#                    ('lda', lda),\n",
    "                   ('clf', clf)])\n",
    "    pipe.fit(X_train, y_train)\n",
    "#     scores = cross_val_score(pipe, X_train, y_train, cv=3, n_jobs=-1)\n",
    "#     print(\"Algo: {0:<20s} and Score: {1:0.4f}\".format(name, np.mean(scores)))\n",
    "\n",
    "    #    score = pipe.score(X_test, y_test)\n",
    "\n",
    "#    clf.fit(X_train, y_train)\n",
    "    score = pipe.score(X_test, y_test)\n",
    "    print(\"Algo: {0:<20s} and Score: {1:0.4f}\".format(name, score))"
   ]
  },
  {
   "cell_type": "code",
   "execution_count": 1,
   "metadata": {},
   "outputs": [],
   "source": [
    "# the accuracy is extremely low"
   ]
  },
  {
   "cell_type": "code",
   "execution_count": 12,
   "metadata": {},
   "outputs": [],
   "source": [
    "from sklearn.metrics import roc_curve\n",
    "pipe = Pipeline( [ ('scl', StandardScaler()),\n",
    "                   ('clf', RandomForestClassifier(max_depth=15, min_samples_leaf=1, max_features=0.3, \n",
    "                             min_samples_split=10, n_estimators=200, oob_score=False))])\n",
    "pipe.fit(X_train, y_train)\n",
    "fpr, tpr, thresholds = roc_curve(y_test, pipe.predict_proba(X_test)[:, 1])"
   ]
  },
  {
   "cell_type": "code",
   "execution_count": 13,
   "metadata": {},
   "outputs": [
    {
     "data": {
      "text/plain": [
       "0.7176698801061321"
      ]
     },
     "execution_count": 13,
     "metadata": {},
     "output_type": "execute_result"
    }
   ],
   "source": [
    "from sklearn.metrics import auc   \n",
    "auc(fpr, tpr)"
   ]
  },
  {
   "cell_type": "code",
   "execution_count": 2,
   "metadata": {},
   "outputs": [],
   "source": [
    "# combine with topic_score"
   ]
  },
  {
   "cell_type": "code",
   "execution_count": 423,
   "metadata": {},
   "outputs": [],
   "source": [
    "topic = pd.read_csv('topic_score.csv')"
   ]
  },
  {
   "cell_type": "code",
   "execution_count": 425,
   "metadata": {},
   "outputs": [
    {
     "data": {
      "text/html": [
       "<div>\n",
       "<style scoped>\n",
       "    .dataframe tbody tr th:only-of-type {\n",
       "        vertical-align: middle;\n",
       "    }\n",
       "\n",
       "    .dataframe tbody tr th {\n",
       "        vertical-align: top;\n",
       "    }\n",
       "\n",
       "    .dataframe thead th {\n",
       "        text-align: right;\n",
       "    }\n",
       "</style>\n",
       "<table border=\"1\" class=\"dataframe\">\n",
       "  <thead>\n",
       "    <tr style=\"text-align: right;\">\n",
       "      <th></th>\n",
       "      <th>Smoking_yes</th>\n",
       "      <th>Wifi_free</th>\n",
       "      <th>Wifi_no</th>\n",
       "      <th>Wifi_paid</th>\n",
       "      <th>business_id</th>\n",
       "      <th>Topic0</th>\n",
       "      <th>Topic2</th>\n",
       "      <th>Topic3</th>\n",
       "      <th>Topic4</th>\n",
       "      <th>Topic5</th>\n",
       "      <th>Topic6</th>\n",
       "      <th>Topic7</th>\n",
       "      <th>Topic8</th>\n",
       "      <th>Topic9</th>\n",
       "      <th>Topic1</th>\n",
       "    </tr>\n",
       "  </thead>\n",
       "  <tbody>\n",
       "    <tr>\n",
       "      <th>0</th>\n",
       "      <td>0</td>\n",
       "      <td>0</td>\n",
       "      <td>1</td>\n",
       "      <td>0</td>\n",
       "      <td>Bh5VbI_9msk3GaD0kiKkmg</td>\n",
       "      <td>0.0</td>\n",
       "      <td>0.0</td>\n",
       "      <td>1.0</td>\n",
       "      <td>-1.0</td>\n",
       "      <td>0.0</td>\n",
       "      <td>0.0</td>\n",
       "      <td>-1.0</td>\n",
       "      <td>0.0</td>\n",
       "      <td>0.0</td>\n",
       "      <td>-0.384615</td>\n",
       "    </tr>\n",
       "    <tr>\n",
       "      <th>1</th>\n",
       "      <td>0</td>\n",
       "      <td>0</td>\n",
       "      <td>1</td>\n",
       "      <td>0</td>\n",
       "      <td>ahbDELrW7CqFbOVePbF5-Q</td>\n",
       "      <td>0.0</td>\n",
       "      <td>0.0</td>\n",
       "      <td>0.0</td>\n",
       "      <td>0.0</td>\n",
       "      <td>0.0</td>\n",
       "      <td>1.0</td>\n",
       "      <td>0.0</td>\n",
       "      <td>0.0</td>\n",
       "      <td>0.0</td>\n",
       "      <td>1.000000</td>\n",
       "    </tr>\n",
       "    <tr>\n",
       "      <th>2</th>\n",
       "      <td>0</td>\n",
       "      <td>1</td>\n",
       "      <td>0</td>\n",
       "      <td>0</td>\n",
       "      <td>DfD-xc8788c081WiFjluTA</td>\n",
       "      <td>0.0</td>\n",
       "      <td>0.0</td>\n",
       "      <td>1.0</td>\n",
       "      <td>1.0</td>\n",
       "      <td>0.0</td>\n",
       "      <td>0.0</td>\n",
       "      <td>0.0</td>\n",
       "      <td>0.0</td>\n",
       "      <td>1.0</td>\n",
       "      <td>1.000000</td>\n",
       "    </tr>\n",
       "    <tr>\n",
       "      <th>3</th>\n",
       "      <td>0</td>\n",
       "      <td>1</td>\n",
       "      <td>0</td>\n",
       "      <td>0</td>\n",
       "      <td>Gv8u5bX_Kd7HG7jkeF_vWA</td>\n",
       "      <td>0.0</td>\n",
       "      <td>0.0</td>\n",
       "      <td>0.0</td>\n",
       "      <td>0.0</td>\n",
       "      <td>0.0</td>\n",
       "      <td>1.0</td>\n",
       "      <td>0.0</td>\n",
       "      <td>0.0</td>\n",
       "      <td>-1.0</td>\n",
       "      <td>-0.333333</td>\n",
       "    </tr>\n",
       "    <tr>\n",
       "      <th>4</th>\n",
       "      <td>0</td>\n",
       "      <td>0</td>\n",
       "      <td>1</td>\n",
       "      <td>0</td>\n",
       "      <td>UEEDnMulA6q6I_q9HDxpEA</td>\n",
       "      <td>0.0</td>\n",
       "      <td>0.0</td>\n",
       "      <td>0.0</td>\n",
       "      <td>0.0</td>\n",
       "      <td>-1.0</td>\n",
       "      <td>0.0</td>\n",
       "      <td>0.0</td>\n",
       "      <td>0.0</td>\n",
       "      <td>0.0</td>\n",
       "      <td>-1.000000</td>\n",
       "    </tr>\n",
       "  </tbody>\n",
       "</table>\n",
       "</div>"
      ],
      "text/plain": [
       "   Smoking_yes  Wifi_free  Wifi_no  Wifi_paid             business_id  Topic0  \\\n",
       "0            0          0        1          0  Bh5VbI_9msk3GaD0kiKkmg     0.0   \n",
       "1            0          0        1          0  ahbDELrW7CqFbOVePbF5-Q     0.0   \n",
       "2            0          1        0          0  DfD-xc8788c081WiFjluTA     0.0   \n",
       "3            0          1        0          0  Gv8u5bX_Kd7HG7jkeF_vWA     0.0   \n",
       "4            0          0        1          0  UEEDnMulA6q6I_q9HDxpEA     0.0   \n",
       "\n",
       "   Topic2  Topic3  Topic4  Topic5  Topic6  Topic7  Topic8  Topic9    Topic1  \n",
       "0     0.0     1.0    -1.0     0.0     0.0    -1.0     0.0     0.0 -0.384615  \n",
       "1     0.0     0.0     0.0     0.0     1.0     0.0     0.0     0.0  1.000000  \n",
       "2     0.0     1.0     1.0     0.0     0.0     0.0     0.0     1.0  1.000000  \n",
       "3     0.0     0.0     0.0     0.0     1.0     0.0     0.0    -1.0 -0.333333  \n",
       "4     0.0     0.0     0.0    -1.0     0.0     0.0     0.0     0.0 -1.000000  "
      ]
     },
     "execution_count": 425,
     "metadata": {},
     "output_type": "execute_result"
    }
   ],
   "source": [
    "df = df.merge(topic, how = 'left', left_on = 'business_id', right_on = 'business_id')\n",
    "df.iloc[:5, -15:]"
   ]
  },
  {
   "cell_type": "code",
   "execution_count": 426,
   "metadata": {},
   "outputs": [],
   "source": [
    "df.iloc[:, -10:] = df.iloc[:, -10:].fillna(0)"
   ]
  },
  {
   "cell_type": "code",
   "execution_count": 428,
   "metadata": {},
   "outputs": [],
   "source": [
    "# after feature selection using the methods included in the next part in this file. \n",
    "# we drop these columns which are not significant in all methods\n",
    "# Note: You should run the code in the next part in this file!\n",
    "\n",
    "drop_features = ['BYOB', \n",
    "                'BYOBCorkage_no',\n",
    "                'BYOBCorkage_yes_corkage',\n",
    "                'BYOBCorkage_yes_free',\n",
    "                'AcceptsBitcoin',\n",
    "                'CoatCheck',\n",
    "                'Corkage',\n",
    "                'DogsAllowed',\n",
    "                'GoodForDancing',\n",
    "                'GoodForDessert',\n",
    "                'HappyHour',\n",
    "                'BGM',\n",
    "                'DJ',\n",
    "                'Jukebox',\n",
    "                'Karaoke',\n",
    "                'Live',\n",
    "                'NoMusic',\n",
    "                'Wheelchair',\n",
    "                'Latenight',\n",
    "                'AgesAllowed_18plus',\n",
    "                'AgesAllowed_19plus',\n",
    "                'AgesAllowed_21plus',\n",
    "                'AgesAllowed_allages'\n",
    "                ]"
   ]
  },
  {
   "cell_type": "code",
   "execution_count": 429,
   "metadata": {},
   "outputs": [],
   "source": [
    "df = df.drop(drop_features, axis = 1)"
   ]
  },
  {
   "cell_type": "code",
   "execution_count": 466,
   "metadata": {
    "colab": {},
    "colab_type": "code",
    "id": "FKtKSl_Nv8Sd"
   },
   "outputs": [],
   "source": [
    "features = df.drop(['stars', 'business_id'], axis = 1).columns"
   ]
  },
  {
   "cell_type": "code",
   "execution_count": 467,
   "metadata": {
    "colab": {},
    "colab_type": "code",
    "id": "FmyFQkMYv8Sf",
    "outputId": "47e29103-41ad-4285-a78a-e5cc1b890cf2"
   },
   "outputs": [
    {
     "data": {
      "text/plain": [
       "65"
      ]
     },
     "execution_count": 467,
     "metadata": {},
     "output_type": "execute_result"
    }
   ],
   "source": [
    "len(features)"
   ]
  },
  {
   "cell_type": "code",
   "execution_count": 432,
   "metadata": {},
   "outputs": [],
   "source": [
    "import pandas as pd\n",
    "df.to_csv('restaurant_final.csv', index = False)"
   ]
  },
  {
   "cell_type": "code",
   "execution_count": null,
   "metadata": {},
   "outputs": [],
   "source": []
  },
  {
   "cell_type": "code",
   "execution_count": null,
   "metadata": {},
   "outputs": [],
   "source": []
  },
  {
   "cell_type": "code",
   "execution_count": null,
   "metadata": {},
   "outputs": [],
   "source": []
  },
  {
   "cell_type": "markdown",
   "metadata": {},
   "source": [
    "#### Following parts are the feature selection process"
   ]
  },
  {
   "cell_type": "code",
   "execution_count": 449,
   "metadata": {},
   "outputs": [],
   "source": [
    "import pandas as pd\n",
    "df = pd.read_csv('restaurant_final.csv')"
   ]
  },
  {
   "cell_type": "code",
   "execution_count": 450,
   "metadata": {},
   "outputs": [
    {
     "data": {
      "text/plain": [
       "(55457, 67)"
      ]
     },
     "execution_count": 450,
     "metadata": {},
     "output_type": "execute_result"
    }
   ],
   "source": [
    "df.shape"
   ]
  },
  {
   "cell_type": "code",
   "execution_count": 451,
   "metadata": {
    "colab": {},
    "colab_type": "code",
    "id": "auou9I3lv8Sj"
   },
   "outputs": [],
   "source": [
    "X = df.drop(['stars'], axis = 1)\n",
    "y = df['stars']"
   ]
  },
  {
   "cell_type": "code",
   "execution_count": 452,
   "metadata": {},
   "outputs": [
    {
     "data": {
      "text/plain": [
       "0    34005\n",
       "1    21452\n",
       "Name: stars, dtype: int64"
      ]
     },
     "execution_count": 452,
     "metadata": {},
     "output_type": "execute_result"
    }
   ],
   "source": [
    "df['stars'].value_counts()"
   ]
  },
  {
   "cell_type": "code",
   "execution_count": 453,
   "metadata": {
    "colab": {},
    "colab_type": "code",
    "id": "4Smrs4JVv8Sm",
    "outputId": "b9f0576f-0d58-4009-8a14-43e11080d79c"
   },
   "outputs": [
    {
     "name": "stdout",
     "output_type": "stream",
     "text": [
      "(55457, 66)\n",
      "(55457,)\n"
     ]
    }
   ],
   "source": [
    "# check out the shape of the dataset\n",
    "print(X.shape)\n",
    "print(y.shape)"
   ]
  },
  {
   "cell_type": "code",
   "execution_count": 456,
   "metadata": {},
   "outputs": [],
   "source": [
    "X = df.drop(['business_id'], axis = 1)"
   ]
  },
  {
   "cell_type": "code",
   "execution_count": 459,
   "metadata": {},
   "outputs": [],
   "source": [
    "X.drop(['stars'], axis = 1, inplace = True)"
   ]
  },
  {
   "cell_type": "code",
   "execution_count": 460,
   "metadata": {},
   "outputs": [
    {
     "data": {
      "text/plain": [
       "(55457, 65)"
      ]
     },
     "execution_count": 460,
     "metadata": {},
     "output_type": "execute_result"
    }
   ],
   "source": [
    "X.shape"
   ]
  },
  {
   "cell_type": "code",
   "execution_count": 461,
   "metadata": {
    "colab": {},
    "colab_type": "code",
    "id": "ShNdOjoIv8Sq"
   },
   "outputs": [],
   "source": [
    "# split datasets as training set and testing set\n",
    "from sklearn.model_selection import train_test_split\n",
    "X_train, X_test, y_train, y_test = train_test_split(\n",
    "    X, y, test_size=0.3, random_state=1, stratify=y)"
   ]
  },
  {
   "cell_type": "code",
   "execution_count": 462,
   "metadata": {},
   "outputs": [
    {
     "name": "stdout",
     "output_type": "stream",
     "text": [
      "(38819, 65)\n",
      "(16638, 65)\n"
     ]
    }
   ],
   "source": [
    "print(X_train.shape)\n",
    "print(X_test.shape)"
   ]
  },
  {
   "cell_type": "code",
   "execution_count": 261,
   "metadata": {},
   "outputs": [],
   "source": [
    "train_id = X_train['business_id']\n",
    "test_id =  X_test['business_id']"
   ]
  },
  {
   "cell_type": "code",
   "execution_count": 138,
   "metadata": {},
   "outputs": [],
   "source": [
    "train_id.to_csv('train_set_id.csv', index = False)"
   ]
  },
  {
   "cell_type": "code",
   "execution_count": 139,
   "metadata": {},
   "outputs": [],
   "source": [
    "test_id.to_csv('test_set_id.csv', index = False)"
   ]
  },
  {
   "cell_type": "code",
   "execution_count": 385,
   "metadata": {},
   "outputs": [
    {
     "data": {
      "text/plain": [
       "(38819, 85)"
      ]
     },
     "execution_count": 385,
     "metadata": {},
     "output_type": "execute_result"
    }
   ],
   "source": [
    "X_train = X_train.drop('business_id', axis = 1).values\n",
    "X_train.shape"
   ]
  },
  {
   "cell_type": "code",
   "execution_count": 386,
   "metadata": {},
   "outputs": [
    {
     "data": {
      "text/plain": [
       "(16638, 85)"
      ]
     },
     "execution_count": 386,
     "metadata": {},
     "output_type": "execute_result"
    }
   ],
   "source": [
    "X_test = X_test.drop('business_id', axis = 1).values\n",
    "X_test.shape"
   ]
  },
  {
   "cell_type": "code",
   "execution_count": 463,
   "metadata": {},
   "outputs": [
    {
     "name": "stdout",
     "output_type": "stream",
     "text": [
      "(38819, 65)\n",
      "(16638, 65)\n",
      "(38819,)\n",
      "(16638,)\n"
     ]
    }
   ],
   "source": [
    "print(X_train.shape)\n",
    "print(X_test.shape)\n",
    "print(y_train.shape)\n",
    "print(y_test.shape)"
   ]
  },
  {
   "cell_type": "code",
   "execution_count": 388,
   "metadata": {},
   "outputs": [
    {
     "data": {
      "text/plain": [
       "array([[ 1.        ,  0.        ,  0.        , ...,  0.        ,\n",
       "         0.        ,  1.        ],\n",
       "       [ 0.        ,  0.        ,  0.        , ...,  0.        ,\n",
       "         0.        ,  0.        ],\n",
       "       [ 1.        ,  0.        ,  0.        , ...,  0.        ,\n",
       "         0.        , -0.45454545],\n",
       "       ...,\n",
       "       [ 0.        ,  0.        ,  0.        , ...,  0.        ,\n",
       "         0.        ,  0.        ],\n",
       "       [ 1.        ,  0.        ,  0.        , ...,  0.        ,\n",
       "         1.        ,  0.33333333],\n",
       "       [ 0.        ,  0.        ,  0.        , ...,  0.        ,\n",
       "         0.        ,  1.        ]])"
      ]
     },
     "execution_count": 388,
     "metadata": {},
     "output_type": "execute_result"
    }
   ],
   "source": [
    "X_train"
   ]
  },
  {
   "cell_type": "code",
   "execution_count": null,
   "metadata": {},
   "outputs": [],
   "source": []
  },
  {
   "cell_type": "code",
   "execution_count": 389,
   "metadata": {
    "colab": {},
    "colab_type": "code",
    "id": "efjtvcf1v8Ss",
    "outputId": "165c642c-1237-4770-8285-8ed42c5fba75"
   },
   "outputs": [],
   "source": [
    "# Stardarlize the datasets\n",
    "from sklearn.preprocessing import StandardScaler\n",
    "\n",
    "scaler = StandardScaler()\n",
    "X_train = scaler.fit_transform(X_train)\n",
    "X_test = scaler.transform(X_test)"
   ]
  },
  {
   "cell_type": "code",
   "execution_count": 390,
   "metadata": {
    "colab": {},
    "colab_type": "code",
    "id": "g_PAdMrsv8Sw",
    "outputId": "8a5d759f-17a4-4d9e-86a4-745e2a227b0d"
   },
   "outputs": [
    {
     "name": "stdout",
     "output_type": "stream",
     "text": [
      "(38819, 85)\n",
      "(38819,)\n",
      "(16638, 85)\n",
      "(16638,)\n"
     ]
    }
   ],
   "source": [
    "print(X_train.shape)\n",
    "print(y_train.shape)\n",
    "print(X_test.shape)\n",
    "print(y_test.shape)"
   ]
  },
  {
   "cell_type": "markdown",
   "metadata": {
    "colab_type": "text",
    "id": "YYeXTDbYv8Sz"
   },
   "source": [
    "### KNN Classifier to select best feature subsets"
   ]
  },
  {
   "cell_type": "code",
   "execution_count": null,
   "metadata": {
    "colab": {},
    "colab_type": "code",
    "id": "r7UnzVXcv8S0",
    "outputId": "7b6b2d65-d502-4cf5-d128-278c478ca484"
   },
   "outputs": [],
   "source": [
    "# !pip install mlxtend\n",
    "# this is the selection code for KNN.\n",
    "\n",
    "from mlxtend.plotting import plot_sequential_feature_selection as plot_sfs\n",
    "from mlxtend.feature_selection import SequentialFeatureSelector as SFS\n",
    "from sklearn.neighbors import KNeighborsClassifier\n",
    "from sklearn.metrics import roc_auc_score\n",
    "\n",
    "\n",
    "# define knn classifier, keep the parameters of n_neighbors = 3\n",
    "knn = KNeighborsClassifier(n_neighbors=3)\n",
    "\n",
    "sfs = SFS(knn, \n",
    "          k_features=1, \n",
    "          forward=False, \n",
    "          floating=False, \n",
    "          # Be serious about this parameter, n_jobs = -1 means the algorithms will use all the \n",
    "          # CPU cores, otherwise use n_jobs = 1 or 2\n",
    "          n_jobs = -1,\n",
    "          verbose = 2,\n",
    "          scoring='roc_auc', # using roc_auc as metric\n",
    "          cv=3)\n",
    "\n",
    "sfs = sfs.fit(X_train, y_train)\n",
    "\n",
    "fig1 = plot_sfs(sfs.get_metric_dict(), kind='std_dev')\n",
    "\n",
    "plt.ylim([0.5, 1])\n",
    "plt.title('Sequential Backward Selection (w. StdDev)')\n",
    "plt.grid()\n",
    "plt.show()\n"
   ]
  },
  {
   "cell_type": "code",
   "execution_count": null,
   "metadata": {
    "colab": {},
    "colab_type": "code",
    "id": "DWnIvnSnv8S3",
    "outputId": "afa1a90c-f7ed-4452-d6a1-89c3aa39d673"
   },
   "outputs": [],
   "source": [
    "# see the scores and feature selection details\n",
    "sfs.subsets_"
   ]
  },
  {
   "cell_type": "code",
   "execution_count": 0,
   "metadata": {
    "colab": {},
    "colab_type": "code",
    "id": "1LGv97NGv8S6"
   },
   "outputs": [],
   "source": []
  },
  {
   "cell_type": "markdown",
   "metadata": {
    "colab_type": "text",
    "id": "XVrDTPgNv8S8"
   },
   "source": [
    "### RandomForest Classifier"
   ]
  },
  {
   "cell_type": "code",
   "execution_count": 0,
   "metadata": {
    "colab": {},
    "colab_type": "code",
    "id": "rh4tveWVv8S9"
   },
   "outputs": [],
   "source": [
    "# this is code for the RandomForest classifier\n",
    "from sklearn.ensemble import RandomForestClassifier\n",
    "\n",
    "\n",
    "rf = RandomForestClassifier(max_depth=10, n_estimators=200, max_features=30)\n",
    "\n",
    "sfs = SFS(rf, \n",
    "          k_features=1, \n",
    "          forward=False, \n",
    "          floating=False, \n",
    "          # Be serious about this parameter, n_jobs = -1 means the algorithms will use all the \n",
    "          # CPU cores, otherwise use n_jobs = 1 or 2\n",
    "          n_jobs = -1,\n",
    "          verbose = 2,\n",
    "          scoring='roc_auc', # using roc_auc as metric\n",
    "          cv=3)\n",
    "\n",
    "sfs = sfs.fit(X_train, y_train)\n",
    "\n",
    "fig1 = plot_sfs(sfs.get_metric_dict(), kind='std_dev')\n",
    "\n",
    "plt.ylim([0.5, 1])\n",
    "plt.title('Sequential Backward Selection (w. StdDev)')\n",
    "plt.grid()\n",
    "plt.show()\n",
    "\n"
   ]
  },
  {
   "cell_type": "code",
   "execution_count": 0,
   "metadata": {
    "colab": {},
    "colab_type": "code",
    "id": "oDiSHKaKv8TA"
   },
   "outputs": [],
   "source": [
    "# see the scores and feature selection details\n",
    "sfs.subsets_"
   ]
  },
  {
   "cell_type": "code",
   "execution_count": null,
   "metadata": {},
   "outputs": [],
   "source": []
  },
  {
   "cell_type": "markdown",
   "metadata": {
    "colab_type": "text",
    "id": "Gq3efSkBv8TD"
   },
   "source": [
    "### LogisticRegression Classifier"
   ]
  },
  {
   "cell_type": "code",
   "execution_count": null,
   "metadata": {
    "colab": {},
    "colab_type": "code",
    "id": "95qmjl11v8TD",
    "outputId": "7f01e3f0-a056-4368-f623-c0feee370a5a"
   },
   "outputs": [],
   "source": [
    "# this is code for the LogisticRegression classifier\n",
    "from sklearn.linear_model import LogisticRegression\n",
    "\n",
    "\n",
    "lg = LogisticRegression()\n",
    "\n",
    "sfs = SFS(lg, \n",
    "          k_features=1, \n",
    "          forward=False, \n",
    "          floating=False, \n",
    "          # Be serious about this parameter, n_jobs = -1 means the algorithms will use all the \n",
    "          # CPU cores, otherwise use n_jobs = 1 or 2\n",
    "          n_jobs = -1,\n",
    "          verbose = 2,\n",
    "          scoring='roc_auc', # using roc_auc as metric\n",
    "          cv=3)\n",
    "\n",
    "sfs = sfs.fit(X_train, y_train)\n",
    "\n",
    "fig1 = plot_sfs(sfs.get_metric_dict(), kind='std_dev')\n",
    "\n",
    "plt.ylim([0.5, 1])\n",
    "plt.title('Sequential Backward Selection (w. StdDev)')\n",
    "plt.grid()\n",
    "plt.show()"
   ]
  },
  {
   "cell_type": "code",
   "execution_count": null,
   "metadata": {
    "colab": {},
    "colab_type": "code",
    "id": "kfkzJ51Av8TG",
    "outputId": "89de70d4-40b2-40dd-909b-491032c458d1"
   },
   "outputs": [],
   "source": [
    "# see the scores and feature selection details\n",
    "sfs.subsets_"
   ]
  },
  {
   "cell_type": "code",
   "execution_count": 0,
   "metadata": {
    "colab": {},
    "colab_type": "code",
    "id": "SpsQSNVXv8TI"
   },
   "outputs": [],
   "source": []
  },
  {
   "cell_type": "markdown",
   "metadata": {
    "colab_type": "text",
    "id": "GZeC0CSMv8TJ"
   },
   "source": [
    "### Neural Net Classifier"
   ]
  },
  {
   "cell_type": "code",
   "execution_count": null,
   "metadata": {
    "colab": {},
    "colab_type": "code",
    "id": "XSn7bD-Ev8TK",
    "outputId": "f8e451ff-f121-4ad8-a5a3-72bf1c077f6c"
   },
   "outputs": [],
   "source": [
    "# this is code for the Neural Net classifier\n",
    "from sklearn.neural_network import MLPClassifier\n",
    "\n",
    "\n",
    "Neural_Net = MLPClassifier(hidden_layer_sizes=(100,50), alpha=1)\n",
    "\n",
    "sfs = SFS(Neural_Net, \n",
    "          k_features=1, \n",
    "          forward=False, \n",
    "          floating=False, \n",
    "          # Be serious about this parameter, n_jobs = -1 means the algorithms will use all the \n",
    "          # CPU cores, otherwise use n_jobs = 1 or 2\n",
    "          n_jobs = 4,\n",
    "          verbose = 0,\n",
    "          scoring='roc_auc', # using roc_auc as metric\n",
    "          cv=3)\n",
    "\n",
    "sfs = sfs.fit(X_train, y_train)\n",
    "\n",
    "fig1 = plot_sfs(sfs.get_metric_dict(), kind='std_dev')\n",
    "\n",
    "plt.ylim([0.5, 1])\n",
    "plt.title('Sequential Backward Selection (w. StdDev)')\n",
    "plt.grid()\n",
    "plt.show()"
   ]
  },
  {
   "cell_type": "code",
   "execution_count": null,
   "metadata": {
    "colab": {},
    "colab_type": "code",
    "id": "8PZc3GGQv8TM",
    "outputId": "86bc3398-7b3f-4f7c-821d-bf6f4175166b"
   },
   "outputs": [],
   "source": [
    "# see the scores and feature selection details\n",
    "sfs.subsets_"
   ]
  },
  {
   "cell_type": "markdown",
   "metadata": {},
   "source": [
    "### RFECV feature selection method"
   ]
  },
  {
   "cell_type": "code",
   "execution_count": 8,
   "metadata": {},
   "outputs": [
    {
     "name": "stdout",
     "output_type": "stream",
     "text": [
      "Fitting estimator with 98 features.\n",
      "Fitting estimator with 97 features.\n",
      "Fitting estimator with 96 features.\n",
      "Fitting estimator with 95 features.\n",
      "Fitting estimator with 94 features.\n",
      "Fitting estimator with 93 features.\n",
      "Fitting estimator with 92 features.\n",
      "Fitting estimator with 91 features.\n",
      "Fitting estimator with 90 features.\n",
      "Fitting estimator with 89 features.\n",
      "Fitting estimator with 88 features.\n",
      "Fitting estimator with 87 features.\n",
      "Fitting estimator with 86 features.\n",
      "Fitting estimator with 85 features.\n",
      "Fitting estimator with 84 features.\n",
      "Fitting estimator with 83 features.\n",
      "Fitting estimator with 82 features.\n",
      "Fitting estimator with 81 features.\n",
      "Fitting estimator with 80 features.\n",
      "Fitting estimator with 79 features.\n",
      "Fitting estimator with 78 features.\n",
      "Fitting estimator with 77 features.\n",
      "Fitting estimator with 76 features.\n",
      "Fitting estimator with 75 features.\n",
      "Fitting estimator with 74 features.\n",
      "Fitting estimator with 73 features.\n",
      "Fitting estimator with 72 features.\n",
      "Fitting estimator with 71 features.\n",
      "Fitting estimator with 70 features.\n",
      "Fitting estimator with 69 features.\n",
      "Fitting estimator with 68 features.\n",
      "Fitting estimator with 67 features.\n",
      "Fitting estimator with 66 features.\n",
      "Fitting estimator with 65 features.\n",
      "Fitting estimator with 64 features.\n",
      "Fitting estimator with 63 features.\n",
      "Fitting estimator with 62 features.\n",
      "Fitting estimator with 61 features.\n",
      "Fitting estimator with 60 features.\n",
      "Fitting estimator with 59 features.\n",
      "Fitting estimator with 58 features.\n",
      "Fitting estimator with 57 features.\n",
      "Fitting estimator with 56 features.\n",
      "Fitting estimator with 55 features.\n",
      "Fitting estimator with 54 features.\n",
      "Fitting estimator with 53 features.\n",
      "Fitting estimator with 52 features.\n",
      "Fitting estimator with 51 features.\n",
      "Fitting estimator with 50 features.\n",
      "Fitting estimator with 49 features.\n",
      "Fitting estimator with 48 features.\n",
      "Fitting estimator with 47 features.\n",
      "Fitting estimator with 46 features.\n",
      "Fitting estimator with 45 features.\n",
      "RandomForest - Optimal number of features : 44\n"
     ]
    },
    {
     "data": {
      "image/png": "[encoded data removed]",
      "text/plain": [
       "<Figure size 432x288 with 1 Axes>"
      ]
     },
     "metadata": {
      "image/png": {
       "height": 263,
       "width": 393
      },
      "needs_background": "light"
     },
     "output_type": "display_data"
    },
    {
     "ename": "IndexError",
     "evalue": "boolean index did not match indexed array along dimension 0; dimension is 100 but corresponding boolean dimension is 98",
     "output_type": "error",
     "traceback": [
      "\u001b[1;31m---------------------------------------------------------------------------\u001b[0m",
      "\u001b[1;31mIndexError\u001b[0m                                Traceback (most recent call last)",
      "\u001b[1;32m<ipython-input-8-0f5ec5e4a487>\u001b[0m in \u001b[0;36m<module>\u001b[1;34m\u001b[0m\n\u001b[0;32m     44\u001b[0m     \u001b[0mplt\u001b[0m\u001b[1;33m.\u001b[0m\u001b[0mplot\u001b[0m\u001b[1;33m(\u001b[0m\u001b[0mrange\u001b[0m\u001b[1;33m(\u001b[0m\u001b[1;36m1\u001b[0m\u001b[1;33m,\u001b[0m \u001b[0mlen\u001b[0m\u001b[1;33m(\u001b[0m\u001b[0mrfecv\u001b[0m\u001b[1;33m.\u001b[0m\u001b[0mgrid_scores_\u001b[0m\u001b[1;33m)\u001b[0m \u001b[1;33m+\u001b[0m \u001b[1;36m1\u001b[0m\u001b[1;33m)\u001b[0m\u001b[1;33m,\u001b[0m \u001b[0mrfecv\u001b[0m\u001b[1;33m.\u001b[0m\u001b[0mgrid_scores_\u001b[0m\u001b[1;33m)\u001b[0m\u001b[1;33m\u001b[0m\u001b[1;33m\u001b[0m\u001b[0m\n\u001b[0;32m     45\u001b[0m     \u001b[0mplt\u001b[0m\u001b[1;33m.\u001b[0m\u001b[0mshow\u001b[0m\u001b[1;33m(\u001b[0m\u001b[1;33m)\u001b[0m\u001b[1;33m\u001b[0m\u001b[1;33m\u001b[0m\u001b[0m\n\u001b[1;32m---> 46\u001b[1;33m     \u001b[0mbest_features\u001b[0m\u001b[1;33m[\u001b[0m\u001b[0mname\u001b[0m\u001b[1;33m]\u001b[0m \u001b[1;33m=\u001b[0m \u001b[0mlist\u001b[0m\u001b[1;33m(\u001b[0m\u001b[0mfeatures\u001b[0m\u001b[1;33m[\u001b[0m\u001b[0mrfecv\u001b[0m\u001b[1;33m.\u001b[0m\u001b[0msupport_\u001b[0m\u001b[1;33m]\u001b[0m\u001b[1;33m)\u001b[0m\u001b[1;33m\u001b[0m\u001b[1;33m\u001b[0m\u001b[0m\n\u001b[0m",
      "\u001b[1;32mE:\\Program_Files\\Anaconda\\lib\\site-packages\\pandas\\core\\indexes\\base.py\u001b[0m in \u001b[0;36m__getitem__\u001b[1;34m(self, key)\u001b[0m\n\u001b[0;32m   3967\u001b[0m \u001b[1;33m\u001b[0m\u001b[0m\n\u001b[0;32m   3968\u001b[0m         \u001b[0mkey\u001b[0m \u001b[1;33m=\u001b[0m \u001b[0mcom\u001b[0m\u001b[1;33m.\u001b[0m\u001b[0mvalues_from_object\u001b[0m\u001b[1;33m(\u001b[0m\u001b[0mkey\u001b[0m\u001b[1;33m)\u001b[0m\u001b[1;33m\u001b[0m\u001b[1;33m\u001b[0m\u001b[0m\n\u001b[1;32m-> 3969\u001b[1;33m         \u001b[0mresult\u001b[0m \u001b[1;33m=\u001b[0m \u001b[0mgetitem\u001b[0m\u001b[1;33m(\u001b[0m\u001b[0mkey\u001b[0m\u001b[1;33m)\u001b[0m\u001b[1;33m\u001b[0m\u001b[1;33m\u001b[0m\u001b[0m\n\u001b[0m\u001b[0;32m   3970\u001b[0m         \u001b[1;32mif\u001b[0m \u001b[1;32mnot\u001b[0m \u001b[0mis_scalar\u001b[0m\u001b[1;33m(\u001b[0m\u001b[0mresult\u001b[0m\u001b[1;33m)\u001b[0m\u001b[1;33m:\u001b[0m\u001b[1;33m\u001b[0m\u001b[1;33m\u001b[0m\u001b[0m\n\u001b[0;32m   3971\u001b[0m             \u001b[1;32mreturn\u001b[0m \u001b[0mpromote\u001b[0m\u001b[1;33m(\u001b[0m\u001b[0mresult\u001b[0m\u001b[1;33m)\u001b[0m\u001b[1;33m\u001b[0m\u001b[1;33m\u001b[0m\u001b[0m\n",
      "\u001b[1;31mIndexError\u001b[0m: boolean index did not match indexed array along dimension 0; dimension is 100 but corresponding boolean dimension is 98"
     ]
    }
   ],
   "source": [
    "# RFECV feature selection method\n",
    "\n",
    "import warnings\n",
    "warnings.filterwarnings(\"ignore\")\n",
    "\n",
    "# this is code for the LogisticRegression classifier\n",
    "from sklearn.linear_model import LogisticRegression\n",
    "from sklearn.ensemble import RandomForestClassifier\n",
    "from xgboost import XGBClassifier\n",
    "from xgboost import plot_importance\n",
    "from sklearn.ensemble import GradientBoostingClassifier\n",
    "from sklearn.feature_selection import RFECV\n",
    "\n",
    "\n",
    "# Create the RFE object and compute a cross-validated score.\n",
    "names = [\n",
    "#          'XGBoost',\n",
    "#          'GBDT',\n",
    "#          'LogisticRegression',\n",
    "         'RandomForest',\n",
    "        ]\n",
    "\n",
    "classifiers = [\n",
    "#                XGBClassifier(max_depth=10, learning_rate=0.05, n_estimators=200, random_state=100),\n",
    "#                GradientBoostingClassifier(learning_rate=0.05, max_depth=10, n_estimators=200, max_features = 0.3, random_state=100),\n",
    "#                LogisticRegression(n_jobs = -1),\n",
    "               RandomForestClassifier(max_depth=10, n_estimators=200, max_features=0.3, random_state=100)\n",
    "              ]\n",
    "\n",
    "best_features = {}\n",
    "\n",
    "for (name, clf) in zip(names, classifiers):\n",
    "    \n",
    "    rfecv = RFECV(estimator=clf, step=1, cv=3,\n",
    "                  scoring='roc_auc', n_jobs = -1, verbose=1)\n",
    "    rfecv.fit(X_train, y_train)\n",
    "\n",
    "    print(name + \" - \" + \"Optimal number of features : %d\" % rfecv.n_features_)\n",
    "\n",
    "    # Plot number of features VS. cross-validation scores\n",
    "    plt.figure()\n",
    "    plt.xlabel(\"Number of features selected\")\n",
    "    plt.ylabel(\"Cross validation score (auc)\")\n",
    "    plt.plot(range(1, len(rfecv.grid_scores_) + 1), rfecv.grid_scores_)\n",
    "    plt.show()\n",
    "    best_features[name] = list(features[rfecv.support_])"
   ]
  },
  {
   "cell_type": "code",
   "execution_count": null,
   "metadata": {},
   "outputs": [],
   "source": [
    "best_features['RandomForest']"
   ]
  },
  {
   "cell_type": "markdown",
   "metadata": {},
   "source": [
    "### Best features subsets"
   ]
  },
  {
   "cell_type": "code",
   "execution_count": 25,
   "metadata": {
    "colab": {},
    "colab_type": "code",
    "id": "tq7YTSLvv8TO"
   },
   "outputs": [],
   "source": [
    "# Wrapper method LogisticRegression best subsets\n",
    "\n",
    "lg_Index = [1,\n",
    "   2,\n",
    "   3,\n",
    "   4,\n",
    "   5,\n",
    "   6,\n",
    "   7,\n",
    "   8,\n",
    "   17,\n",
    "   19,\n",
    "   20,\n",
    "   22,\n",
    "   23,\n",
    "   24,\n",
    "   25,\n",
    "   33,\n",
    "   38,\n",
    "   39,\n",
    "   40,\n",
    "   43,\n",
    "   53,\n",
    "   54,\n",
    "   55,\n",
    "   56,\n",
    "   57,\n",
    "   58,\n",
    "   59,\n",
    "   61,\n",
    "   63,\n",
    "   64,\n",
    "   66,\n",
    "   67,\n",
    "   71,\n",
    "   73,\n",
    "   74,\n",
    "   75,\n",
    "   76,\n",
    "   81,\n",
    "   83,\n",
    "   88,\n",
    "   89,\n",
    "   90,\n",
    "   93]"
   ]
  },
  {
   "cell_type": "code",
   "execution_count": 26,
   "metadata": {},
   "outputs": [
    {
     "data": {
      "text/plain": [
       "Index(['Ambience_classy', 'Ambience_divey', 'Ambience_hipster',\n",
       "       'Ambience_intimate', 'Ambience_romantic', 'Ambience_touristy',\n",
       "       'Ambience_trendy', 'Ambience_upscale', 'BikeParking',\n",
       "       'AcceptsCreditCards', 'Parking_garage', 'Parking_street',\n",
       "       'Parking_valet', 'Parking_validated', 'Caters',\n",
       "       'DietaryRestrictions_vegan', 'GoodForKids', 'GoodForBreakfast',\n",
       "       'GoodForBrunch', 'GoodForLatenight', 'Video', 'Noisy', 'Outdoor',\n",
       "       'Delivery', 'Group', 'Price', 'Reservation', 'TakeOut', 'review_count',\n",
       "       'Breakfast', 'Lunch', 'Dinner', 'Mondayophour', 'Wednesdayophour',\n",
       "       'Thursdayophour', 'Saturdayophour', 'Sundayophour',\n",
       "       'Alcohol_beer_and_wine', 'Alcohol_none', 'Attire_dressy',\n",
       "       'Attire_formal', 'Smoking_no', 'Wifi_free'],\n",
       "      dtype='object')"
      ]
     },
     "execution_count": 26,
     "metadata": {},
     "output_type": "execute_result"
    }
   ],
   "source": [
    "lg = features[lg_Index]\n",
    "lg"
   ]
  },
  {
   "cell_type": "code",
   "execution_count": 27,
   "metadata": {},
   "outputs": [],
   "source": [
    "# Wrapper method random forest best subsets\n",
    "\n",
    "rf1 = ['Ambience_hipster', 'Ambience_trendy', 'AcceptsCreditCards',\n",
    "       'Parking_garage', 'Parking_street', 'Parking_valet', 'Caters',\n",
    "       'GoodForKids', 'HasTV', 'Noisy', 'Outdoor', 'Delivery', 'Group',\n",
    "       'Price', 'Reservation', 'review_count', 'Breakfast', 'Brunch', 'Lunch',\n",
    "       'Earlynight', 'Fridayophour', 'Mondayophour', 'Sundayophour',\n",
    "       'Alcohol_full_bar', 'Alcohol_none', 'Wifi_free']"
   ]
  },
  {
   "cell_type": "code",
   "execution_count": 28,
   "metadata": {},
   "outputs": [],
   "source": [
    "# RFECV method random forest best subsets\n",
    "rf2 = ['Ambience_casual',\n",
    " 'Ambience_hipster',\n",
    " 'Ambience_trendy',\n",
    " 'BestNights_friday',\n",
    " 'BikeParking',\n",
    " 'AcceptsCreditCards',\n",
    " 'Parking_garage',\n",
    " 'Parking_lot',\n",
    " 'Parking_street',\n",
    " 'Caters',\n",
    " 'DietaryRestrictions_gluten-free',\n",
    " 'DietaryRestrictions_vegan',\n",
    " 'DriveThru',\n",
    " 'GoodForKids',\n",
    " 'GoodForDinner',\n",
    " 'GoodForLunch',\n",
    " 'HasTV',\n",
    " 'Noisy',\n",
    " 'Outdoor',\n",
    " 'Delivery',\n",
    " 'Price',\n",
    " 'Reservation',\n",
    " 'TableService',\n",
    " 'TakeOut',\n",
    " 'review_count',\n",
    " 'Breakfast',\n",
    " 'Brunch',\n",
    " 'Earlynight',\n",
    " 'Fridayophour',\n",
    " 'Mondayophour',\n",
    " 'Tuesdayophour',\n",
    " 'Wednesdayophour',\n",
    " 'Thursdayophour',\n",
    " 'Saturdayophour',\n",
    " 'Sundayophour',\n",
    " 'Alcohol_full_bar',\n",
    " 'Alcohol_none',\n",
    " 'Smoking_no',\n",
    " 'Wifi_free',\n",
    " 'Wifi_no']"
   ]
  },
  {
   "cell_type": "code",
   "execution_count": 12,
   "metadata": {},
   "outputs": [
    {
     "name": "stdout",
     "output_type": "stream",
     "text": [
      "43 26 40\n"
     ]
    }
   ],
   "source": [
    "print(len(lg), len(rf1), len(rf2))"
   ]
  },
  {
   "cell_type": "code",
   "execution_count": null,
   "metadata": {},
   "outputs": [],
   "source": []
  }
 ],
 "metadata": {
  "colab": {
   "name": "feature_selection.ipynb",
   "provenance": [],
   "version": "0.3.2"
  },
  "kernelspec": {
   "display_name": "Python 3",
   "language": "python",
   "name": "python3"
  },
  "language_info": {
   "codemirror_mode": {
    "name": "ipython",
    "version": 3
   },
   "file_extension": ".py",
   "mimetype": "text/x-python",
   "name": "python",
   "nbconvert_exporter": "python",
   "pygments_lexer": "ipython3",
   "version": "3.6.8"
  },
  "toc": {
   "base_numbering": 1,
   "nav_menu": {},
   "number_sections": false,
   "sideBar": true,
   "skip_h1_title": false,
   "title_cell": "Table of Contents",
   "title_sidebar": "Contents",
   "toc_cell": false,
   "toc_position": {},
   "toc_section_display": true,
   "toc_window_display": false
  }
 },
 "nbformat": 4,
 "nbformat_minor": 1
}
